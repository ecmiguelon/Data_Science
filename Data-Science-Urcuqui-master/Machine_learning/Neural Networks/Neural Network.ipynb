{
 "cells": [
  {
   "cell_type": "markdown",
   "metadata": {},
   "source": [
    "__Author__: Christian Camilo Urcuqui López\n",
    "\n",
    "__Date__: 2 October 2018\n",
    "\n",
    "This nootebook illustrate the basic theory from the references and illustrate their applications to make an artificial neural network with Python. In order to cover these ideas, the content is divided in the next sections:\n",
    "+ [Perceptron](#Perceptron)\n",
    "+ [Linear Perceptrons as Neurons](#Linear-Perceptrons-as-Neurons) \n",
    "+ [Load the data](#Load-the-data)\n",
    "+ [Sigmoid, Tanh, and ReLU](#Sigmoid,-Tanh,-and-ReLU)\n",
    "+ [Softmax](#Softmax)\n",
    "+ [Gradient Descent](#Gradient-Descent)\n",
    "+ [Neural Network](#Neural-Network)\n",
    "    + [Overfitting and Underfitting](#Overfitting-and-Underfitting)\n",
    "    + [Early stopping](#Early-stopping)\n",
    "    + [Regularization](#Regularization)\n",
    "    + [Dropout](#Dropout)\n",
    "+ [Scikit-learn](#Scikit-learn)\n",
    "+ [References](#References)\n",
    "\n",
    "\n",
    "# Perceptron\n",
    "\n",
    "In order to understand how the biological brain works to desingn artificial intelligence, Warren McCulloch and Walter Pitts published the first concept of a simplified brain cell [2].\n",
    "\n",
    "<img src=\"../../Utilities/warren_piits.jpg\" height=\"500\" width=\"500\"/>\n",
    "\n",
    "```\n",
    "McCulloch, W. S., & Pitts, W. (1943). A logical calculus of the ideas immanent in nervous activity. The bulletin of mathematical biophysics, 5(4), 115-133.\n",
    "```\n",
    "In their work they explained that a nerve cell can be represented as a simple logic gate with binary outputs; multiple signals arrive at the _dendrites_, are then integrated into the _cell body_, and, if the accumulated signal exceeds a certain threshold, an output signal is generated that will passed on by the _axon_.\n",
    "\n",
    "<img src=\"../../Utilities/perceptron_neuron.png\" height=\"500\" width=\"500\"/>\n",
    "\n",
    "\n",
    "\n",
    "Years ago, Frank Rosenblatt published the first concept of the perceptron at the age 1957 (Rosenblatt, F. (1958). The perceptron: a probabilistic model for information storage and organization in the brain. Psychological review, 65(6), 386.). \n",
    "\n",
    "\n",
    "<img src=\"http://www.rutherfordjournal.org/images/TAHC_rosenblatt-sepia.jpg\" height=\"200\" width=\"200\"/>\n",
    "\n",
    "From these ideas we can illustrate the representation of the biologic process in a mathematical methodology, the neuron gets its inputs along _dentrities_. Each of these incoming connections is dynamically strengthened or weakened based on how often it is used (the learn process that we have) and it's strength of each connection that determines the contribution of the input to the neuron's output. After this process, the inputs are summed together in the cell body. The sum is then transformed into a new signal that is propagated along the cell´s axon and sent off to other neurons. \n",
    "\n",
    "So, we can have the next inputs, outputs and a function:\n",
    "\n",
    "$w = [w_{1}, w_{2}, ..., w_{n}]$ it is the vector of weights for our perceptron\n",
    "\n",
    "$x = [x_{1}, x_{2}, ..., x_{n}]$ it is the vector of inputs \n",
    "\n",
    "$y = f(x \\cdot w + b)$ we can represent the function and the neuron's output, b is the _bias_ term to produce the logit"
   ]
  },
  {
   "cell_type": "markdown",
   "metadata": {},
   "source": [
    "# Linear Perceptrons as Neurons"
   ]
  },
  {
   "cell_type": "markdown",
   "metadata": {},
   "source": [
    "\n",
    "In this notebook we will explore and make the functions of a perceptron solution, in order to prove it's capacities we will use the IRIS dataset for a classification problem. For the propose of this exercise we will only explore a __binary classification problem (we don't make a model to for One-vs-all (OvA) or One-vs-rest(OvR))__\n",
    "\n",
    "This is the pseudo code of the perceptron:\n",
    "\n",
    "\n",
    "```\n",
    "1. Start with random weights: w1, ..., wn, b\n",
    "2. For every misclassified point(X1, ..., Xn):\n",
    "    2.1. if prediction = 0:\n",
    "        - For i = 1 ... n:\n",
    "            - Change Wi + $\\alpha$ Xi\n",
    "        - Change b to b + $\\alpha$\n",
    "    2.2 if prediction = 1:\n",
    "        - For i = 1 ... n:\n",
    "            - Change Wi - $\\alpha$ Xi\n",
    "        - Change b to b - $\\alpha$\n",
    "\n",
    "```\n",
    "\n",
    "Pay attention that right now we have two hyperparameters, they are $\\alpha$ and $b$"
   ]
  },
  {
   "cell_type": "code",
   "execution_count": 19,
   "metadata": {},
   "outputs": [],
   "source": [
    "import warnings\n",
    "warnings.filterwarnings('ignore')"
   ]
  },
  {
   "cell_type": "code",
   "execution_count": 39,
   "metadata": {},
   "outputs": [],
   "source": [
    "import numpy as np\n",
    "\n",
    "class Perceptron(object):\n",
    "  \n",
    "    \"\"\"Perceptron classifier\n",
    "    \n",
    "    Parameters\n",
    "    -----------\n",
    "    eta: float\n",
    "        It is the learning rate (between 0.0 and 1.0) remember that it is better to have a lower value\n",
    "    n_iter: int\n",
    "        Passes over the training dataset\n",
    "    \n",
    "    Attributes\n",
    "    -----------\n",
    "    w_ :1d-array\n",
    "        Weights after fitting\n",
    "    errors_ : list\n",
    "        Number of misclassifications in every epoch\n",
    "        \n",
    "    \"\"\"\n",
    "    # Setting the random seed\n",
    "    np.random.seed(42)\n",
    "    \n",
    "    \n",
    "    def __init__(self, eta=0.01, n_iter=10):\n",
    "        self.eta = eta # learning rate\n",
    "        self.n_iter = n_iter # number of iterations\n",
    "        \n",
    "    def fit(self, X, y):\n",
    "        \"\"\" Fit training data.\n",
    "        \n",
    "        Parameters\n",
    "        ----------\n",
    "        X: {array-like}, shape = [n_samples, n_features]\n",
    "            Training vectors, where n_samples\n",
    "            is the numbner of samples and  n_features is the number of features\n",
    "        y: array-like, shape = [n_samples]\n",
    "            Target values.\n",
    "        \n",
    "        Returns\n",
    "        ----------\n",
    "        self: object       \n",
    "        \n",
    "        \"\"\"\n",
    "        \n",
    "        self.w_ = np.zeros(1 + X.shape[1]) # this line makes a vector of zeros which represents the weights\n",
    "                                           # the position is going to save the bias \n",
    "        self.errors_ = []\n",
    "        \n",
    "        # the next lines is the learning process from the data\n",
    "        for _ in range(self.n_iter):\n",
    "            errors = 0 \n",
    "            for xi, target in zip(X, y):\n",
    "                # update the weigths according to the perceptron learning rule \n",
    "                update = self.eta * (target - self.predict(xi)) # learning rate * (error of Xi)\n",
    "                self.w_[1:] += update * xi\n",
    "                self.w_[0] += update\n",
    "                errors += int(update != 0.0)\n",
    "            self.errors_.append(errors)\n",
    "        return self\n",
    "        \n",
    "    def net_input(self, X):\n",
    "        \"\"\"Calculate net input\"\"\"\n",
    "        # it is useful to calculate the vector dot product \n",
    "        # Wx + d\n",
    "        return np.dot(X, self.w_[1:]) + self.w_[0]\n",
    "    \n",
    "    # Step function\n",
    "    def predict(self, X):\n",
    "        \"\"\"Return class label after unit step\"\"\"\n",
    "        return np.where(self.net_input(X) >= 0.0, 1, -1)"
   ]
  },
  {
   "cell_type": "code",
   "execution_count": 40,
   "metadata": {},
   "outputs": [],
   "source": [
    "# another way to make a perceptron\n",
    "\n",
    "import numpy as np\n",
    "\n",
    "np.random.seed(42)\n",
    "\n",
    "def stepFunction(t):\n",
    "    if t >= 0:\n",
    "        return 1\n",
    "    return 0\n",
    "\n",
    "def prediction(X, W, b):\n",
    "    return stepFunction((np.matmul(X,W)+b)[0])\n",
    "\n",
    "def perceptronStep(X, y, W, b, learn_rate = 0.01):\n",
    "    # Fill in code\n",
    "    for i in range(len(X)):\n",
    "        y_hat = prediction(X[i], W, b)\n",
    "        if y[i] - y_hat == 1:\n",
    "            W[0] += X[i][0] * learn_rate\n",
    "            W[1] += X[i][1] * learn_rate\n",
    "            b += learn_rate\n",
    "        elif y[i]-y_hat == -1:\n",
    "            W[0] -= X[i][0] * learn_rate\n",
    "            W[1] -= X[i][1] * learn_rate\n",
    "            b -= learn_rate\n",
    "    return W, b\n",
    "    \n",
    "def trainPerceptronAlgorithm(X, y, learn_rate = 0.01, num_epochs = 25):\n",
    "    x_min, x_max = min(X.T[0]), max(X.T[0])\n",
    "    y_min, y_max = min(X.T[1]), max(X.T[1])\n",
    "    # these code lines allows us to make the random W and b \n",
    "    W = np.array(np.random.rand(2,1))\n",
    "    b = np.random.rand(1)[0] + x_max\n",
    "    # These are the solution lines that get plotted below.\n",
    "    #boundary_lines = []\n",
    "    for i in range(num_epochs):\n",
    "        # In each epoch, we apply the perceptron step.\n",
    "        W, b = perceptronStep(X, y, W, b, learn_rate)\n",
    "        #boundary_lines.append((-W[0]/W[1], -b/W[1]))\n",
    "    return boundary_lines"
   ]
  },
  {
   "cell_type": "markdown",
   "metadata": {},
   "source": [
    "## Load the data\n",
    "\n",
    "Pandas is a library to load the Iris dataset from a public repository into a DataFrame Object "
   ]
  },
  {
   "cell_type": "code",
   "execution_count": 83,
   "metadata": {},
   "outputs": [
    {
     "data": {
      "text/html": [
       "<div>\n",
       "<style scoped>\n",
       "    .dataframe tbody tr th:only-of-type {\n",
       "        vertical-align: middle;\n",
       "    }\n",
       "\n",
       "    .dataframe tbody tr th {\n",
       "        vertical-align: top;\n",
       "    }\n",
       "\n",
       "    .dataframe thead th {\n",
       "        text-align: right;\n",
       "    }\n",
       "</style>\n",
       "<table border=\"1\" class=\"dataframe\">\n",
       "  <thead>\n",
       "    <tr style=\"text-align: right;\">\n",
       "      <th></th>\n",
       "      <th>sepal_length</th>\n",
       "      <th>sepal_width</th>\n",
       "      <th>petal_length</th>\n",
       "      <th>petal_width</th>\n",
       "      <th>class</th>\n",
       "    </tr>\n",
       "  </thead>\n",
       "  <tbody>\n",
       "    <tr>\n",
       "      <th>145</th>\n",
       "      <td>6.7</td>\n",
       "      <td>3.0</td>\n",
       "      <td>5.2</td>\n",
       "      <td>2.3</td>\n",
       "      <td>Iris-virginica</td>\n",
       "    </tr>\n",
       "    <tr>\n",
       "      <th>146</th>\n",
       "      <td>6.3</td>\n",
       "      <td>2.5</td>\n",
       "      <td>5.0</td>\n",
       "      <td>1.9</td>\n",
       "      <td>Iris-virginica</td>\n",
       "    </tr>\n",
       "    <tr>\n",
       "      <th>147</th>\n",
       "      <td>6.5</td>\n",
       "      <td>3.0</td>\n",
       "      <td>5.2</td>\n",
       "      <td>2.0</td>\n",
       "      <td>Iris-virginica</td>\n",
       "    </tr>\n",
       "    <tr>\n",
       "      <th>148</th>\n",
       "      <td>6.2</td>\n",
       "      <td>3.4</td>\n",
       "      <td>5.4</td>\n",
       "      <td>2.3</td>\n",
       "      <td>Iris-virginica</td>\n",
       "    </tr>\n",
       "    <tr>\n",
       "      <th>149</th>\n",
       "      <td>5.9</td>\n",
       "      <td>3.0</td>\n",
       "      <td>5.1</td>\n",
       "      <td>1.8</td>\n",
       "      <td>Iris-virginica</td>\n",
       "    </tr>\n",
       "  </tbody>\n",
       "</table>\n",
       "</div>"
      ],
      "text/plain": [
       "     sepal_length  sepal_width  petal_length  petal_width           class\n",
       "145           6.7          3.0           5.2          2.3  Iris-virginica\n",
       "146           6.3          2.5           5.0          1.9  Iris-virginica\n",
       "147           6.5          3.0           5.2          2.0  Iris-virginica\n",
       "148           6.2          3.4           5.4          2.3  Iris-virginica\n",
       "149           5.9          3.0           5.1          1.8  Iris-virginica"
      ]
     },
     "execution_count": 83,
     "metadata": {},
     "output_type": "execute_result"
    }
   ],
   "source": [
    "import pandas as pd\n",
    "\n",
    "df = pd.read_csv('https://archive.ics.uci.edu/ml/machine-learning-databases/iris/iris.data', \n",
    "                 header=None, names=['sepal_length',\n",
    "                                     'sepal_width', \n",
    "                                     'petal_length',\n",
    "                                     'petal_width',\n",
    "                                    'class'])\n",
    "df.tail()"
   ]
  },
  {
   "cell_type": "markdown",
   "metadata": {},
   "source": [
    "### Data preprocessing and visualization\n",
    "\n",
    "As I told, we will only explore a binary problem, so we will select the class labels that correspond to the 50 Iris-Setosa and 50 Iris-Versicolor flowers, and we will convert them in two interger class labels 1(Versicolor) and -1 (Setosa). Moreover, we will only extract the first feature columns (sepal length) and the third feature column (petal length) of those 100 traning samples. "
   ]
  },
  {
   "cell_type": "code",
   "execution_count": 8,
   "metadata": {},
   "outputs": [
    {
     "data": {
      "image/png": "[encoded data removed]",
      "text/plain": [
       "<Figure size 432x288 with 1 Axes>"
      ]
     },
     "metadata": {
      "needs_background": "light"
     },
     "output_type": "display_data"
    }
   ],
   "source": [
    "import matplotlib.pyplot as plt\n",
    "import numpy as np\n",
    "\n",
    "# the next lines will filter the dataset\n",
    "y = df.iloc[0:100, 4].values\n",
    "y = np.where(y=='Iris-setosa',-1,1)\n",
    "X = df.iloc[0:100, [0,2]].values\n",
    "\n",
    "# the next lines will make the scatter plot \n",
    "plt.scatter(X[:50, 0], X[:50, 1], color='red', marker='o', label='setosa')\n",
    "plt.scatter(X[50:100, 0], X[50:100, 1], color='blue', marker='x', label='versicolor')\n",
    "plt.xlabel('petal length')\n",
    "plt.ylabel('sepal length')\n",
    "plt.legend(loc='upper left')\n",
    "plt.show()"
   ]
  },
  {
   "cell_type": "markdown",
   "metadata": {},
   "source": [
    "### Training phase \n",
    "\n",
    "It is time train our previous perceptron on the Iris Data that we downloaded. The next code will plot the misclassification error for each epoch to check if the algorithm converged and found a lmit that separates the two classes. "
   ]
  },
  {
   "cell_type": "code",
   "execution_count": 41,
   "metadata": {},
   "outputs": [
    {
     "data": {
      "image/png": "[encoded data removed]",
      "text/plain": [
       "<Figure size 432x288 with 1 Axes>"
      ]
     },
     "metadata": {
      "needs_background": "light"
     },
     "output_type": "display_data"
    }
   ],
   "source": [
    "ppn = Perceptron (eta=0.1, n_iter=10)\n",
    "ppn.fit(X,y)\n",
    "plt.plot(range(1, len(ppn.errors_) + 1), ppn.errors_, marker='o')\n",
    "plt.xlabel(\"Epochs\")\n",
    "plt.ylabel(\"Number of misclassifications\")\n",
    "plt.show()"
   ]
  },
  {
   "cell_type": "markdown",
   "metadata": {},
   "source": [
    "The previous graphic shows us that the perceptron converges in the epoch 6. The next code provides us a visualization mechanism to know the decision boundaries."
   ]
  },
  {
   "cell_type": "code",
   "execution_count": 9,
   "metadata": {},
   "outputs": [],
   "source": [
    "from matplotlib.colors import ListedColormap\n",
    "\n",
    "def plot_decision_regions(X, y, classifier, resolution=0.02):\n",
    "    \n",
    "    # setup marker generator and color map, I am goint to define a number of colors and markers via ListedColormap\n",
    "    markers = ('s', 'x', 'o', '^', 'v')\n",
    "    colors = ('red', 'blue', 'lightgreen', 'gray', 'cyan')\n",
    "    cmap = ListedColormap(colors[:len(np.unique(y))])\n",
    "    \n",
    "    # plot the decision surface\n",
    "    # the next two lines define us the minimum and maximum values for the two features, so we will divide them in a pair of grids\n",
    "    x1_min, x1_max = X[:, 0].min() -1, X[:, 0].max() + 1\n",
    "    x2_min, x2_max = X[:, 1].min() -1, X[:, 1].max() + 1\n",
    "    # the next line allows us to flatten the grid arrays and create a matrix that has the same number of columns as the Iris \n",
    "    # training subset\n",
    "    xx1, xx2 =  np.meshgrid(np.arange(x1_min, x2_max, resolution), np.arange(x2_min, x2_max, resolution))\n",
    "    Z = classifier.predict(np.array([xx1.ravel(), xx2.ravel()]).T)\n",
    "    Z = Z.reshape(xx1.shape)\n",
    "    # a countour plot maps the different decision regions to different colors for each predicted class in the grid array\n",
    "    plt.contourf(xx1, xx2, Z, alpha=0.4, cmap=cmap)\n",
    "    plt.xlim(xx1.min(), xx1.max())\n",
    "    plt.ylim(xx2.min(), xx2.max())\n",
    "    \n",
    "    # plot class samples\n",
    "    for idx, cl in enumerate(np.unique(y)):\n",
    "        plt.scatter(x=X[y == cl, 0], y=X[y == cl, 1], alpha=0.8, c=cmap(idx), marker= markers[idx], label=cl)\n",
    "    "
   ]
  },
  {
   "cell_type": "code",
   "execution_count": 44,
   "metadata": {},
   "outputs": [
    {
     "data": {
      "image/png": "[encoded data removed]",
      "text/plain": [
       "<Figure size 432x288 with 1 Axes>"
      ]
     },
     "metadata": {
      "needs_background": "light"
     },
     "output_type": "display_data"
    }
   ],
   "source": [
    "plot_decision_regions(X, y, classifier=ppn)\n",
    "plt.xlabel('sepal length [cm]')\n",
    "plt.ylabel('petal length [cm]')\n",
    "plt.legend(loc='upper left')\n",
    "plt.show()"
   ]
  },
  {
   "cell_type": "markdown",
   "metadata": {},
   "source": [
    "According to Frank Rosenblatt, Perceptron is a good choice to revolve binary problems that are separated by a linear hyperplane (he proved this mathematically). However, if classes cannot be separated perfectly by such a linear decision boundary, the weights will never stop updating unless we set a maximum number of epochs. "
   ]
  },
  {
   "cell_type": "markdown",
   "metadata": {},
   "source": [
    "It is important to know that a perceptron allows us to separate a binary problem by a linear hyperplane, and through its result, we can use a step function in order to interpret them. In the last example we got two categorizations red for setoza and blue for versicolor, some of the step funcions are Sigmoid, Tanh, and ReLU. We can illustrate the representation of a perceptron like a combination of the next components. \n",
    "\n",
    "![image](../../Utilities/perceptron_general.png)\n",
    "\n"
   ]
  },
  {
   "cell_type": "markdown",
   "metadata": {},
   "source": [
    "## AND Perceptron \n",
    "\n",
    "\n",
    "The idea with the next example is to determine the correct weights and bias in order to make an AND Perceptron."
   ]
  },
  {
   "cell_type": "code",
   "execution_count": 7,
   "metadata": {},
   "outputs": [
    {
     "name": "stdout",
     "output_type": "stream",
     "text": [
      "Nice!  You got it all correct.\n",
      "\n",
      "Input 1    Input 2    Linear Combination    Activation Output   Is Correct\n",
      "      0          0                  -1.0                    0          Yes\n",
      "      0          1                  -0.5                    0          Yes\n",
      "      1          0                  -0.5                    0          Yes\n",
      "      1          1                   0.0                    1          Yes\n"
     ]
    }
   ],
   "source": [
    "import pandas as pd\n",
    "\n",
    "# TODO: Set weight1, weight2, and bias\n",
    "weight1 = 0.5\n",
    "weight2 = 0.5\n",
    "bias = -1\n",
    "\n",
    "\n",
    "# DON'T CHANGE ANYTHING BELOW\n",
    "# Inputs and outputs\n",
    "test_inputs = [(0, 0), (0, 1), (1, 0), (1, 1)]\n",
    "correct_outputs = [False, False, False, True]\n",
    "outputs = []\n",
    "\n",
    "# Generate and check output\n",
    "for test_input, correct_output in zip(test_inputs, correct_outputs):    \n",
    "    linear_combination = weight1 * test_input[0] + weight2 * test_input[1] + bias\n",
    "    output = int(linear_combination >= 0)\n",
    "    is_correct_string = 'Yes' if output == correct_output else 'No'\n",
    "    outputs.append([test_input[0], test_input[1], linear_combination, output, is_correct_string])\n",
    "\n",
    "# Print output\n",
    "num_wrong = len([output[4] for output in outputs if output[4] == 'No'])\n",
    "output_frame = pd.DataFrame(outputs, columns=['Input 1', '  Input 2', '  Linear Combination', '  Activation Output', '  Is Correct'])\n",
    "if not num_wrong:\n",
    "    print('Nice!  You got it all correct.\\n')\n",
    "else:\n",
    "    print('You got {} wrong.  Keep trying!\\n'.format(num_wrong))\n",
    "print(output_frame.to_string(index=False))"
   ]
  },
  {
   "cell_type": "markdown",
   "metadata": {},
   "source": [
    "## OR Perceptron\n",
    "\n",
    "The idea with the next example is to determine the correct weights and bias in order to make an OR Perceptron."
   ]
  },
  {
   "cell_type": "code",
   "execution_count": 11,
   "metadata": {},
   "outputs": [
    {
     "name": "stdout",
     "output_type": "stream",
     "text": [
      "Nice!  You got it all correct.\n",
      "\n",
      "Input 1    Input 2    Linear Combination    Activation Output   Is Correct\n",
      "      0          0                  -0.5                    0          Yes\n",
      "      0          1                   0.0                    1          Yes\n",
      "      1          0                   0.0                    1          Yes\n",
      "      1          1                   0.5                    1          Yes\n"
     ]
    }
   ],
   "source": [
    "import pandas as pd\n",
    "\n",
    "# TODO: Set weight1, weight2, and bias\n",
    "weight1 = 0.5\n",
    "weight2 = 0.5\n",
    "bias = -0.5\n",
    "\n",
    "\n",
    "# DON'T CHANGE ANYTHING BELOW\n",
    "# Inputs and outputs\n",
    "test_inputs = [(0, 0), (0, 1), (1, 0), (1, 1)]\n",
    "correct_outputs = [False, True, True, True]\n",
    "outputs = []\n",
    "\n",
    "# Generate and check output\n",
    "for test_input, correct_output in zip(test_inputs, correct_outputs):    \n",
    "    linear_combination = weight1 * test_input[0] + weight2 * test_input[1] + bias\n",
    "    output = int(linear_combination >= 0)\n",
    "    is_correct_string = 'Yes' if output == correct_output else 'No'\n",
    "    outputs.append([test_input[0], test_input[1], linear_combination, output, is_correct_string])\n",
    "\n",
    "# Print output\n",
    "num_wrong = len([output[4] for output in outputs if output[4] == 'No'])\n",
    "output_frame = pd.DataFrame(outputs, columns=['Input 1', '  Input 2', '  Linear Combination', '  Activation Output', '  Is Correct'])\n",
    "if not num_wrong:\n",
    "    print('Nice!  You got it all correct.\\n')\n",
    "else:\n",
    "    print('You got {} wrong.  Keep trying!\\n'.format(num_wrong))\n",
    "print(output_frame.to_string(index=False))"
   ]
  },
  {
   "cell_type": "markdown",
   "metadata": {},
   "source": [
    "## NOT Perceptron"
   ]
  },
  {
   "cell_type": "code",
   "execution_count": 12,
   "metadata": {},
   "outputs": [
    {
     "name": "stdout",
     "output_type": "stream",
     "text": [
      "Nice!  You got it all correct.\n",
      "\n",
      "Input 1    Input 2    Linear Combination    Activation Output   Is Correct\n",
      "      0          0                   0.0                    1          Yes\n",
      "      0          1                  -0.5                    0          Yes\n",
      "      1          0                   0.0                    1          Yes\n",
      "      1          1                  -0.5                    0          Yes\n"
     ]
    }
   ],
   "source": [
    "import pandas as pd\n",
    "\n",
    "# TODO: Set weight1, weight2, and bias\n",
    "weight1 = 0.0\n",
    "weight2 = -0.5\n",
    "bias = 0.0\n",
    "\n",
    "\n",
    "# DON'T CHANGE ANYTHING BELOW\n",
    "# Inputs and outputs\n",
    "test_inputs = [(0, 0), (0, 1), (1, 0), (1, 1)]\n",
    "correct_outputs = [True, False, True, False]\n",
    "outputs = []\n",
    "\n",
    "# Generate and check output\n",
    "for test_input, correct_output in zip(test_inputs, correct_outputs):\n",
    "    linear_combination = weight1 * test_input[0] + weight2 * test_input[1] + bias\n",
    "    output = int(linear_combination >= 0)\n",
    "    is_correct_string = 'Yes' if output == correct_output else 'No'\n",
    "    outputs.append([test_input[0], test_input[1], linear_combination, output, is_correct_string])\n",
    "\n",
    "# Print output\n",
    "num_wrong = len([output[4] for output in outputs if output[4] == 'No'])\n",
    "output_frame = pd.DataFrame(outputs, columns=['Input 1', '  Input 2', '  Linear Combination', '  Activation Output', '  Is Correct'])\n",
    "if not num_wrong:\n",
    "    print('Nice!  You got it all correct.\\n')\n",
    "else:\n",
    "    print('You got {} wrong.  Keep trying!\\n'.format(num_wrong))\n",
    "print(output_frame.to_string(index=False))"
   ]
  },
  {
   "cell_type": "markdown",
   "metadata": {},
   "source": [
    "## XOR Perceptron \n",
    "\n",
    "The only way to make a XOR Perceptron is to make a multilayer perceptron integrated by  OR and NAND (NAND is an interconnection of an AND and NOT logic ports) neurons whose results are going to be a part of a AND neuron."
   ]
  },
  {
   "cell_type": "markdown",
   "metadata": {},
   "source": [
    "## Error Function\n",
    "\n",
    "How far are we from the objective? The error function (Log-loss error function) allows us to take the best direction, but, this function needs to be differentiable and continuous. In our case, we are going to talk about the __gradient descent__.\n",
    "\n",
    "<img src=\"../../Utilities/gradient_interpretation.png\" height=\"500\" width=\"500\"/>\n",
    "\n",
    "The idea is to implement a way to find the global optimum which has the best decision for our weights with a low cost.\n",
    "\n",
    "<img src=\"https://cdn-images-1.medium.com/max/1600/0*rBQI7uBhBKE8KT-X.png\" height=\"500\" width=\"500\"/>"
   ]
  },
  {
   "cell_type": "markdown",
   "metadata": {},
   "source": [
    "In order to apply gradient descent we must talk about continuous predictions, in other words, we must move from discrete predictions to continuous. Each probability is a representation of the distance of the line (the regresion function for our example).\n",
    "\n",
    "We can talk about another kind of (single-layer) neural network model. __Adaline (ADAptive LINear Element)__ is a neural artificial network proposed by the professor Bernard Widrow and his student Ted Hoff in 1960. The difference between Adaline and Perceptron is that the new one uses continuous predicted values (from the net input) to learn the model coefficients, which is more \"powerful\" since it tells us by \"how much \" we are right or wrong.\n",
    "\n",
    "<img src=\"https://sebastianraschka.com/images/faq/diff-perceptron-adaline-neuralnet/4.png\" />\n",
    "\n",
    "\n",
    "The way to move to descriptive predictions to continuous predictions is to change the step function (_activation function_) to a sigmoid function.\n",
    "\n",
    "\n",
    "<img src=\"https://cdn-images-1.medium.com/max/1600/1*_pnIqR8WmPVYyEmhoc_v-A.png\" height=\"500\" width=\"500\"/>\n"
   ]
  },
  {
   "cell_type": "code",
   "execution_count": 5,
   "metadata": {},
   "outputs": [],
   "source": [
    "class AdalineGD(object):\n",
    "    \"\"\"ADaptive LInear NEuron classifier\n",
    "    \n",
    "    Parameters\n",
    "    ----------\n",
    "    eta: float\n",
    "        Learning rate (between 0.0 and 1.0)\n",
    "    n_iter: int\n",
    "        Passes over the training dataset.\n",
    "        \n",
    "    Attributes\n",
    "    ----------\n",
    "    w_: 1d-array\n",
    "        Weights after fitting\n",
    "    errors_: list\n",
    "        Number of missclassifications in every epoch\n",
    "        \n",
    "    \"\"\"\n",
    "    def __init__(self, eta=0.01, n_iter=50):\n",
    "        self.eta = eta\n",
    "        self.n_iter = n_iter\n",
    "    \n",
    "    def fit(self, X, y):\n",
    "        \"\"\" Fit training data.\n",
    "        \n",
    "        Parameters\n",
    "        ----------\n",
    "        X : {array-like}, shape= [n_samples, n_features]\n",
    "            Training vectors, \n",
    "            where n_samples is the number of samples and\n",
    "            n_features is the number of features\n",
    "        y: array-like, shape= [n_samples]\n",
    "            Target values.\n",
    "            \n",
    "        Returns\n",
    "        ----------\n",
    "        self: object\n",
    "        \n",
    "        \"\"\"\n",
    "        self.w_ = np.zeros(1 +X.shape[1])\n",
    "        self.cost_ = []\n",
    "        for i in range(self.n_iter):\n",
    "            output = self.net_input(X)\n",
    "            errors = (y - output)\n",
    "            self.w_[1:] += self.eta * X.T.dot(errors)\n",
    "            self.w_[0] += self.eta * errors.sum()\n",
    "            cost = (errors**2).sum() / 2.0\n",
    "            self.cost_.append(cost)\n",
    "        return self\n",
    "        \n",
    "    def net_input(self, X):\n",
    "        \"\"\"Calculate net input\"\"\"\n",
    "        return np.dot(X, self.w_[1:]) + self.w_[0]\n",
    "\n",
    "    def activation(self, X):\n",
    "        \"\"\"Compute linear activation\"\"\"\n",
    "        return self.net_input(X)\n",
    "\n",
    "    def predict(self, X):\n",
    "        \"\"\"Return class label after unit step\"\"\"\n",
    "        return np.where(self.activation(X) >= 0.0, 1, -1)\n"
   ]
  },
  {
   "cell_type": "code",
   "execution_count": 14,
   "metadata": {},
   "outputs": [
    {
     "data": {
      "image/png": "[encoded data removed]",
      "text/plain": [
       "<Figure size 576x288 with 2 Axes>"
      ]
     },
     "metadata": {
      "needs_background": "light"
     },
     "output_type": "display_data"
    }
   ],
   "source": [
    "import matplotlib.pyplot as plt\n",
    "import numpy as np\n",
    "\n",
    "fig, ax = plt.subplots(nrows=1, ncols=2, figsize=(8, 4))\n",
    "ada1 = AdalineGD(n_iter=10, eta=0.01).fit(X, y)\n",
    "ax[0].plot(range(1, len(ada1.cost_) + 1), np.log10(ada1.cost_), marker='o')\n",
    "ax[0].set_xlabel('Epochs')\n",
    "ax[0].set_ylabel('log(Sum-squared-error)')\n",
    "ax[0].set_title('Adaline - Learning rate 0.01')\n",
    "ada2 = AdalineGD(n_iter=10, eta=0.0001).fit(X, y)\n",
    "ax[1].plot(range(1, len(ada2.cost_) + 1), ada2.cost_, marker='o')\n",
    "ax[1].set_xlabel('Epochs')\n",
    "ax[1].set_ylabel('Sum-squared-error')\n",
    "ax[1].set_title('Adaline - Learning rate 0.0001')\n",
    "plt.show()"
   ]
  },
  {
   "cell_type": "markdown",
   "metadata": {},
   "source": [
    "From the last example we can see the problem to use a learning rate that is too large - instead to minimize the error function we are increasing it in each epoch and the reason is that we _overshoot_ the global minimum -. However, when we chosen the learning rate =  0.0001 the algorithm will requiere a large of epochs to converge. \n",
    "\n",
    "<img src=\"https://pbs.twimg.com/media/DK26ibcXUAEOwel.jpg\" height=\"500\" width=\"500\"/>"
   ]
  },
  {
   "cell_type": "markdown",
   "metadata": {},
   "source": [
    "### Feature Scaling\n",
    "\n",
    "Let's see something interesting of our two variables and their distribution."
   ]
  },
  {
   "cell_type": "code",
   "execution_count": 6,
   "metadata": {},
   "outputs": [
    {
     "data": {
      "text/plain": [
       "Text(0.5,1,'Versicolor')"
      ]
     },
     "execution_count": 6,
     "metadata": {},
     "output_type": "execute_result"
    },
    {
     "data": {
      "image/png": "[encoded data removed]",
      "text/plain": [
       "<Figure size 432x288 with 2 Axes>"
      ]
     },
     "metadata": {
      "needs_background": "light"
     },
     "output_type": "display_data"
    }
   ],
   "source": [
    "import seaborn as sns\n",
    "import matplotlib.pyplot as plt\n",
    "import numpy as np\n",
    "\n",
    "fig, ax = plt.subplots(1,2)\n",
    "sns.distplot(X[:,0], ax=ax[0]).set_title(\"Setosa\")\n",
    "sns.distplot(X[:,1], ax=ax[1]).set_title(\"Versicolor\")"
   ]
  },
  {
   "cell_type": "markdown",
   "metadata": {},
   "source": [
    "Some machine learning algorithms require a feature scaling process for optimal performance and Gradient descent is one of the many methods that benefit from it. \n",
    "\n",
    "We can find some techniques to scale and of them is a method called _standarization_, which gives our data the property of a standard normal distribution. The mean of each feature is centered at value 0 and the feature column has a standard deviation of 1.\n",
    "\n",
    "This the formula to apply the standarization:\n",
    "\n",
    "$x_{j}=\\frac{x_{j}-\\mu_{j}}{\\sigma_{j}}$"
   ]
  },
  {
   "cell_type": "code",
   "execution_count": 7,
   "metadata": {},
   "outputs": [
    {
     "data": {
      "text/plain": [
       "Text(0.5,1,'Versicolor - standarized')"
      ]
     },
     "execution_count": 7,
     "metadata": {},
     "output_type": "execute_result"
    },
    {
     "data": {
      "image/png": "[encoded data removed]",
      "text/plain": [
       "<Figure size 432x288 with 2 Axes>"
      ]
     },
     "metadata": {
      "needs_background": "light"
     },
     "output_type": "display_data"
    }
   ],
   "source": [
    "X_std = np.copy(X)\n",
    "X_std[:,0] = (X[:,0] - X[:,0].mean()) / X[:,0].std()\n",
    "X_std[:,1] = (X[:,1] - X[:,1].mean()) / X[:,1].std()\n",
    "\n",
    "fig, ax = plt.subplots(1,2)\n",
    "sns.distplot(X_std[:,0], ax=ax[0]).set_title(\"Setosa - standarized\")\n",
    "sns.distplot(X_std[:,1], ax=ax[1]).set_title(\"Versicolor - standarized\")"
   ]
  },
  {
   "cell_type": "markdown",
   "metadata": {},
   "source": [
    "After to apply the standarization, we will train the Adaline again and see that it now converges using a learning rate _n_=0.01"
   ]
  },
  {
   "cell_type": "code",
   "execution_count": 45,
   "metadata": {},
   "outputs": [
    {
     "data": {
      "image/png": "[encoded data removed]",
      "text/plain": [
       "<Figure size 432x288 with 1 Axes>"
      ]
     },
     "metadata": {
      "needs_background": "light"
     },
     "output_type": "display_data"
    },
    {
     "data": {
      "image/png": "[encoded data removed]",
      "text/plain": [
       "<Figure size 432x288 with 1 Axes>"
      ]
     },
     "metadata": {
      "needs_background": "light"
     },
     "output_type": "display_data"
    }
   ],
   "source": [
    "ada = AdalineGD(n_iter=15, eta=0.01)\n",
    "ada.fit(X_std, y)\n",
    "plot_decision_regions(X_std, y, classifier=ada)\n",
    "plt.title('Adaline - Gradient Descent')\n",
    "plt.xlabel('sepal length [standardized]')\n",
    "plt.ylabel('petal length [standardized]')\n",
    "plt.legend(loc='upper left')\n",
    "plt.show()\n",
    "plt.plot(range(1, len(ada.cost_) + 1), ada.cost_, marker='o')\n",
    "plt.xlabel('Epochs')\n",
    "plt.ylabel('Sum-squared-error')\n",
    "plt.show()"
   ]
  },
  {
   "cell_type": "markdown",
   "metadata": {},
   "source": [
    "### Large scale machine learning and stochastic gradient descent\n",
    "\n",
    "As we saw a way to reduce the cost function is taking a step into the opposite direction of a gradient that is calculated from the whole training set; this is why this approach is sometimes also referred to as _batch gradient descent_.\n",
    "\n",
    "Now imagine we have a very large dataset with millions of data points. Running batch gradient descent can be computationally quite costly in such scenarios since we need to reevaluate the whole training dataset each time we take one step towards the global minimum. \n",
    "\n",
    "Another alternative to batch gradient descent is _stochastic gradient descent_, sometimes also called _iterative_ or _on-line_ gradient descent. Instead of updating the weights based on the sum of the accumulated errors over all samples $x^{(i)}$:\n",
    "\n",
    "$$\\Delta w =n \\sum_{i}(y^{(i)}- \\phi (z^{(i)})x^{(i)}$$\n",
    "\n",
    "We need to update the weights incrementally for each traning sample:\n",
    "\n",
    "$$n(y^{(i)}-\\phi (z^{(i)}))x^{(i)}$$\n",
    " "
   ]
  },
  {
   "cell_type": "code",
   "execution_count": 2,
   "metadata": {},
   "outputs": [],
   "source": [
    "from numpy.random import seed\n",
    "\n",
    "class AdalineSGD(object):\n",
    "    \"\"\"ADAptive LInear NEuron classifier\n",
    "    \n",
    "    Parameters\n",
    "    ----------\n",
    "    eta: float\n",
    "        Learning rate (between 0.0 and 1.0)\n",
    "    n_iter: int\n",
    "        Passes over the training dataset.\n",
    "        \n",
    "    Attributes\n",
    "    ----------\n",
    "    w_: 1d-array\n",
    "        Weights after fitting\n",
    "    errors_: list\n",
    "        Number of missclassifications in every epoch\n",
    "    shuffle: bool (default: True)\n",
    "        Shuffles traning data every epoch\n",
    "        if True to prevent cycles\n",
    "    random_state: int (default: None)\n",
    "        Set random state for shuffling \n",
    "        and intializing the weights\n",
    "    \"\"\"\n",
    "    def __init__(self, eta=0.01, n_iter=10, shuffle=True, random_state=None):\n",
    "        self.eta = eta\n",
    "        self.n_iter = n_iter\n",
    "        self.w_initialized = False\n",
    "        self.shuffle = shuffle\n",
    "        \n",
    "        if random_state:\n",
    "            seed(random_state)\n",
    "    \n",
    "    def fit(self, X, y):\n",
    "        \"\"\" Fit training data.\n",
    "        \n",
    "        Parameters\n",
    "        ----------\n",
    "        X : {array-like}, shape= [n_samples, n_features]\n",
    "            Training vectors, \n",
    "            where n_samples is the number of samples and\n",
    "            n_features is the number of features\n",
    "        y: array-like, shape= [n_samples]\n",
    "            Target values.\n",
    "            \n",
    "        Returns\n",
    "        ----------\n",
    "        self: object\n",
    "        \n",
    "        \"\"\"\n",
    "        self._initialize_weights(X.shape[1])\n",
    "        self.cost_ = []\n",
    "        for i in range(self.n_iter):\n",
    "            if self.shuffle:\n",
    "                X, y = self._shuffle(X, y)\n",
    "            cost = []\n",
    "            for xi, target in zip(X, y):\n",
    "                cost.append(self._update_weights(xi, target))\n",
    "            avg_cost = sum(cost) / len(y)\n",
    "            self.cost_.append(avg_cost)\n",
    "        return self\n",
    "    \n",
    "    def partial_fit(self, X, y):\n",
    "        \"\"\"Fit training data without reinitializing the weights\"\"\"\n",
    "        if not self.w_initialized:\n",
    "            self._initialize_weights(X.shape[1])\n",
    "        if y.ravel().shape[0] > 1:\n",
    "            for xi, target in zip(X, y):\n",
    "                self._update_weights(xi, target)\n",
    "        else:\n",
    "            self._update_weights(X, y)\n",
    "        return self\n",
    "    \n",
    "    def _shuffle(self, X, y):\n",
    "        \"\"\"Shuffle training data\"\"\"\n",
    "        r = np.random.permutation(len(y))\n",
    "        return X[r], y[r]\n",
    "    \n",
    "    def _initialize_weights(self, m):\n",
    "        \"\"\"Initialize weights to zeros\"\"\"\n",
    "        self.w_ = np.zeros(1 + m)\n",
    "        self.w_initialized = True\n",
    "    \n",
    "    def _update_weights(self, xi, target):\n",
    "        \"\"\"Apply Adaline learning rule to update the weights\"\"\"\n",
    "        output = self.net_input(xi)\n",
    "        error = (target - output)\n",
    "        self.w_[1:] += self.eta * xi.dot(error)\n",
    "        self.w_[0] += self.eta * error\n",
    "        cost = 0.5 * error**2\n",
    "        return cost\n",
    "    \n",
    "    def net_input(self, X):\n",
    "        \"\"\"Calculate net input\"\"\"\n",
    "        return np.dot(X, self.w_[1:]) + self.w_[0]\n",
    "    \n",
    "    def activation(self, X):\n",
    "        \"\"\"Compute linear activation\"\"\"\n",
    "        return self.net_input(X)\n",
    "    \n",
    "    def predict(self, X):\n",
    "        \"\"\"Return class label after unit step\"\"\"\n",
    "        return np.where(self.activation(X) >= 0.0, 1, -1)"
   ]
  },
  {
   "cell_type": "code",
   "execution_count": 11,
   "metadata": {},
   "outputs": [
    {
     "data": {
      "image/png": "[encoded data removed]",
      "text/plain": [
       "<Figure size 432x288 with 1 Axes>"
      ]
     },
     "metadata": {
      "needs_background": "light"
     },
     "output_type": "display_data"
    },
    {
     "data": {
      "image/png": "[encoded data removed]",
      "text/plain": [
       "<Figure size 432x288 with 1 Axes>"
      ]
     },
     "metadata": {
      "needs_background": "light"
     },
     "output_type": "display_data"
    }
   ],
   "source": [
    "ada = AdalineSGD(n_iter=15, eta=0.01, random_state=1)\n",
    "ada.fit(X_std, y)\n",
    "plot_decision_regions(X_std, y, classifier=ada)\n",
    "plt.title('Adaline - Stochastic Gradient Descent')\n",
    "plt.xlabel('sepal length [standardized]')\n",
    "plt.ylabel('petal length [standardized]')\n",
    "plt.legend(loc='upper left')\n",
    "plt.show()\n",
    "plt.plot(range(1, len(ada.cost_) + 1), ada.cost_, marker='o')\n",
    "plt.xlabel('Epochs')\n",
    "plt.ylabel('Average Cost')\n",
    "plt.show()"
   ]
  },
  {
   "cell_type": "markdown",
   "metadata": {},
   "source": [
    "## Sigmoid, Tanh, and ReLU\n",
    "\n",
    "The sigmoid function allows us to get results from 0 to 1 like a probability representation. \n",
    "\n",
    "<img src=\"https://upload.wikimedia.org/wikipedia/commons/thumb/8/88/Logistic-curve.svg/320px-Logistic-curve.svg.png\" height=\"250\" width=\"250\"/>\n",
    "\n",
    "The sigmoid formula is:\n",
    "\n",
    "\n",
    "$\\sigma(x)=\\frac{1}{1 + e^{-x}}$"
   ]
  },
  {
   "cell_type": "code",
   "execution_count": 28,
   "metadata": {},
   "outputs": [],
   "source": [
    "import numpy as np\n",
    "\"\"\"\n",
    "This is the sigmoid function that allows us to make the probabilities of \n",
    "a X ndarray\n",
    "**/\"\"\"\n",
    "def sigmoid(x):\n",
    "    return 1 / (1+np.exp(-x))      \n",
    "        "
   ]
  },
  {
   "cell_type": "code",
   "execution_count": 29,
   "metadata": {},
   "outputs": [
    {
     "name": "stdout",
     "output_type": "stream",
     "text": [
      "[0.73105858 0.99330715 0.73105858 0.99966465]\n"
     ]
    }
   ],
   "source": [
    "X = np.array([1,5,1,8])\n",
    "print(sigmoid(X))"
   ]
  },
  {
   "cell_type": "markdown",
   "metadata": {},
   "source": [
    "## Softmax \n",
    "\n",
    "If we have a classification problem with more than two categories we could use the softmax function that allows us to make predictions with probabilities on each category. \n",
    "\n",
    "It is a function that gives a probability between 0 to 1 for each values in a array, for example if we are in a classification problem the idea is to apply this function to transform the machine learning's output in probabilities.\n",
    "\n",
    "This is the softmax function:\n",
    "\n",
    "$S(k_{i})=\\frac{e^y_{i}}{\\sum_{j}^{} e^y_{i}}$\n",
    "\n",
    "\n"
   ]
  },
  {
   "cell_type": "code",
   "execution_count": 10,
   "metadata": {},
   "outputs": [
    {
     "name": "stdout",
     "output_type": "stream",
     "text": [
      "[0.8360188  0.11314284 0.05083836]\n"
     ]
    }
   ],
   "source": [
    "scores = [3.0, 1.0, 0.2]\n",
    "\n",
    "import numpy as np \n",
    "\n",
    "def softmax(X):\n",
    "    return (np.exp(X)/np.sum(np.exp(X), axis=0))\n",
    "\n",
    "print(softmax(scores))"
   ]
  },
  {
   "cell_type": "code",
   "execution_count": 11,
   "metadata": {},
   "outputs": [
    {
     "name": "stdout",
     "output_type": "stream",
     "text": [
      "(3, 80)\n",
      "----\n",
      "[[-2.00000000e+00 -1.90000000e+00 -1.80000000e+00 -1.70000000e+00\n",
      "  -1.60000000e+00 -1.50000000e+00 -1.40000000e+00 -1.30000000e+00\n",
      "  -1.20000000e+00 -1.10000000e+00 -1.00000000e+00 -9.00000000e-01\n",
      "  -8.00000000e-01 -7.00000000e-01 -6.00000000e-01 -5.00000000e-01\n",
      "  -4.00000000e-01 -3.00000000e-01 -2.00000000e-01 -1.00000000e-01\n",
      "   1.77635684e-15  1.00000000e-01  2.00000000e-01  3.00000000e-01\n",
      "   4.00000000e-01  5.00000000e-01  6.00000000e-01  7.00000000e-01\n",
      "   8.00000000e-01  9.00000000e-01  1.00000000e+00  1.10000000e+00\n",
      "   1.20000000e+00  1.30000000e+00  1.40000000e+00  1.50000000e+00\n",
      "   1.60000000e+00  1.70000000e+00  1.80000000e+00  1.90000000e+00\n",
      "   2.00000000e+00  2.10000000e+00  2.20000000e+00  2.30000000e+00\n",
      "   2.40000000e+00  2.50000000e+00  2.60000000e+00  2.70000000e+00\n",
      "   2.80000000e+00  2.90000000e+00  3.00000000e+00  3.10000000e+00\n",
      "   3.20000000e+00  3.30000000e+00  3.40000000e+00  3.50000000e+00\n",
      "   3.60000000e+00  3.70000000e+00  3.80000000e+00  3.90000000e+00\n",
      "   4.00000000e+00  4.10000000e+00  4.20000000e+00  4.30000000e+00\n",
      "   4.40000000e+00  4.50000000e+00  4.60000000e+00  4.70000000e+00\n",
      "   4.80000000e+00  4.90000000e+00  5.00000000e+00  5.10000000e+00\n",
      "   5.20000000e+00  5.30000000e+00  5.40000000e+00  5.50000000e+00\n",
      "   5.60000000e+00  5.70000000e+00  5.80000000e+00  5.90000000e+00]\n",
      " [ 1.00000000e+00  1.00000000e+00  1.00000000e+00  1.00000000e+00\n",
      "   1.00000000e+00  1.00000000e+00  1.00000000e+00  1.00000000e+00\n",
      "   1.00000000e+00  1.00000000e+00  1.00000000e+00  1.00000000e+00\n",
      "   1.00000000e+00  1.00000000e+00  1.00000000e+00  1.00000000e+00\n",
      "   1.00000000e+00  1.00000000e+00  1.00000000e+00  1.00000000e+00\n",
      "   1.00000000e+00  1.00000000e+00  1.00000000e+00  1.00000000e+00\n",
      "   1.00000000e+00  1.00000000e+00  1.00000000e+00  1.00000000e+00\n",
      "   1.00000000e+00  1.00000000e+00  1.00000000e+00  1.00000000e+00\n",
      "   1.00000000e+00  1.00000000e+00  1.00000000e+00  1.00000000e+00\n",
      "   1.00000000e+00  1.00000000e+00  1.00000000e+00  1.00000000e+00\n",
      "   1.00000000e+00  1.00000000e+00  1.00000000e+00  1.00000000e+00\n",
      "   1.00000000e+00  1.00000000e+00  1.00000000e+00  1.00000000e+00\n",
      "   1.00000000e+00  1.00000000e+00  1.00000000e+00  1.00000000e+00\n",
      "   1.00000000e+00  1.00000000e+00  1.00000000e+00  1.00000000e+00\n",
      "   1.00000000e+00  1.00000000e+00  1.00000000e+00  1.00000000e+00\n",
      "   1.00000000e+00  1.00000000e+00  1.00000000e+00  1.00000000e+00\n",
      "   1.00000000e+00  1.00000000e+00  1.00000000e+00  1.00000000e+00\n",
      "   1.00000000e+00  1.00000000e+00  1.00000000e+00  1.00000000e+00\n",
      "   1.00000000e+00  1.00000000e+00  1.00000000e+00  1.00000000e+00\n",
      "   1.00000000e+00  1.00000000e+00  1.00000000e+00  1.00000000e+00]\n",
      " [ 2.00000000e-01  2.00000000e-01  2.00000000e-01  2.00000000e-01\n",
      "   2.00000000e-01  2.00000000e-01  2.00000000e-01  2.00000000e-01\n",
      "   2.00000000e-01  2.00000000e-01  2.00000000e-01  2.00000000e-01\n",
      "   2.00000000e-01  2.00000000e-01  2.00000000e-01  2.00000000e-01\n",
      "   2.00000000e-01  2.00000000e-01  2.00000000e-01  2.00000000e-01\n",
      "   2.00000000e-01  2.00000000e-01  2.00000000e-01  2.00000000e-01\n",
      "   2.00000000e-01  2.00000000e-01  2.00000000e-01  2.00000000e-01\n",
      "   2.00000000e-01  2.00000000e-01  2.00000000e-01  2.00000000e-01\n",
      "   2.00000000e-01  2.00000000e-01  2.00000000e-01  2.00000000e-01\n",
      "   2.00000000e-01  2.00000000e-01  2.00000000e-01  2.00000000e-01\n",
      "   2.00000000e-01  2.00000000e-01  2.00000000e-01  2.00000000e-01\n",
      "   2.00000000e-01  2.00000000e-01  2.00000000e-01  2.00000000e-01\n",
      "   2.00000000e-01  2.00000000e-01  2.00000000e-01  2.00000000e-01\n",
      "   2.00000000e-01  2.00000000e-01  2.00000000e-01  2.00000000e-01\n",
      "   2.00000000e-01  2.00000000e-01  2.00000000e-01  2.00000000e-01\n",
      "   2.00000000e-01  2.00000000e-01  2.00000000e-01  2.00000000e-01\n",
      "   2.00000000e-01  2.00000000e-01  2.00000000e-01  2.00000000e-01\n",
      "   2.00000000e-01  2.00000000e-01  2.00000000e-01  2.00000000e-01\n",
      "   2.00000000e-01  2.00000000e-01  2.00000000e-01  2.00000000e-01\n",
      "   2.00000000e-01  2.00000000e-01  2.00000000e-01  2.00000000e-01]]\n"
     ]
    },
    {
     "data": {
      "image/png": "[encoded data removed]",
      "text/plain": [
       "<Figure size 432x288 with 1 Axes>"
      ]
     },
     "metadata": {
      "needs_background": "light"
     },
     "output_type": "display_data"
    }
   ],
   "source": [
    "#Let's plot the softmax curves\n",
    "import matplotlib.pyplot as plt\n",
    "\n",
    "# we are goint to make a ndarray from -2 to 6 (excluded) integrated with the numbers by 0.1\n",
    "x = np.arange(-2.0, 6.0, 0.1)\n",
    "# the numpy method vstack joins a sequence of arrays along a new axis.\n",
    "# the method numpy.ones_like returns an array of ones with the same shape and type as a given array\n",
    "scores = np.vstack([x,np.ones_like(x), 0.2 * np.ones_like(x)])\n",
    "print(scores.shape)\n",
    "print(\"----\")\n",
    "print(scores)\n",
    "\n",
    "plt.plot(x, softmax(scores).T, linewidth=2)\n",
    "plt.show()"
   ]
  },
  {
   "cell_type": "markdown",
   "metadata": {},
   "source": [
    "## One-Hot encoding\n",
    "\n",
    "Sometimes we must work with categorical variables, variables that can't code by a regular encoding. In order to process those variables we can use the method One-Hot encoding, this allows us to make new columns for each category (_dummy variables_).\n",
    "\n",
    "Let's see the application of the numpy method that allows us to make these dummy variables."
   ]
  },
  {
   "cell_type": "code",
   "execution_count": 14,
   "metadata": {},
   "outputs": [
    {
     "name": "stdout",
     "output_type": "stream",
     "text": [
      "These are the dimensions of the DataFrame without one-hot encoding: (3, 2)\n",
      "These are the dimensions of the DataFrame with one-hot encoding: (3, 6)\n"
     ]
    }
   ],
   "source": [
    "import pandas as pd\n",
    "from pandas import Series, DataFrame\n",
    "\n",
    "dictionary = {'name': ['camilo', 'daniel', 'mariana'],\n",
    "             'category': ['student', 'researcher', 'teacher']\n",
    "             }\n",
    "\n",
    "frame = DataFrame(dictionary)\n",
    "print(\"These are the dimensions of the DataFrame without one-hot encoding: \"+ str(frame.shape))\n",
    "new_frame = pd.get_dummies(frame)\n",
    "print(\"These are the dimensions of the DataFrame with one-hot encoding: \" + str(new_frame.shape))"
   ]
  },
  {
   "cell_type": "markdown",
   "metadata": {},
   "source": [
    "## Cross Entropy\n",
    "\n",
    "If we want to evaluate the models we might take all of probability results and multiple them in order to get the accuracy of each model, for example, think that we had trained two models (like perceptrons) to predict the probabilities of two colors, blue and red, and during the prediction test of four data we got the next results:\n",
    "_Model one_\n",
    "+ $P(point_{one}) = 0.7$\n",
    "+ $P(point_{two}) = 0.1$\n",
    "+ $P(point_{three}) = 0.6$\n",
    "+ $P(point_{four}) = 0.2$\n",
    "\n",
    "_Model two_\n",
    "+ $P(point_{one}) = 0.7$\n",
    "+ $P(point_{two}) = 0.9$\n",
    "+ $P(point_{three}) = 0.8$\n",
    "+ $P(point_{four}) = 0.6$\n",
    "\n",
    "\n",
    "The result of the model will be $ 0.7 * 0.6 * 0.1 * 0.2 =  0.0084$, this model is not good, nevertheless of the model two that is better with 0.3024.\n",
    "\n",
    "The problem to use this kind of operation in order to know the performance of the model is not good because a multiplication operation with a lot of features will have computing cost. One solution is to apply a sum between each probability, in order to apply this we can use the logarithmic function like $ln(A * B) = ln(A) + ln(B)$.\n"
   ]
  },
  {
   "cell_type": "code",
   "execution_count": 21,
   "metadata": {},
   "outputs": [
    {
     "data": {
      "image/png": "[encoded data removed]",
      "text/plain": [
       "<Figure size 432x288 with 1 Axes>"
      ]
     },
     "metadata": {},
     "output_type": "display_data"
    }
   ],
   "source": [
    "import matplotlib.pyplot as plt\n",
    "import numpy as np\n",
    "\n",
    "x = np.arange(0.1 , 6.0, 0.1)\n",
    "\n",
    "plt.plot(x, np.log10(x).T, linewidth=2)\n",
    "plt.grid(True)\n",
    "plt.show()"
   ]
  },
  {
   "cell_type": "markdown",
   "metadata": {},
   "source": [
    "\n",
    "So let's see the application of logarithmic function:\n",
    "\n",
    "$ln(0.6) + ln(0.2) + ln(0.1) + ln(0.7)  = (-0.51) + (-1.61) + (-2.3) + (-0.36)$\n",
    "\n",
    "But the idea is to have positive numbers, with this idea we are going to multiply them with -1 and we get the next operation:\n",
    "\n",
    "$(0.51) + (1.61) + (2.3) + (0.36) = 4.8$ \n",
    "\n",
    "This process is called _cross entropy_.\n",
    "\n",
    "This is the cross entropy of the second model:\n",
    "\n",
    "$ - ln(0.7) -  ln(0.9) - ln(0.8) -  ln(0.6)  = (0.36) + (0.1) + (0.22) + (0.51) =  1.2$\n",
    "\n",
    "Like the multiplication of each probability we have that the second model is the best, we can say that the model with the low cross entropy is the best that represent the hypothesis for our dataset.\n",
    "\n",
    "So, we can say that our __goal is minimize the Cross Entropy__\n"
   ]
  },
  {
   "cell_type": "markdown",
   "metadata": {},
   "source": [
    "So the next idea is \"we must calculate the cross entropy of each scenario behind the combination of each category\". So the cross-entropy tells us when two vectors are similar or different.In other words it allows us to understand how far is the model's results to the desire outcomes. \n",
    "\n",
    "$Cross Entropy = - \\sum_{i=1}^{m} y_{i}ln(p_{i}) + (1 - y_{i}) ln(1 -p_{i})$"
   ]
  },
  {
   "cell_type": "code",
   "execution_count": 68,
   "metadata": {},
   "outputs": [
    {
     "name": "stdout",
     "output_type": "stream",
     "text": [
      "The cross entropy is 4.828313737302301\n"
     ]
    }
   ],
   "source": [
    "import numpy as np \n",
    "\n",
    "def cross_entropy(Y, P):\n",
    "    return -1 * (np.sum(np.dot(Y, np.log(P)) + np.dot(np.subtract(1,Y), (np.log(np.subtract(1,P))))))   \n",
    "\n",
    "Y = np.array([1.0, 0.0, 1.0, 1.0], dtype=np.float64)\n",
    "P = np.array([0.4, 0.6, 0.1, 0.5], dtype=np.float64)\n",
    "\n",
    "print(\"The cross entropy is \" + str(cross_entropy(Y, P)))\n"
   ]
  },
  {
   "cell_type": "markdown",
   "metadata": {},
   "source": [
    "But we must think to problems with more than two clasess, with this idea in your head we can illustrate the _Multi-Class Cross-Entropy_ formula:\n",
    "\n",
    "$Cross Entropy = - \\sum_{i=1}^{n} \\sum_{j=1}^{m} y_{(i,j)}ln(p_{(i,j)})$\n"
   ]
  },
  {
   "cell_type": "markdown",
   "metadata": {},
   "source": [
    "## Logistic Regression\n",
    "\n",
    "Logistic Regression (LR) is the most popular and useful machine learning algorithms, and the building blocks of Deep Learning architectures, these are the activities of LR.\n",
    "\n",
    "+ Take your data\n",
    "+ Pick a random model\n",
    "+ Calculate the error\n",
    "+ Minimize the error, and obtain a better model\n",
    "\n",
    "In order to know the error we can calculate the cross entropy \n",
    "\n",
    "$Error = -(1-y)(ln(1-\\hat{y}))-yln(\\hat{y})$\n",
    "\n",
    "So, in order to calculate the errors the error function is:\n",
    "\n",
    "$Error=-\\frac{1}{m}\\sum_{i=1}^{m} (1-y_{i})(ln(1-\\hat{y}_{i})) + y_{i}ln(\\hat{y}_{i})$\n",
    "\n",
    "So, remember that y' is the result from the sigmoid function of the linear function $Wx + b$, so the total formula for the error in terms of _w_ and _b_ is:\n",
    "\n",
    "$ E(W,b) = -\\frac{1}{m} \\sum_{i=1}^{m} (1-y_{i})(ln(1-\\sigma(Wx^{(i)}+b))+y_{i}ln(\\sigma(Wx^{(i)}+b)$"
   ]
  },
  {
   "cell_type": "markdown",
   "metadata": {},
   "source": [
    "## Gradient Descent\n",
    "\n",
    "As I say, Gradient Descent is the way to reduce the error function in order to go to our objective, in other words, to allow our models to learn about the data and make the function to represent the hypothesis.\n",
    "\n",
    "So, first we have the Linear regression prediction with the next two equations whose use the sigmoid of the weights and bias\n",
    "\n",
    "$\\hat{y}=\\sigma(Wx+b) $ <- Bad\n",
    "\n",
    "$\\hat{y}=\\sigma(w_{1}x_{1}+...+w_{n}x_{n}+b)$\n",
    "\n",
    "The grandient of the error function is the vector formed by partial derivate of the error function with respect to the weights and the bias.\n",
    "\n",
    "$\\bigvee E=(\\frac{\\mathrm{dE}}{\\mathrm{dw_{1}}},...,\\frac{\\mathrm{dE}}{\\mathrm{dw_{n}}}, \\frac{\\mathrm{dE}}{\\mathrm{db}})$\n",
    "\n",
    "The learning rate alpha allows the process do not make dramatic changes\n",
    "\n",
    "$\\alpha = 0.1$\n",
    "\n",
    "By the application of the gradient descent we are going to take the next weights and bias.\n",
    "\n",
    "$w_{i}' := w_{i} - \\alpha \\frac{\\mathrm{dE}}{\\mathrm{dw_{i}}}$ \n",
    "\n",
    "$b' := b - \\alpha \\frac{\\mathrm{dE}}{\\mathrm{db}}$ \n",
    "\n",
    "So finally we are going to have the next prediction function:\n",
    "\n",
    "$\\hat{y}=\\sigma(W'x+b') $ <- better"
   ]
  },
  {
   "cell_type": "markdown",
   "metadata": {},
   "source": [
    "### Gradient Descent algorithm\n",
    "\n",
    "1. Start with random weights:\n",
    "\n",
    "    $w_{1},...,w_{n},b$\n",
    "    \n",
    "    \n",
    "2. For every point $(x_{1},...,x_{n})$:\n",
    "\n",
    "    2.1. For i=1 ... n\n",
    "    \n",
    "    2.1.1 Update $w'_{i} <- w_{i} -\\sigma(\\hat{y}-y)x_{i}$\n",
    "    \n",
    "    2.1.2 Update $b'_{i} <- b -\\sigma(\\hat{y}-y)$\n",
    "\n",
    "\n",
    "3. Repeat until error is small\n"
   ]
  },
  {
   "cell_type": "markdown",
   "metadata": {},
   "source": [
    "Our next propose is to minimize the _cost function J_ to learn weigths as the __Sum of Squared Errors (SSE)__ between the calculated outcome and the true class label"
   ]
  },
  {
   "cell_type": "code",
   "execution_count": 34,
   "metadata": {},
   "outputs": [],
   "source": [
    "import matplotlib.pyplot as plt\n",
    "import numpy as np\n",
    "import pandas as pd\n",
    "\n",
    "def plot_points(X, y):\n",
    "    admitted = X[np.argwhere(y==1)]\n",
    "    rejected = X[np.argwhere(y==0)]\n",
    "    plt.scatter([s[0][0] for s in rejected], [s[0][1] for s in rejected], s = 25, color='blue', edgecolor='k')\n",
    "    plt.scatter([s[0][0] for s in admitted], [s[0][1] for s in admitted], s = 25, color='red', edgecolor='k')\n",
    "\n",
    "def display(m, b, color='g--'):\n",
    "    plt.xlim(-0.05, 1.05)\n",
    "    plt.ylim(-0.05, 1.05)\n",
    "    x = np.arange(-10, 10, 0.1)\n",
    "    plt.plot(x, m*x+b, color)"
   ]
  },
  {
   "cell_type": "code",
   "execution_count": 35,
   "metadata": {},
   "outputs": [
    {
     "name": "stdout",
     "output_type": "stream",
     "text": [
      "         0         1  2\n",
      "0  0.78051 -0.063669  1\n",
      "1  0.28774  0.291390  1\n",
      "2  0.40714  0.178780  1\n",
      "3  0.29230  0.421700  1\n",
      "4  0.50922  0.352560  1\n"
     ]
    },
    {
     "data": {
      "image/png": "[encoded data removed]",
      "text/plain": [
       "<Figure size 432x288 with 1 Axes>"
      ]
     },
     "metadata": {},
     "output_type": "display_data"
    }
   ],
   "source": [
    "data = pd.read_csv('../../Datasets/students.csv', header=None)\n",
    "print(data.head())\n",
    "X = np.array(data.iloc[:,[0,1]])\n",
    "y = np.array(data[2])\n",
    "plot_points(X,y)\n",
    "plt.show()"
   ]
  },
  {
   "cell_type": "code",
   "execution_count": 36,
   "metadata": {},
   "outputs": [],
   "source": [
    "import numpy as np\n",
    "# Output (prediction) formula\n",
    "def output_formula(features, weights, bias):    \n",
    "    return sigmoid(np.dot(features, weights) + bias)"
   ]
  },
  {
   "cell_type": "code",
   "execution_count": 37,
   "metadata": {},
   "outputs": [],
   "source": [
    "import numpy as np\n",
    "# Error (Log-loss) formula\n",
    "def error_formula(y, output):\n",
    "    return ((-y)*(np.log(output))) - ((1 - y) * (np.log(1-output)))"
   ]
  },
  {
   "cell_type": "code",
   "execution_count": 51,
   "metadata": {},
   "outputs": [],
   "source": [
    "import numpy as np\n",
    "# Gradient descent step\n",
    "def update_weights(x, y, weights, bias, learnrate):\n",
    "    output = output_formula(x, weights, bias)\n",
    "    d_error = y - output\n",
    "    weights += learnrate * d_error * x\n",
    "    bias += learnrate *  d_error    \n",
    "    return weights, bias\n",
    "    "
   ]
  },
  {
   "cell_type": "code",
   "execution_count": 41,
   "metadata": {},
   "outputs": [],
   "source": [
    "np.random.seed(44)\n",
    "\n",
    "epochs = 100\n",
    "learnrate = 0.01\n",
    "\n",
    "def train(features, targets, epochs, learnrate, graph_lines=False):\n",
    "    \n",
    "    errors = []\n",
    "    n_records, n_features = features.shape\n",
    "    last_loss = None\n",
    "    weights = np.random.normal(scale=1 / n_features**.5, size=n_features)\n",
    "    bias = 0\n",
    "    for e in range(epochs):\n",
    "        del_w = np.zeros(weights.shape)\n",
    "        for x, y in zip(features, targets):\n",
    "            output = output_formula(x, weights, bias)\n",
    "            error = error_formula(y, output)\n",
    "            weights, bias = update_weights(x, y, weights, bias, learnrate)\n",
    "        \n",
    "        # Printing out the log-loss error on the training set\n",
    "        out = output_formula(features, weights, bias)\n",
    "        loss = np.mean(error_formula(targets, out))\n",
    "        errors.append(loss)\n",
    "        if e % (epochs / 10) == 0:\n",
    "            print(\"\\n========== Epoch\", e,\"==========\")\n",
    "            if last_loss and last_loss < loss:\n",
    "                print(\"Train loss: \", loss, \"  WARNING - Loss Increasing\")\n",
    "            else:\n",
    "                print(\"Train loss: \", loss)\n",
    "            last_loss = loss\n",
    "            predictions = out > 0.5\n",
    "            accuracy = np.mean(predictions == targets)\n",
    "            print(\"Accuracy: \", accuracy)\n",
    "        if graph_lines and e % (epochs / 100) == 0:\n",
    "            display(-weights[0]/weights[1], -bias/weights[1])\n",
    "            \n",
    "\n",
    "    # Plotting the solution boundary\n",
    "    plt.title(\"Solution boundary\")\n",
    "    display(-weights[0]/weights[1], -bias/weights[1], 'black')\n",
    "\n",
    "    # Plotting the data\n",
    "    plot_points(features, targets)\n",
    "    plt.show()\n",
    "\n",
    "    # Plotting the error\n",
    "    plt.title(\"Error Plot\")\n",
    "    plt.xlabel('Number of epochs')\n",
    "    plt.ylabel('Error')\n",
    "    plt.plot(errors)\n",
    "    plt.show()"
   ]
  },
  {
   "cell_type": "code",
   "execution_count": 52,
   "metadata": {},
   "outputs": [
    {
     "name": "stdout",
     "output_type": "stream",
     "text": [
      "\n",
      "========== Epoch 0 ==========\n",
      "Train loss:  0.6421088391977083\n",
      "Accuracy:  0.51\n",
      "\n",
      "========== Epoch 10 ==========\n",
      "Train loss:  0.5694143787753849\n",
      "Accuracy:  0.71\n",
      "\n",
      "========== Epoch 20 ==========\n",
      "Train loss:  0.513145873185152\n",
      "Accuracy:  0.83\n",
      "\n",
      "========== Epoch 30 ==========\n",
      "Train loss:  0.4686792892861609\n",
      "Accuracy:  0.88\n",
      "\n",
      "========== Epoch 40 ==========\n",
      "Train loss:  0.43296926188984186\n",
      "Accuracy:  0.93\n",
      "\n",
      "========== Epoch 50 ==========\n",
      "Train loss:  0.4038251698162646\n",
      "Accuracy:  0.92\n",
      "\n",
      "========== Epoch 60 ==========\n",
      "Train loss:  0.37967400136774015\n",
      "Accuracy:  0.92\n",
      "\n",
      "========== Epoch 70 ==========\n",
      "Train loss:  0.3593789633591534\n",
      "Accuracy:  0.93\n",
      "\n",
      "========== Epoch 80 ==========\n",
      "Train loss:  0.3421087222748474\n",
      "Accuracy:  0.93\n",
      "\n",
      "========== Epoch 90 ==========\n",
      "Train loss:  0.327246623288044\n",
      "Accuracy:  0.93\n"
     ]
    },
    {
     "data": {
      "image/png": "[encoded data removed]",
      "text/plain": [
       "<Figure size 432x288 with 1 Axes>"
      ]
     },
     "metadata": {},
     "output_type": "display_data"
    },
    {
     "data": {
      "image/png": "[encoded data removed]",
      "text/plain": [
       "<Figure size 432x288 with 1 Axes>"
      ]
     },
     "metadata": {},
     "output_type": "display_data"
    }
   ],
   "source": [
    "train(X, y, epochs, learnrate, True)"
   ]
  },
  {
   "cell_type": "markdown",
   "metadata": {},
   "source": [
    "## Non-Linear models\n",
    "\n",
    "In the last examples we have some data that can be separated through a linear function, but, sometimes we might use data with some complexity and a linear solution can't resolve it, (predict boundary is more difficult).\n",
    "\n",
    "In these cases, the Multi-Layer Perceptrons or Neural Networks come to resolve these kinds of problems, and the concept behind this is the integration of the results of different linear functions (neural networks).\n",
    "\n",
    "So the integration of different neurons and different layers is know like the neural network architecture.\n",
    "\n",
    "We can have only a perceptron to resolve a linear problem, like we saw previously.\n",
    "\n",
    "We can have a simple neural network with 3 layers, one for input, one hidden layer, and the last one is for the output, this kind of architecture is know as _fully-connected_ or _dense_ networks.\n",
    "\n",
    "<img src=\"https://openi.nlm.nih.gov/imgs/512/35/2874804/PMC2874804_1471-2105-11-182-5.png\" width=\"350\"/>\n",
    "We can have a lot of layers with nodes in the hidden layer, this kind of architecture is known as deep neural network.\n",
    "\n",
    "<img src=\"https://www.oreilly.com/library/view/deep-learning/9781491924570/assets/dpln_0201.png\" width=\"350\"/>\n",
    "\n"
   ]
  },
  {
   "cell_type": "markdown",
   "metadata": {},
   "source": [
    "## Neural Network\n",
    "\n",
    "### Feedfordward\n",
    "\n",
    "Feedforward is the process neural networks use to turn the input into an output\n",
    "\n",
    "<img src=\"https://ds055uzetaobb.cloudfront.net/image_optimizer/42f14c313680eea5b5abcd08813074f09625a70b.png\" width=\"350\"/>\n",
    "\n",
    "Once the feedfordward process is finished the error function is applied in order know the distances between the desire output and the prediction, these errors are calculated in order to apply the process to update the weights, this activity is known _Backpropagation_.\n",
    "\n",
    "### Backpropagation\n",
    "\n",
    "Running the feedforward operation backwards (backpropagation) to spread the error to each of the weights, and updates the weights, and gets a better model; recall the process that we saw _Gradient Descent_.\n",
    "\n",
    "The idea is to repeat the same process more than one time, the repetition is know as _epoch_.\n",
    "\n",
    "So let's recall some formulas that we saw previously in order to understand the math from the entire process to get the best model through the application of feedforward and backpropagation.\n",
    "\n",
    "<b>Prediction</b>\n",
    "\n",
    "$\\hat{y}=\\sigma(Wx+b)$\n",
    "\n",
    "<b>Error function</b>\n",
    "\n",
    "$Error=-\\frac{1}{m}\\sum_{i=1}^{m} (1-y_{i})(ln(1-\\hat{y}_{i})) + y_{i}ln(\\hat{y}_{i})$\n",
    "\n",
    "<b>Gradient of the error function</b>\n",
    "\n",
    "$\\bigvee E=(\\frac{\\mathrm{dE}}{\\mathrm{dw_{1}}},...,\\frac{\\mathrm{dE}}{\\mathrm{dw_{n}}}, \\frac{\\mathrm{dE}}{\\mathrm{db}})$\n",
    "\n",
    "In __Multi-layer perceptron__ we are going to have a composition of functions namely matrix multiplications and sigmoids\n",
    "\n",
    "\n",
    "<b>Prediction</b>\n",
    "\n",
    "$\\hat{y}=\\sigma(W^{(3)})\\bigodot\\sigma(W^{(2)})\\bigodot\\sigma(W^{(1)}) (x)$\n",
    "\n",
    "<b>Error function</b>\n",
    "\n",
    "\n",
    "This function is the same but except the $\\hat{y}$ is more complicated\n",
    "\n",
    "$Error=-\\frac{1}{m}\\sum_{i=1}^{m} (1-y_{i})(ln(1-\\hat{y}_{i})) + y_{i}ln(\\hat{y}_{i})$\n",
    "\n",
    "<b>Gradient of the error function</b>\n",
    "\n",
    "$\\bigvee E = (...,\\frac{\\mathrm{dE}}{\\mathrm{dw^{i}_{j}}},...)$\n",
    "\n",
    "\n",
    "This is one example\n",
    "\n",
    "$\\hat{y}=\\sigma W^{(2)}\\bigodot\\sigma W^{(1)}(x)$\n",
    "\n",
    "\n",
    "$$ W^{(1)} = \n",
    "\\left(\\begin{array}{cc} \n",
    "W^{(1)}_{11} & W^{(1)}_{12}\\\\\n",
    "W^{(1)}_{21} & W^{(1)}_{22}\\\\\n",
    "W^{(1)}_{31} & W^{(1)}_{32}\n",
    "\\end{array}\\right)\n",
    "W^{(2)} =\n",
    "\\left(\\begin{array}{ds} \n",
    "W^{(2)}_{11} \\\\ \n",
    "W^{(2)}_{21} \\\\\n",
    "W^{(2)}_{31}\n",
    "\\end{array}\\right)\n",
    "$$ \n",
    "\n",
    "$$ \\bigvee E = \n",
    "\\left(\\begin{array}{aa} \n",
    "\\frac{\\mathrm{dE}}{\\mathrm{dw^{1}_{11}}} & \\frac{\\mathrm{dE}}{\\mathrm{dw^{1}_{12}}} & \\frac{\\mathrm{dE}}{\\mathrm{dw^{2}_{11}}}\\\\\n",
    "\\frac{\\mathrm{dE}}{\\mathrm{dw^{1}_{21}}} & \\frac{\\mathrm{dE}}{\\mathrm{dw^{1}_{22}}} & \\frac{\\mathrm{dE}}{\\mathrm{dw^{2}_{21}}}\\\\\n",
    "\\frac{\\mathrm{dE}}{\\mathrm{dw^{1}_{31}}} & \\frac{\\mathrm{dE}}{\\mathrm{dw^{1}_{32}}} & \\frac{\\mathrm{dE}}{\\mathrm{dw^{2}_{31}}}\\\\\n",
    "\\end{array}\\right)\n",
    "$$\n",
    "\n",
    "$ W^{'(k)}_{(ij)} - \\alpha \\frac{\\mathrm{dE}}{\\mathrm{dw^{(k)}_{ij}}}  \\to W^{'(k)}_{ij} $"
   ]
  },
  {
   "cell_type": "markdown",
   "metadata": {},
   "source": [
    "### The training process of the architecture\n",
    "\n",
    "Let´s remember that the function of each neuron is $\\hat{y}=h(xW+b)$\n",
    "\n",
    "As I said the idea is make an architecture integrated by different layers of neurons where the ouput of one layer is the input of another one. With multiple input units and output units, we need to express the weights as a matrix. \n",
    "\n",
    "Recall that each neuron has a step function, for the next figure we can see them as $h_{n}$.\n",
    "\n",
    "<img src='../Pytorch/assets/multilayer_diagram_weights.png' width=450px>\n",
    "\n",
    "\n",
    "$$\n",
    "\\vec{h} = [h_1 \\, h_2] = \n",
    "\\begin{bmatrix}\n",
    "x_1 \\, x_2 \\cdots \\, x_n\n",
    "\\end{bmatrix}\n",
    "\\cdot \n",
    "\\begin{bmatrix}\n",
    "           w_{11} & w_{12} \\\\\n",
    "           w_{21} &w_{22} \\\\\n",
    "           \\vdots &\\vdots \\\\\n",
    "           w_{n1} &w_{n2}\n",
    "\\end{bmatrix}\n",
    "$$\n",
    "\n",
    "Through the integration of each neuron and their functions we can have:\n",
    "\n",
    "$$\n",
    "y =  f_2 \\! \\left(\\, f_1 \\! \\left(\\vec{x} \\, \\mathbf{W_1}\\right) \\mathbf{W_2} \\right)\n",
    "$$\n"
   ]
  },
  {
   "cell_type": "markdown",
   "metadata": {},
   "source": [
    "## Overfitting and Underfitting"
   ]
  },
  {
   "cell_type": "markdown",
   "metadata": {},
   "source": [
    "### Early stopping\n",
    "\n",
    "The idea is to find the good ephoc when we are reducing the error both testing and testing sets, we need to find what is the best ephoc and stop at this moment the training process, the moment when we are not at underfitting (the best training error) and overfitting (the low testing error)."
   ]
  },
  {
   "cell_type": "markdown",
   "metadata": {},
   "source": [
    "### Regularization\n",
    "\n",
    "<i> \n",
    "    <center> LARGE COEFFICIENTS $\\to$ OVERFITTING </center>\n",
    "    <br>\n",
    "    <center> PENALIZE LARGE WEIGHTS </center>\n",
    "</i>\n",
    " <center>$(w_{1},...,w_{n})$ </center>\n",
    " \n",
    "<b> L1 </b> ERROR FUNCTION $= -\\frac{1}{m}\\sum_{i=1}^{m} (1-y_{i})(ln(1-\\hat{y}_{i})) + y_{i}ln(\\hat{y}_{i}) + \\lambda (|w_{1}|+..+|w_{n}|)$ \n",
    "\n",
    "<b> L2 </b> ERROR FUNCTION $= -\\frac{1}{m}\\sum_{i=1}^{m} (1-y_{i})(ln(1-\\hat{y}_{i})) + y_{i}ln(\\hat{y}_{i}) + \\lambda (w_{1}^{2}+..+w_{n}^{2})$\n",
    "\n",
    "<br>\n",
    "<br>\n",
    "\n",
    "<center> <b> L1 vs L2 Regularization </b> </center>\n",
    "\n",
    "<b> L1 </b>\n",
    "\n",
    "<b> Sparsity:</b>(1, 0, 0, 1, 0)\n",
    "\n",
    "<p style=\"color:blue;\"> Good for feature selection </p>\n",
    "\n",
    "<hr>\n",
    "\n",
    "<b> L2 </b>\n",
    "\n",
    "<b> Sparsity:</b>(0.5, 0.3, -0.2, 0.4, 0.1)\n",
    "\n",
    "<p style=\"color:green;\"> Normally better for training models </p>\n"
   ]
  },
  {
   "cell_type": "markdown",
   "metadata": {},
   "source": [
    "### Dropout\n",
    "\n",
    "We randomly turn off some of the nodes in order to reduce the number of nodes that are mored trained than others, we can apply this through a probability each node will be dropped, and is useful to reduce the computing requeriments and processing.   "
   ]
  },
  {
   "cell_type": "markdown",
   "metadata": {},
   "source": [
    "### Local Minima\n",
    "\n",
    "Gradient Descent is not a good solution if during the training process the function finds a local minima, it is neccesary to add more activities in order to leave this situation and continue with the gradient descent application.\n",
    "\n",
    "#### Random restart\n",
    "\n",
    "Random restart is one solution, we start from a few different random places and do gradient descend from all of them, this increases the probability that we'll get to the global mininum or a pretty good local mininum.\n",
    "\n",
    "#### Other activation functions\n",
    "\n",
    "Another way to resolve the problem is to apply other activation functions, one of them is the _Hyperbolic Tangent Function_ knows as Tanh, this is the function:\n",
    "\n",
    "$tanh(x)= \\frac{e^{x}-e^{-x}}{e^{x}+e^{-x}}$\n",
    "\n",
    "<img src=\"https://upload.wikimedia.org/wikipedia/commons/thumb/8/87/Hyperbolic_Tangent.svg/1200px-Hyperbolic_Tangent.svg.png\" width=300>\n",
    "\n",
    "Another one is the _Rectified Linear Unit_ or RELU, this is the function:\n",
    "\n",
    "$relu(x) = x$ if $>= 0$ || $0$ if $x < 0$\n",
    "\n",
    "<img src=\"https://cdn-images-1.medium.com/max/1600/1*DfMRHwxY1gyyDmrIAd-gjQ.png\" width=300>\n",
    "\n",
    "\n",
    "\n",
    "<img src=\"https://www.researchgate.net/profile/Hoon_Chung2/publication/309775740/figure/fig1/AS:538049215381504@1505292337270/The-most-common-nonlinear-activation-functions_W640.jpg\" width=300 >"
   ]
  },
  {
   "cell_type": "code",
   "execution_count": 1,
   "metadata": {},
   "outputs": [],
   "source": [
    "import numpy as np\n",
    "# Tanh function\n",
    "def tanh(x):\n",
    "    return  (np.exp(x)-np.exp(-x))/(np.exp(x)+np.exp(-x)) "
   ]
  },
  {
   "cell_type": "code",
   "execution_count": 18,
   "metadata": {
    "scrolled": true
   },
   "outputs": [
    {
     "data": {
      "image/png": "[encoded data removed]",
      "text/plain": [
       "<Figure size 432x288 with 1 Axes>"
      ]
     },
     "metadata": {},
     "output_type": "display_data"
    }
   ],
   "source": [
    "import matplotlib.pyplot as plt\n",
    "import numpy as np\n",
    "x = np.arange(-2.0 , 2.0, 0.1)\n",
    "\n",
    "plt.plot(x, tanh(x.T), linewidth=2)\n",
    "plt.grid(True)\n",
    "plt.title(\"Tanh function\")\n",
    "plt.show()"
   ]
  },
  {
   "cell_type": "code",
   "execution_count": 15,
   "metadata": {},
   "outputs": [],
   "source": [
    "import numpy as np\n",
    "# ReLu function\n",
    "def relu(x):\n",
    "    result = []\n",
    "    for i in x:\n",
    "        if i >= 0:\n",
    "            result.append(i)\n",
    "        else:\n",
    "            result.append(0)\n",
    "    return result"
   ]
  },
  {
   "cell_type": "code",
   "execution_count": 19,
   "metadata": {},
   "outputs": [
    {
     "data": {
      "image/png": "[encoded data removed]",
      "text/plain": [
       "<Figure size 432x288 with 1 Axes>"
      ]
     },
     "metadata": {},
     "output_type": "display_data"
    }
   ],
   "source": [
    "import matplotlib.pyplot as plt\n",
    "import numpy as np\n",
    "x = np.arange(-2.0 , 2.0, 0.1)\n",
    "\n",
    "plt.plot(x, relu(x.T), linewidth=2)\n",
    "plt.grid(True)\n",
    "plt.title(\"ReLU function\")\n",
    "plt.show()"
   ]
  },
  {
   "cell_type": "markdown",
   "metadata": {},
   "source": [
    "The ReLu function is usually uses in the hidden layer and depends of the problem we can use a Sigmoid or a ReLu function in the output layer.\n",
    "\n",
    "<b> Output Layer </b>\n",
    "\n",
    "<p style=\"color:green\"> Classification $\\to$ Sigmoid </p>\n",
    "\n",
    "<p style=\"color:blue\"> Regression $\\to$ ReLU </p>"
   ]
  },
  {
   "cell_type": "markdown",
   "metadata": {},
   "source": [
    "### Stochastic Gradient Descent\n",
    "\n",
    "The idea behind this is simply that we take small subsets of data, run them through the neural network, calculate the gradient of the error of these subset and then move one step in that direction, let's repeat the same process with the other subsets and update the weights. "
   ]
  },
  {
   "cell_type": "markdown",
   "metadata": {},
   "source": [
    "### Decreasing learning rate\n",
    "\n",
    "While we have big learning rate the learning process is going to be more fast but not good because the process may miss the local minimum. \n",
    "\n",
    "Rule:\n",
    "+ if steep: long steps\n",
    "+ if plain: small steps"
   ]
  },
  {
   "cell_type": "markdown",
   "metadata": {},
   "source": [
    "### Momentum\n",
    "\n",
    "It is a constant $\\beta$ between 0 and 1 that attaches to the step as follows:\n",
    "\n",
    "Step $\\to$ Average of previous steps\n",
    "\n",
    "$Step(n) \\to Step(n) + \\beta step(n-1) + \\beta^{2}step(n-2)+... $"
   ]
  },
  {
   "attachments": {},
   "cell_type": "markdown",
   "metadata": {},
   "source": [
    "## Scikit-learn\n",
    "\n",
    "We are going to train a perceptron via scikit-learn in order to evaluate an One-vs.-Rest (OvR) approach"
   ]
  },
  {
   "cell_type": "code",
   "execution_count": 67,
   "metadata": {},
   "outputs": [
    {
     "data": {
      "text/html": [
       "<div>\n",
       "<style scoped>\n",
       "    .dataframe tbody tr th:only-of-type {\n",
       "        vertical-align: middle;\n",
       "    }\n",
       "\n",
       "    .dataframe tbody tr th {\n",
       "        vertical-align: top;\n",
       "    }\n",
       "\n",
       "    .dataframe thead th {\n",
       "        text-align: right;\n",
       "    }\n",
       "</style>\n",
       "<table border=\"1\" class=\"dataframe\">\n",
       "  <thead>\n",
       "    <tr style=\"text-align: right;\">\n",
       "      <th></th>\n",
       "      <th>sepal_length</th>\n",
       "      <th>sepal_width</th>\n",
       "      <th>petal_length</th>\n",
       "      <th>petal_width</th>\n",
       "      <th>class</th>\n",
       "    </tr>\n",
       "  </thead>\n",
       "  <tbody>\n",
       "    <tr>\n",
       "      <th>0</th>\n",
       "      <td>5.1</td>\n",
       "      <td>3.5</td>\n",
       "      <td>1.4</td>\n",
       "      <td>0.2</td>\n",
       "      <td>Iris-setosa</td>\n",
       "    </tr>\n",
       "    <tr>\n",
       "      <th>1</th>\n",
       "      <td>4.9</td>\n",
       "      <td>3.0</td>\n",
       "      <td>1.4</td>\n",
       "      <td>0.2</td>\n",
       "      <td>Iris-setosa</td>\n",
       "    </tr>\n",
       "    <tr>\n",
       "      <th>2</th>\n",
       "      <td>4.7</td>\n",
       "      <td>3.2</td>\n",
       "      <td>1.3</td>\n",
       "      <td>0.2</td>\n",
       "      <td>Iris-setosa</td>\n",
       "    </tr>\n",
       "    <tr>\n",
       "      <th>3</th>\n",
       "      <td>4.6</td>\n",
       "      <td>3.1</td>\n",
       "      <td>1.5</td>\n",
       "      <td>0.2</td>\n",
       "      <td>Iris-setosa</td>\n",
       "    </tr>\n",
       "    <tr>\n",
       "      <th>4</th>\n",
       "      <td>5.0</td>\n",
       "      <td>3.6</td>\n",
       "      <td>1.4</td>\n",
       "      <td>0.2</td>\n",
       "      <td>Iris-setosa</td>\n",
       "    </tr>\n",
       "  </tbody>\n",
       "</table>\n",
       "</div>"
      ],
      "text/plain": [
       "   sepal_length  sepal_width  petal_length  petal_width        class\n",
       "0           5.1          3.5           1.4          0.2  Iris-setosa\n",
       "1           4.9          3.0           1.4          0.2  Iris-setosa\n",
       "2           4.7          3.2           1.3          0.2  Iris-setosa\n",
       "3           4.6          3.1           1.5          0.2  Iris-setosa\n",
       "4           5.0          3.6           1.4          0.2  Iris-setosa"
      ]
     },
     "execution_count": 67,
     "metadata": {},
     "output_type": "execute_result"
    }
   ],
   "source": [
    "df.head()"
   ]
  },
  {
   "cell_type": "code",
   "execution_count": 86,
   "metadata": {},
   "outputs": [
    {
     "data": {
      "text/html": [
       "<div>\n",
       "<style scoped>\n",
       "    .dataframe tbody tr th:only-of-type {\n",
       "        vertical-align: middle;\n",
       "    }\n",
       "\n",
       "    .dataframe tbody tr th {\n",
       "        vertical-align: top;\n",
       "    }\n",
       "\n",
       "    .dataframe thead th {\n",
       "        text-align: right;\n",
       "    }\n",
       "</style>\n",
       "<table border=\"1\" class=\"dataframe\">\n",
       "  <thead>\n",
       "    <tr style=\"text-align: right;\">\n",
       "      <th></th>\n",
       "      <th>sepal_length</th>\n",
       "      <th>sepal_width</th>\n",
       "      <th>petal_length</th>\n",
       "      <th>petal_width</th>\n",
       "      <th>class</th>\n",
       "    </tr>\n",
       "  </thead>\n",
       "  <tbody>\n",
       "    <tr>\n",
       "      <th>0</th>\n",
       "      <td>5.1</td>\n",
       "      <td>3.5</td>\n",
       "      <td>1.4</td>\n",
       "      <td>0.2</td>\n",
       "      <td>1.0</td>\n",
       "    </tr>\n",
       "    <tr>\n",
       "      <th>1</th>\n",
       "      <td>4.9</td>\n",
       "      <td>3.0</td>\n",
       "      <td>1.4</td>\n",
       "      <td>0.2</td>\n",
       "      <td>1.0</td>\n",
       "    </tr>\n",
       "    <tr>\n",
       "      <th>2</th>\n",
       "      <td>4.7</td>\n",
       "      <td>3.2</td>\n",
       "      <td>1.3</td>\n",
       "      <td>0.2</td>\n",
       "      <td>1.0</td>\n",
       "    </tr>\n",
       "    <tr>\n",
       "      <th>3</th>\n",
       "      <td>4.6</td>\n",
       "      <td>3.1</td>\n",
       "      <td>1.5</td>\n",
       "      <td>0.2</td>\n",
       "      <td>1.0</td>\n",
       "    </tr>\n",
       "    <tr>\n",
       "      <th>4</th>\n",
       "      <td>5.0</td>\n",
       "      <td>3.6</td>\n",
       "      <td>1.4</td>\n",
       "      <td>0.2</td>\n",
       "      <td>1.0</td>\n",
       "    </tr>\n",
       "  </tbody>\n",
       "</table>\n",
       "</div>"
      ],
      "text/plain": [
       "   sepal_length  sepal_width  petal_length  petal_width  class\n",
       "0           5.1          3.5           1.4          0.2    1.0\n",
       "1           4.9          3.0           1.4          0.2    1.0\n",
       "2           4.7          3.2           1.3          0.2    1.0\n",
       "3           4.6          3.1           1.5          0.2    1.0\n",
       "4           5.0          3.6           1.4          0.2    1.0"
      ]
     },
     "execution_count": 86,
     "metadata": {},
     "output_type": "execute_result"
    }
   ],
   "source": [
    "mapping = {'Iris-setosa': 1, 'Iris-virginica': 2, 'Iris-versicolor': 3}\n",
    "df = df.replace({'class': mapping}).copy()\n",
    "df.iloc[:,4] =  df.iloc[:,4].astype(float)\n",
    "df.head(5)"
   ]
  },
  {
   "cell_type": "code",
   "execution_count": 87,
   "metadata": {},
   "outputs": [],
   "source": [
    "X = df.iloc[:,2:4]\n",
    "y = df.iloc[:,-1]"
   ]
  },
  {
   "cell_type": "code",
   "execution_count": 88,
   "metadata": {},
   "outputs": [],
   "source": [
    "from sklearn.cross_validation import train_test_split\n",
    "\n",
    "X_train, X_test, y_train, y_test = train_test_split(X, y, test_size=0.3, random_state=0)"
   ]
  },
  {
   "cell_type": "code",
   "execution_count": 89,
   "metadata": {},
   "outputs": [],
   "source": [
    "from sklearn.preprocessing import StandardScaler\n",
    "\n",
    "sc = StandardScaler()\n",
    "# Look the next application\n",
    "sc.fit(X_train)\n",
    "X_train_std = sc.transform(X_train)\n",
    "X_test_std = sc.transform(X_test)"
   ]
  },
  {
   "cell_type": "markdown",
   "metadata": {},
   "source": [
    "training"
   ]
  },
  {
   "cell_type": "code",
   "execution_count": 90,
   "metadata": {},
   "outputs": [
    {
     "data": {
      "text/plain": [
       "Perceptron(alpha=0.0001, class_weight=None, eta0=0.1, fit_intercept=True,\n",
       "      max_iter=None, n_iter=40, n_jobs=1, penalty=None, random_state=0,\n",
       "      shuffle=True, tol=None, verbose=0, warm_start=False)"
      ]
     },
     "execution_count": 90,
     "metadata": {},
     "output_type": "execute_result"
    }
   ],
   "source": [
    "from sklearn.linear_model import Perceptron\n",
    "\n",
    "ppn = Perceptron(n_iter=40, eta0=0.1, random_state=0)\n",
    "ppn.fit(X_train_std, y_train)"
   ]
  },
  {
   "cell_type": "markdown",
   "metadata": {},
   "source": [
    "Prediction"
   ]
  },
  {
   "cell_type": "code",
   "execution_count": 91,
   "metadata": {},
   "outputs": [
    {
     "name": "stdout",
     "output_type": "stream",
     "text": [
      "Total test: 45\n",
      "Misclassified samples: 4\n",
      "Accuracy: 0.91\n"
     ]
    }
   ],
   "source": [
    "y_pred = ppn.predict(X_test_std)\n",
    "print('Total test: %d' % len(y_test))\n",
    "print('Misclassified samples: %d' % (y_test != y_pred).sum())\n",
    "from sklearn.metrics import accuracy_score\n",
    "print('Accuracy: %.2f' % accuracy_score(y_test, y_pred))"
   ]
  },
  {
   "cell_type": "code",
   "execution_count": 93,
   "metadata": {},
   "outputs": [
    {
     "data": {
      "image/png": "[encoded data removed]",
      "text/plain": [
       "<Figure size 432x288 with 1 Axes>"
      ]
     },
     "metadata": {
      "needs_background": "light"
     },
     "output_type": "display_data"
    }
   ],
   "source": [
    "from matplotlib.colors import ListedColormap\n",
    "import matplotlib.pyplot as plt\n",
    "\n",
    "def plot_decision_regions(X, y, classifier, test_idx=None, resolution=0.02):\n",
    "    # setup marker generator and color map\n",
    "\n",
    "    markers = ('s', 'x', 'o', '^', 'v')\n",
    "    colors = ('red', 'blue', 'lightgreen', 'gray', 'cyan')\n",
    "    cmap = ListedColormap(colors[:len(np.unique(y))])\n",
    "    # plot the decision surface\n",
    "    x1_min, x1_max = X[:, 0].min() - 1, X[:, 0].max() + 1\n",
    "    x2_min, x2_max = X[:, 1].min() - 1, X[:, 1].max() + 1\n",
    "    xx1, xx2 = np.meshgrid(np.arange(x1_min, x1_max, resolution),\n",
    "    np.arange(x2_min, x2_max, resolution))\n",
    "    Z = classifier.predict(np.array([xx1.ravel(), xx2.ravel()]).T)\n",
    "    Z = Z.reshape(xx1.shape)\n",
    "    plt.contourf(xx1, xx2, Z, alpha=0.4, cmap=cmap)\n",
    "    plt.xlim(xx1.min(), xx1.max())\n",
    "    plt.ylim(xx2.min(), xx2.max())\n",
    "    # plot all samples\n",
    "    X_test, y_test = X[test_idx, :], y[test_idx]\n",
    "    for idx, cl in enumerate(np.unique(y)):\n",
    "        plt.scatter(x=X[y == cl, 0], y=X[y == cl, 1],\n",
    "        alpha=0.8, c=cmap(idx),\n",
    "        marker=markers[idx], label=cl)\n",
    "        # highlight test samples\n",
    "        if test_idx:\n",
    "            X_test, y_test = X[test_idx, :], y[test_idx]\n",
    "            plt.scatter(X_test[:, 0], X_test[:, 1], c='',\n",
    "            alpha=1.0, linewidth=1, marker='o',\n",
    "            s=55, label='test set')\n",
    "\n",
    "X_combined_std = np.vstack((X_train_std, X_test_std))\n",
    "y_combined = np.hstack((y_train, y_test))\n",
    "plot_decision_regions(X=X_combined_std, y=y_combined,\n",
    "                      classifier=ppn, test_idx=range(105,150))\n",
    "plt.xlabel('petal length [standardized]')\n",
    "plt.ylabel('petal width [standardized]')\n",
    "plt.legend(loc='upper left')\n",
    "plt.show()"
   ]
  },
  {
   "cell_type": "markdown",
   "metadata": {},
   "source": [
    "## References\n",
    "\n",
    "+ Raschka, S. (2015). Python machine learning. Packt Publishing Ltd.\n",
    "+ https://sebastianraschka.com/Articles/2015_singlelayer_neurons.html\n",
    "+ Buduma, N., & Locascio, N. (2017). Fundamentals of deep learning: Designing next-generation machine intelligence algorithms. \" O'Reilly Media, Inc.\".\n",
    "+ Udacity. Introduction to Neural Networks. \n",
    "+ Udacity. Tensors in PyTorch\n",
    "+ https://imaddabbura.github.io/post/gradient_descent_algorithms/\n"
   ]
  }
 ],
 "metadata": {
  "kernelspec": {
   "display_name": "Python 3",
   "language": "python",
   "name": "python3"
  },
  "language_info": {
   "codemirror_mode": {
    "name": "ipython",
    "version": 3
   },
   "file_extension": ".py",
   "mimetype": "text/x-python",
   "name": "python",
   "nbconvert_exporter": "python",
   "pygments_lexer": "ipython3",
   "version": "3.6.6"
  }
 },
 "nbformat": 4,
 "nbformat_minor": 2
}
