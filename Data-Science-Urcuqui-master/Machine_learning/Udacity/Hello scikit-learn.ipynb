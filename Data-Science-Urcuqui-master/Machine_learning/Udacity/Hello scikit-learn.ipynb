{
 "cells": [
  {
   "cell_type": "markdown",
   "metadata": {},
   "source": [
    "# Hello scikit-learn\n",
    "\n",
    "This is only a first approach to the application of machine learning algorithms from scikit-learn library\n",
    "![image](../Utilities/scikit-learn.png)\n",
    "\n",
    "## Check if all the libraries are installed \n",
    "\n",
    "The next code will verify if we have already of the packages installed in our environment"
   ]
  },
  {
   "cell_type": "code",
   "execution_count": 3,
   "metadata": {},
   "outputs": [
    {
     "name": "stdout",
     "output_type": "stream",
     "text": [
      "checking for nltk\n",
      "checking for numpy\n",
      "checking for scipy\n",
      "checking for sklearn\n",
      "all the packages are ready, you could start to use machine learning in Python!!\n"
     ]
    }
   ],
   "source": [
    "print (\"checking for nltk\")\n",
    "flag = True\n",
    "try:\n",
    "    import nltk\n",
    "except ImportError:\n",
    "    print (\"you should install nltk before continuing\")\n",
    "    flag = False\n",
    "print (\"checking for numpy\")\n",
    "try:\n",
    "    import numpy\n",
    "except ImportError:\n",
    "    print (\"you should install numpy before continuing\")\n",
    "    flag = False\n",
    "print (\"checking for scipy\")\n",
    "try:\n",
    "    import scipy\n",
    "except:\n",
    "    print (\"you should install scipy before continuing\")\n",
    "    flag = False\n",
    "print (\"checking for sklearn\")\n",
    "try:\n",
    "    import sklearn\n",
    "except:\n",
    "    print (\"you should install sklearn before continuing\")   \n",
    "    flag = False\n",
    "try:\n",
    "    import numpy\n",
    "except:\n",
    "    print (\"you should install numpy before continuing\")\n",
    "    flag = False\n",
    "try:\n",
    "    import matplotlib\n",
    "except:\n",
    "    print (\"you should install matplotlib before continuing\")    \n",
    "    flag = False\n",
    "if flag:    \n",
    "    print (\"all the packages are ready, you could start to use machine learning in Python!!\")"
   ]
  },
  {
   "cell_type": "markdown",
   "metadata": {},
   "source": [
    "## Dataset\n",
    "\n",
    "In our first hello world we will use two datasets, these are:\n",
    "\n",
    "+ One is from an open source repository at University from California.\n",
    "+ The last one is the recognized dataset IRIS.\n",
    "\n",
    "In the next code we will use the package urllib in order to download a dataset from a repository and through the tarfile package we will unzip it. "
   ]
  },
  {
   "cell_type": "code",
   "execution_count": 5,
   "metadata": {},
   "outputs": [
    {
     "name": "stdout",
     "output_type": "stream",
     "text": [
      "downloading the Enron dataset (this may take a while)\n",
      "to check on progress, you can cd up one level, then execute <ls -lthr>\n",
      "Enron dataset should be last item on the list, along with its current size\n",
      "download will complete at about 423 MB\n",
      "download complete!\n",
      "unzipping Enron dataset (this may take a while)\n",
      "you're ready to go!\n"
     ]
    }
   ],
   "source": [
    "print (\"downlading...\")\n",
    "import urllib\n",
    "url = \"https://www.cs.cmu.edu/~./enron/enron_mail_20150507.tar.gz\"\n",
    "urllib.request.urlretrieve(url, filename=\"../enron_mail_20150507.tgz\")\n",
    "print (\"download complete!\")\n",
    "\n",
    "print\n",
    "print (\"unzipping dataset (this may take a while)\")\n",
    "import tarfile\n",
    "import os\n",
    "os.chdir(\"..\")\n",
    "tfile = tarfile.open(\"enron_mail_20150507.tgz\", \"r:gz\")\n",
    "tfile.extractall(\".\")\n",
    "\n",
    "print (\"you're ready to go!\")\n"
   ]
  }
 ],
 "metadata": {
  "kernelspec": {
   "display_name": "Python 3",
   "language": "python",
   "name": "python3"
  },
  "language_info": {
   "codemirror_mode": {
    "name": "ipython",
    "version": 3
   },
   "file_extension": ".py",
   "mimetype": "text/x-python",
   "name": "python",
   "nbconvert_exporter": "python",
   "pygments_lexer": "ipython3",
   "version": "3.6.6"
  }
 },
 "nbformat": 4,
 "nbformat_minor": 2
}
