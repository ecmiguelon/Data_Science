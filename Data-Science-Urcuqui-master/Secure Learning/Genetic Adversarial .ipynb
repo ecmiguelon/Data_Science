{
 "cells": [
  {
   "cell_type": "markdown",
   "metadata": {},
   "source": [
    "<img src=\"http://www.kurzweilai.net/images/poisoning_attack_svm.png\" />"
   ]
  },
  {
   "cell_type": "code",
   "execution_count": 12,
   "metadata": {},
   "outputs": [
    {
     "name": "stdout",
     "output_type": "stream",
     "text": [
      "Extracting input/data\\train-images-idx3-ubyte.gz\n",
      "Extracting input/data\\train-labels-idx1-ubyte.gz\n",
      "Extracting input/data\\t10k-images-idx3-ubyte.gz\n",
      "Extracting input/data\\t10k-labels-idx1-ubyte.gz\n"
     ]
    },
    {
     "name": "stderr",
     "output_type": "stream",
     "text": [
      "D:\\Usuarios\\rhaps\\Anaconda3\\lib\\site-packages\\tensorflow\\python\\client\\session.py:1702: UserWarning: An interactive session is already active. This can cause out-of-memory errors in some cases. You must explicitly call `InteractiveSession.close()` to release resources held by the other session(s).\n",
      "  warnings.warn('An interactive session is already active. This can '\n"
     ]
    },
    {
     "data": {
      "image/png": "[encoded data removed]",
      "text/plain": [
       "<Figure size 432x288 with 1 Axes>"
      ]
     },
     "metadata": {
      "needs_background": "light"
     },
     "output_type": "display_data"
    }
   ],
   "source": [
    "import random as rand\n",
    "import numpy as np\n",
    "import tensorflow as tf\n",
    "import matplotlib.pyplot as plt\n",
    "from tensorflow.examples.tutorials.mnist import input_data\n",
    "from matplotlib.pyplot import cm\n",
    "mnist = input_data.read_data_sets('input/data', one_hot=True)\n",
    "\n",
    "mutation_degree = 0.5                              # Mutation probability\n",
    "mutation_number = int(mutation_degree * 784)              # Number of elements to mutate\n",
    "mutation_range = range(784)                        # Used to select mutation and crossover points\n",
    "crossover_probability = 0.6                           # Crossover probability\n",
    "population_number = 50                           # Population size\n",
    "population_range = range(population_number)\n",
    "generation_number = 1000                         # Number of generations\n",
    "generation_range = range(generation_number)\n",
    "tournaments = 3                            # Tournament sizes\n",
    "guassian_value = 0.007                         # Determines magnitude of mutations (guassian standard deviation)\n",
    "fitness_sensativity = 0.0000005\n",
    "\n",
    "sess = tf.InteractiveSession()\n",
    "\n",
    "\n",
    "# Note: the following are placeholders for a tensor that will be constantly fed\n",
    "x = tf.placeholder(tf.float32, shape=[None, 784])   # Feature tensor = 28x28\n",
    "\n",
    "W = tf.Variable(tf.zeros([784, 10]))                # Weights\n",
    "b = tf.Variable(tf.zeros([10]))                     # Biases\n",
    "\n",
    "sess.run(tf.global_variables_initializer())\n",
    "saver = tf.train.Saver()\n",
    "\n",
    "batch = mnist.test.next_batch(1)\n",
    "batch = mnist.test.next_batch(1)\n",
    "two = batch[0]                                      # two is our test image\n",
    "population = np.zeros((population_number, 784))\n",
    "for i in population_range:                              # Seeding the initial image population as the target image (two)\n",
    "    population[i] = two\n",
    "\n",
    "test = population[1]                                # Test sample from population\n",
    "\n",
    "# Print the image\n",
    "test.shape = (28, 28)\n",
    "plt.imshow(test, cmap='gray')\n",
    "plt.savefig(\"output/fig4.png\")"
   ]
  },
  {
   "cell_type": "code",
   "execution_count": 13,
   "metadata": {},
   "outputs": [
    {
     "name": "stdout",
     "output_type": "stream",
     "text": [
      "Model out: [[0.1 0.1 0.1 0.1 0.1 0.1 0.1 0.1 0.1 0.1]]\n",
      "Actual: [[0. 0. 1. 0. 0. 0. 0. 0. 0. 0.]]\n",
      "result duplicate: [[0.1 0.1 0.1 0.1 0.1 0.1 0.1 0.1 0.1 0.1]]\n",
      "0\n",
      "<built-in method astype of numpy.ndarray object at 0x000001D504ADFC10>\n",
      "[0.1 0.1 0.1 0.1 0.1 0.1 0.1 0.1 0.1 0.1]\n",
      "result duplicate: [[0.1 0.1 0.1 0.1 0.1 0.1 0.1 0.1 0.1 0.1]]\n",
      "New:  [1. 0. 0. 0. 0. 0. 0. 0. 0. 0.]\n"
     ]
    },
    {
     "data": {
      "image/png": "[encoded data removed]",
      "text/plain": [
       "<Figure size 432x288 with 1 Axes>"
      ]
     },
     "metadata": {
      "needs_background": "light"
     },
     "output_type": "display_data"
    }
   ],
   "source": [
    "children = np.zeros((population_number, 784))            # Empty child population\n",
    "\n",
    "\n",
    "# Mutation function (with some probability, each pixel mutates in an amount given by guassian distribution)\n",
    "def generate_mutation(chromosome):\n",
    "    change_list = rand.sample(mutation_range, mutation_number)\n",
    "\n",
    "    for i in change_list:\n",
    "        chromosome[i] += np.random.normal(scale=guassian_value)    # The results are somewhat sensitive to how\n",
    "                                                                # the gaussian is scaled\n",
    "    chromosome[chromosome < 0] = 0\n",
    "    chromosome[chromosome > 1] = 1\n",
    "\n",
    "    return chromosome\n",
    "\n",
    "\n",
    "def crossover(chromosome1, chromosome2):\n",
    "    crossover_points = rand.sample(mutation_range, 2)\n",
    "\n",
    "    temp = chromosome2[crossover_points[0]:crossover_points[1]]\n",
    "    chromosome2[crossover_points[0]:crossover_points[1]] = chromosome1[crossover_points[0]:crossover_points[1]]\n",
    "    chromosome1[crossover_points[0]:crossover_points[1]] = temp\n",
    "\n",
    "    return chromosome1, chromosome2\n",
    "\n",
    "\n",
    "def tournament(images, target_image, scores, target_score, step):\n",
    "    fitness_value = np.zeros(tournaments)\n",
    "    for i in range(tournaments):\n",
    "        fitness_value[i] = fitness(images[i], target_image, scores[i], target_score, step)\n",
    "\n",
    "    winner = images[np.argmax(fitness_value)]\n",
    "\n",
    "    return winner\n",
    "\n",
    "\n",
    "# Fitness function\n",
    "def fitness(image, target_image, score, target_score, step):\n",
    "    fitness_value = -(fitness_sensativity * np.linalg.norm(image - target_image) + (target_score-score))\n",
    "\n",
    "    return fitness_value\n",
    "\n",
    "\n",
    "y = tf.nn.softmax(tf.matmul(x, W) + b)\n",
    "\n",
    "# Restore variables\n",
    "#saver.restore(sess, 'fashion_model/fashion_model.ckpt')\n",
    "\n",
    "# Prints the initial classification\n",
    "result = sess.run(y, feed_dict={x: batch[0]})\n",
    "print(\"Model out:\", result)\n",
    "print(\"Actual:\", batch[1])\n",
    "two.shape = (784)\n",
    "\n",
    "# Main algorithm\n",
    "for i in generation_range:\n",
    "    scores = sess.run(y, feed_dict={x: population})\n",
    "\n",
    "    for j in range(population_number//2):\n",
    "        selection = rand.sample(population_range, tournaments)\n",
    "        parent1 = tournament([population[selection[0]], population[selection[1]], population[selection[2]]], two,\n",
    "                             [scores[selection[0], 6], scores[selection[1], 6], scores[selection[2], 6]], 1, i)\n",
    "        selection = rand.sample(population_range, tournaments)\n",
    "        parent2 = tournament([population[selection[0]], population[selection[1]], population[selection[2]]], two,\n",
    "                             [scores[selection[0], 6], scores[selection[1], 6], scores[selection[2], 6]], 1, i)\n",
    "\n",
    "        if np.random.rand() < crossover_probability:\n",
    "            child1, child2 = crossover(parent1, parent2)\n",
    "            children[j*2] = generate_mutation(child1)\n",
    "            children[j*2+1] = generate_mutation(child2)\n",
    "        else:\n",
    "            children[j*2] = generate_mutation(parent1)\n",
    "            children[j*2+1] = generate_mutation(parent2)\n",
    "\n",
    "    population = children\n",
    "\n",
    "\n",
    "test = population[1]\n",
    "test.shape = (1, 784)\n",
    "result = sess.run(y, feed_dict={x: test})\n",
    "result_duplicate=result\n",
    "print(\"result duplicate:\",result_duplicate)\n",
    "i_max=np.argmax(result)\n",
    "print(i_max)            #finding the max probability\n",
    "print(result.astype)\n",
    "print(result.flatten())#flttening the numpy array from nd to 1D\n",
    "result_list = result.flatten()  #saving array in another list\n",
    "for j in range(len(result_list)):\n",
    "    if result_list[i_max]==result_list[j]:\n",
    "        result_list[j]=1\n",
    "    else:\n",
    "        result_list[j]=0        #making other prediction=0 for clearer results\n",
    "print(\"result duplicate:\",result_duplicate)\n",
    "print (\"New: \", result_list)\n",
    "\n",
    "test.shape = (28, 28)\n",
    "plt.imshow(test, cmap='gray')\n",
    "plt.savefig(\"output/fig4.png\")"
   ]
  },
  {
   "cell_type": "code",
   "execution_count": 15,
   "metadata": {},
   "outputs": [
    {
     "data": {
      "text/plain": [
       "(28, 28)"
      ]
     },
     "execution_count": 15,
     "metadata": {},
     "output_type": "execute_result"
    }
   ],
   "source": [
    "test.shape"
   ]
  },
  {
   "cell_type": "markdown",
   "metadata": {},
   "source": [
    "## References\n",
    "\n",
    "+ https://github.com/prabhant/Genetic-adversarial-examples/blob/master/Fashionmnist.py"
   ]
  }
 ],
 "metadata": {
  "kernelspec": {
   "display_name": "Python 3",
   "language": "python",
   "name": "python3"
  },
  "language_info": {
   "codemirror_mode": {
    "name": "ipython",
    "version": 3
   },
   "file_extension": ".py",
   "mimetype": "text/x-python",
   "name": "python",
   "nbconvert_exporter": "python",
   "pygments_lexer": "ipython3",
   "version": "3.6.6"
  }
 },
 "nbformat": 4,
 "nbformat_minor": 2
}
