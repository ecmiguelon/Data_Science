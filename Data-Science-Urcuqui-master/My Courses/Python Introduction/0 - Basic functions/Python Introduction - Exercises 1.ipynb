{
 "cells": [
  {
   "cell_type": "markdown",
   "metadata": {},
   "source": [
    "# Python Exercises, practice  \n",
    "\n",
    "__Student:__"
   ]
  },
  {
   "cell_type": "markdown",
   "metadata": {},
   "source": [
    "__1 exercise__\n",
    "\n",
    "print hello world"
   ]
  },
  {
   "cell_type": "code",
   "execution_count": 1,
   "metadata": {
    "scrolled": true
   },
   "outputs": [
    {
     "name": "stdout",
     "output_type": "stream",
     "text": [
      "hello world\n"
     ]
    }
   ],
   "source": [
    "print(\"hello world\")"
   ]
  },
  {
   "cell_type": "markdown",
   "metadata": {},
   "source": [
    "__2 exercise__\n",
    "\n",
    "Let's create a variable with the name _variable_ and assign it the value \"hello world\"."
   ]
  },
  {
   "cell_type": "code",
   "execution_count": 3,
   "metadata": {},
   "outputs": [],
   "source": [
    "variable = \"hello world\""
   ]
  },
  {
   "cell_type": "markdown",
   "metadata": {},
   "source": [
    "__3 exercise__\n",
    "\n",
    "Print the type of _variable_"
   ]
  },
  {
   "cell_type": "code",
   "execution_count": 4,
   "metadata": {},
   "outputs": [
    {
     "data": {
      "text/plain": [
       "str"
      ]
     },
     "execution_count": 4,
     "metadata": {},
     "output_type": "execute_result"
    }
   ],
   "source": [
    "type(variable)"
   ]
  },
  {
   "cell_type": "markdown",
   "metadata": {},
   "source": [
    "__4 exercise__\n",
    "\n",
    "Let's remove the word \" world\" from _variable_"
   ]
  },
  {
   "cell_type": "code",
   "execution_count": 13,
   "metadata": {},
   "outputs": [
    {
     "data": {
      "text/plain": [
       "'hello'"
      ]
     },
     "execution_count": 13,
     "metadata": {},
     "output_type": "execute_result"
    }
   ],
   "source": [
    "variable = variable[:5]\n",
    "variable"
   ]
  },
  {
   "cell_type": "markdown",
   "metadata": {},
   "source": [
    "__2 exercise__\n",
    "\n",
    "Let's make a function which receives a list of number from 1 to 20 and prints only the number that are odd."
   ]
  },
  {
   "cell_type": "code",
   "execution_count": 5,
   "metadata": {},
   "outputs": [
    {
     "name": "stdout",
     "output_type": "stream",
     "text": [
      "1\n",
      "3\n",
      "5\n",
      "7\n",
      "9\n",
      "11\n",
      "13\n",
      "15\n",
      "17\n",
      "19\n"
     ]
    }
   ],
   "source": [
    "def odd(array):\n",
    "    for i in array:\n",
    "        if i%2!=0:\n",
    "            print(i)\n",
    "array = range(0,20)\n",
    "odd(array)"
   ]
  },
  {
   "cell_type": "markdown",
   "metadata": {},
   "source": [
    "__3 exercise__\n",
    "\n",
    "Let's make a method in a Python file which receives two parameters:\n",
    "\n",
    "+ A list of integers \n",
    "+ An exponent number \n",
    "\n",
    "$b^{n} = b \\times \\dots \\times b$  \n",
    "\n",
    "The method allows us to calculate the exponentiation of each number in the list.\n",
    "\n",
    "We must import the file and use it to call the method"
   ]
  },
  {
   "cell_type": "code",
   "execution_count": 7,
   "metadata": {},
   "outputs": [
    {
     "name": "stdout",
     "output_type": "stream",
     "text": [
      "0\n",
      "1\n",
      "1\n",
      "2\n",
      "3\n",
      "5\n",
      "8\n",
      "4\n",
      "9\n",
      "16\n",
      "25\n"
     ]
    }
   ],
   "source": [
    "from tools import ex\n",
    "\n",
    "\n",
    "b = [2,3,4,5]\n",
    "n = 2\n",
    "ex(b, 2)"
   ]
  },
  {
   "cell_type": "markdown",
   "metadata": {},
   "source": [
    "__4 exercise__\n",
    "\n",
    "The idea is to make a dictionary _diccionario_ with the next keys and values:\n",
    "\n",
    "_variableUno_: [1,2,3,4]\n",
    "\n",
    "_variableDos_: [\"1\",\"a\",\"?\"]\n"
   ]
  },
  {
   "cell_type": "code",
   "execution_count": 5,
   "metadata": {},
   "outputs": [
    {
     "data": {
      "text/plain": [
       "{'variableUno': [1, 2, 3, 4], 'variableDos': ['1', 'a', '?']}"
      ]
     },
     "execution_count": 5,
     "metadata": {},
     "output_type": "execute_result"
    }
   ],
   "source": [
    "diccionario = {'variableUno':[1,2,3,4], 'variableDos':[\"1\",\"a\",\"?\"]}\n",
    "diccionario"
   ]
  },
  {
   "cell_type": "markdown",
   "metadata": {},
   "source": [
    "__5 exercise__\n",
    "\n",
    "Change the first letter of \"Spam\" to \"z\" "
   ]
  },
  {
   "cell_type": "code",
   "execution_count": 6,
   "metadata": {},
   "outputs": [
    {
     "data": {
      "text/plain": [
       "'zpam'"
      ]
     },
     "execution_count": 6,
     "metadata": {},
     "output_type": "execute_result"
    }
   ],
   "source": [
    "s = \"Spam\"\n",
    "s = \"z\" + s[1:]\n",
    "s"
   ]
  },
  {
   "cell_type": "markdown",
   "metadata": {},
   "source": [
    "__6 exercise__\n",
    "\n",
    "let's do a program which receives some parameters in order to calculate the perimeter of a rectangle.\n",
    "\n",
    "$p = 2x + 2y$"
   ]
  },
  {
   "cell_type": "code",
   "execution_count": null,
   "metadata": {},
   "outputs": [],
   "source": [
    "x = float(input(\"write the X number\"))\n",
    "y = float(input(\"write the number for Y\"))\n",
    "print(\"perimeter is: %s\"% ((2*x) + (2*y)))"
   ]
  },
  {
   "cell_type": "markdown",
   "metadata": {},
   "source": [
    "__7 exercise__\n",
    "\n",
    "+ Create a class that saves the name of a person, his height in meters and weights in kilograms.\n",
    "+ This class must have a operation which calculate the Body mass index (BMI).\n",
    "+ Define a list of 5 persons and print their BMI. "
   ]
  },
  {
   "cell_type": "markdown",
   "metadata": {},
   "source": [
    "__8 exercise__\n",
    "\n",
    "make a program that prints the numbers from 1 to 100\n",
    "If the number is divisible by 2 then print \"whiz\"\n",
    "if the number is divisible by 3 then print \"bang\""
   ]
  },
  {
   "cell_type": "code",
   "execution_count": 9,
   "metadata": {},
   "outputs": [
    {
     "name": "stdout",
     "output_type": "stream",
     "text": [
      "\n",
      "whiz 2\n",
      "bang 3\n",
      "whiz 4\n",
      "\n",
      "whiz 6\n",
      "\n",
      "whiz 8\n",
      "bang 9\n",
      "whiz 10\n",
      "\n",
      "whiz 12\n",
      "\n",
      "whiz 14\n",
      "bang 15\n",
      "whiz 16\n",
      "\n",
      "whiz 18\n",
      "\n",
      "whiz 20\n",
      "bang 21\n",
      "whiz 22\n",
      "\n",
      "whiz 24\n",
      "\n",
      "whiz 26\n",
      "bang 27\n",
      "whiz 28\n",
      "\n",
      "whiz 30\n",
      "\n",
      "whiz 32\n",
      "bang 33\n",
      "whiz 34\n",
      "\n",
      "whiz 36\n",
      "\n",
      "whiz 38\n",
      "bang 39\n",
      "whiz 40\n",
      "\n",
      "whiz 42\n",
      "\n",
      "whiz 44\n",
      "bang 45\n",
      "whiz 46\n",
      "\n",
      "whiz 48\n",
      "\n",
      "whiz 50\n",
      "bang 51\n",
      "whiz 52\n",
      "\n",
      "whiz 54\n",
      "\n",
      "whiz 56\n",
      "bang 57\n",
      "whiz 58\n",
      "\n",
      "whiz 60\n",
      "\n",
      "whiz 62\n",
      "bang 63\n",
      "whiz 64\n",
      "\n",
      "whiz 66\n",
      "\n",
      "whiz 68\n",
      "bang 69\n",
      "whiz 70\n",
      "\n",
      "whiz 72\n",
      "\n",
      "whiz 74\n",
      "bang 75\n",
      "whiz 76\n",
      "\n",
      "whiz 78\n",
      "\n",
      "whiz 80\n",
      "bang 81\n",
      "whiz 82\n",
      "\n",
      "whiz 84\n",
      "\n",
      "whiz 86\n",
      "bang 87\n",
      "whiz 88\n",
      "\n",
      "whiz 90\n",
      "\n",
      "whiz 92\n",
      "bang 93\n",
      "whiz 94\n",
      "\n",
      "whiz 96\n",
      "\n",
      "whiz 98\n",
      "bang 99\n",
      "whiz 100\n"
     ]
    }
   ],
   "source": [
    "array =  list(range(1,101))\n",
    "def method(a):\n",
    "    for i in a:\n",
    "        if i % 2 == 0:\n",
    "            print(\"whiz %s\" %i)\n",
    "        elif  i % 3 == 0:\n",
    "            print(\"bang %s\" %i)\n",
    "        else:\n",
    "            print(\"\")\n",
    "method(array)"
   ]
  }
 ],
 "metadata": {
  "kernelspec": {
   "display_name": "Python 3",
   "language": "python",
   "name": "python3"
  },
  "language_info": {
   "codemirror_mode": {
    "name": "ipython",
    "version": 3
   },
   "file_extension": ".py",
   "mimetype": "text/x-python",
   "name": "python",
   "nbconvert_exporter": "python",
   "pygments_lexer": "ipython3",
   "version": "3.6.8"
  }
 },
 "nbformat": 4,
 "nbformat_minor": 2
}
