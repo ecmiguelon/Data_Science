{
 "cells": [
  {
   "cell_type": "markdown",
   "metadata": {},
   "source": [
    "_Author: Christian Camilo Urcuqui López_\n",
    "\n",
    "_Date: 25 july 2019_\n",
    "\n",
    "# Anomaly Detection NSL-KDD dataset\n",
    "\n",
    "In this notebook I'm going to explore the NSL-KDD dataset downloaded from the following URL:\n",
    "\n",
    "https://www.unb.ca/cic/datasets/nsl.html\n",
    "\n",
    "This work is divided in these sections:\n",
    "+ [Introduction](#Introduction)\n",
    "    - [Libraries](#Libraries)\n",
    "+ [Data Exploratory](#Data-Exploratory)\n",
    "+ [Modeling](#Modeling)\n",
    "+ [Conclusions](#Conclusions)\n",
    "+ [References](#References)"
   ]
  },
  {
   "cell_type": "markdown",
   "metadata": {},
   "source": [
    "## Introduction\n",
    "\n",
    "I\n",
    "'m going to use the description described in the official dataset webpage, unb has proposed a new dataset from KDD'99 due its problems (some of related with reduntant records), the NLS's statistics are: \n",
    "\n",
    "__Statistics of redundant records in the KDD train set__\n",
    "\n",
    "**Original records | Distinct records | Reduction rate**\n",
    "\n",
    "+ Attacks: 3,925,650 | 262,178 | 93.32%\n",
    "+ Normal: 972,781 | 812,814 | 16.44%\n",
    "+ Total: 4,898,431 | 1,074,992 | 78.05%\n",
    "\n",
    "__Statistics of redundant records in the KDD test set__\n",
    "\n",
    "**Original records | Distinct records | Reduction rate**\n",
    "+ Attacks: 250,436 | 29,378 | 88.26%\n",
    "+ Normal: 60,591 | 47,911 | 20.92%\n",
    "+ Total: 311,027 | 77,289 | 75.15%\n",
    "\n",
    "The data has four attacks categories, they are:\n",
    "\n",
    "+ DOS: denial-of-service, e.g. syn flood;\n",
    "+ R2L: unauthorized access from a remote machine, e.g. guessing password;\n",
    "+ U2R:  unauthorized access to local superuser (root) privileges, e.g., various ``buffer overflow'' attacks;\n",
    "+ probing: surveillance and other probing, e.g., port scanning.\n",
    "\n",
    "This is the features description:\n",
    "```\n",
    "    + duration | length (number of seconds) of the connection | continuous\n",
    "    + protocol_type | type of the protocol, e.g. tcp, udp, etc. | discrete\n",
    "    + service |\tnetwork service on the destination, e.g., http, telnet, etc. | discrete\n",
    "    + src_bytes |\tnumber of data bytes from source to destination |\tcontinuous\n",
    "    + dst_bytes |\tnumber of data bytes from destination to source |\tcontinuous\n",
    "    + flag |\tnormal or error status of the connection |\tdiscrete \n",
    "    + land |\t1 if connection is from/to the same host/port; 0 otherwise |\tdiscrete\n",
    "    + wrong_fragment |\tnumber of ``wrong'' fragments |\tcontinuous\n",
    "    + urgent |\tnumber of urgent packets |\tcontinuous\n",
    "```\n",
    "<center> Table 1: Basic features of individual TCP connections. </center>\n",
    "\n",
    "```\n",
    "    + hot |\tnumber of ``hot'' indicators  |\tcontinuous\n",
    "    + num_failed_logins |\tnumber of failed login attempts |\tcontinuous\n",
    "    + logged_in |\t1 if successfully logged in; 0 otherwise |\tdiscrete\n",
    "    + num_compromised |\tnumber of ``compromised'' conditions |\tcontinuous\n",
    "    + root_shell |\t1 if root shell is obtained; 0 otherwise |\tdiscrete\n",
    "    + su_attempted |\t1 if ``su root'' command attempted; 0 otherwise |\tdiscrete\n",
    "    + num_root |\tnumber of ``root'' accesses |\tcontinuous\n",
    "    + num_file_creations |\tnumber of file creation operations |\tcontinuous\n",
    "    + num_shells |\tnumber of shell prompts |\tcontinuous\n",
    "    + num_access_files |\tnumber of operations on access control files |\tcontinuous\n",
    "    + num_outbound_cmds\t| number of outbound commands in an ftp session |\tcontinuous\n",
    "    + is_hot_login |\t1 if the login belongs to the ``hot'' list; 0 otherwise |\tdiscrete\n",
    "    + is_guest_login |\t1 if the login is a ``guest''login; 0 otherwise |\tdiscrete    \n",
    "```\n",
    "\n",
    "<center>  Table 2: Content features within a connection suggested by domain knowledge. </center>\n",
    "\n",
    "```\n",
    "    + count |\tnumber of connections to the same host as the current connection in the past two seconds |\tcontinuous\n",
    "\n",
    "Note: The following  features refer to these same-host connections.\t\n",
    "\n",
    "    + serror_rate |\t% of connections that have ``SYN'' errors |\tcontinuous\n",
    "    + rerror_rate |\t% of connections that have ``REJ'' errors |\tcontinuous\n",
    "    + same_srv_rate |\t% of connections to the same service |\tcontinuous\n",
    "    + diff_srv_rate |\t% of connections to different services |\tcontinuous\n",
    "    + srv_count |\tnumber of connections to the same service as the current connection in the past two seconds |\tcontinuous\n",
    "\n",
    "Note: The following features refer to these same-service connections.\t\n",
    "\n",
    "    + srv_serror_rate |\t% of connections that have ``SYN'' errors |\tcontinuous\n",
    "    + srv_rerror_rate |\t% of connections that have ``REJ'' errors |\tcontinuous\n",
    "    + srv_diff_host_rate |\t% of connections to different hosts |\tcontinuous \n",
    "```"
   ]
  },
  {
   "cell_type": "markdown",
   "metadata": {},
   "source": [
    "### Libraries"
   ]
  },
  {
   "cell_type": "code",
   "execution_count": 232,
   "metadata": {},
   "outputs": [],
   "source": [
    "# libraries\n",
    "import pyspark\n",
    "import pandas as pd\n",
    "import numpy as np\n",
    "import seaborn as sns\n",
    "import matplotlib.pyplot as plt\n",
    "import pickle\n",
    "from sklearn.model_selection import train_test_split\n",
    "from sklearn.preprocessing import OneHotEncoder\n",
    "from sklearn import tree\n",
    "from sklearn import preprocessing\n",
    "\n",
    "from sklearn.neural_network import MLPClassifier\n",
    "from sklearn.neighbors import KNeighborsClassifier\n",
    "from sklearn.svm import SVC\n",
    "from sklearn.tree import DecisionTreeClassifier\n",
    "from sklearn.ensemble import RandomForestClassifier\n",
    "from sklearn.naive_bayes import GaussianNB\n",
    "from sklearn.metrics import accuracy_score, classification_report, confusion_matrix, cohen_kappa_score\n",
    "from sklearn.externals import joblib"
   ]
  },
  {
   "cell_type": "markdown",
   "metadata": {},
   "source": [
    "## Data Exploratory\n",
    "\n",
    "The file has 43 columns where the last one represents the difficulty level of the records in KDD dataset."
   ]
  },
  {
   "cell_type": "code",
   "execution_count": 94,
   "metadata": {
    "scrolled": true
   },
   "outputs": [
    {
     "name": "stdout",
     "output_type": "stream",
     "text": [
      "43\n"
     ]
    }
   ],
   "source": [
    "# let's load the datasets \n",
    "# these are the colnames described at http://kdd.ics.uci.edu/databases/kddcup99/task.html\n",
    "col_names =[\"duration\",\"protocol_type\",\"service\",\"flag\",\"src_bytes\",\n",
    "    \"dst_bytes\",\"land\",\"wrong_fragment\",\"urgent\",\n",
    "            \"hot\",\"num_failed_logins\", \"logged_in\",\"num_compromised\",\"root_shell\",\"su_attempted\",\"num_root\",\n",
    "    \"num_file_creations\",\"num_shells\",\"num_access_files\",\"num_outbound_cmds\",\n",
    "    \"is_host_login\",\"is_guest_login\",            \n",
    "            \"count\",\"srv_count\", \"serror_rate\", \"srv_serror_rate\",\"rerror_rate\",\"srv_rerror_rate\",\n",
    "            \"same_srv_rate\",\n",
    "    \"diff_srv_rate\",\"srv_diff_host_rate\",\"dst_host_count\",\"dst_host_srv_count\",\n",
    "    \"dst_host_same_srv_rate\",\"dst_host_diff_srv_rate\",\"dst_host_same_src_port_rate\",\n",
    "    \"dst_host_srv_diff_host_rate\",\"dst_host_serror_rate\",\"dst_host_srv_serror_rate\",\n",
    "    \"dst_host_rerror_rate\",\"dst_host_srv_rerror_rate\",\"labels\", \"level\"]\n",
    "print(len(col_names))\n",
    "df_train = pd.read_csv(\"../../Datasets/NSL-KDD/KDDTrain+.txt\", names=col_names)"
   ]
  },
  {
   "cell_type": "code",
   "execution_count": 95,
   "metadata": {
    "scrolled": true
   },
   "outputs": [
    {
     "data": {
      "text/html": [
       "<div>\n",
       "<style scoped>\n",
       "    .dataframe tbody tr th:only-of-type {\n",
       "        vertical-align: middle;\n",
       "    }\n",
       "\n",
       "    .dataframe tbody tr th {\n",
       "        vertical-align: top;\n",
       "    }\n",
       "\n",
       "    .dataframe thead th {\n",
       "        text-align: right;\n",
       "    }\n",
       "</style>\n",
       "<table border=\"1\" class=\"dataframe\">\n",
       "  <thead>\n",
       "    <tr style=\"text-align: right;\">\n",
       "      <th></th>\n",
       "      <th>0</th>\n",
       "      <th>1</th>\n",
       "      <th>2</th>\n",
       "      <th>3</th>\n",
       "      <th>4</th>\n",
       "    </tr>\n",
       "  </thead>\n",
       "  <tbody>\n",
       "    <tr>\n",
       "      <th>duration</th>\n",
       "      <td>0</td>\n",
       "      <td>0</td>\n",
       "      <td>0</td>\n",
       "      <td>0</td>\n",
       "      <td>0</td>\n",
       "    </tr>\n",
       "    <tr>\n",
       "      <th>protocol_type</th>\n",
       "      <td>tcp</td>\n",
       "      <td>udp</td>\n",
       "      <td>tcp</td>\n",
       "      <td>tcp</td>\n",
       "      <td>tcp</td>\n",
       "    </tr>\n",
       "    <tr>\n",
       "      <th>service</th>\n",
       "      <td>ftp_data</td>\n",
       "      <td>other</td>\n",
       "      <td>private</td>\n",
       "      <td>http</td>\n",
       "      <td>http</td>\n",
       "    </tr>\n",
       "    <tr>\n",
       "      <th>flag</th>\n",
       "      <td>SF</td>\n",
       "      <td>SF</td>\n",
       "      <td>S0</td>\n",
       "      <td>SF</td>\n",
       "      <td>SF</td>\n",
       "    </tr>\n",
       "    <tr>\n",
       "      <th>src_bytes</th>\n",
       "      <td>491</td>\n",
       "      <td>146</td>\n",
       "      <td>0</td>\n",
       "      <td>232</td>\n",
       "      <td>199</td>\n",
       "    </tr>\n",
       "    <tr>\n",
       "      <th>dst_bytes</th>\n",
       "      <td>0</td>\n",
       "      <td>0</td>\n",
       "      <td>0</td>\n",
       "      <td>8153</td>\n",
       "      <td>420</td>\n",
       "    </tr>\n",
       "    <tr>\n",
       "      <th>land</th>\n",
       "      <td>0</td>\n",
       "      <td>0</td>\n",
       "      <td>0</td>\n",
       "      <td>0</td>\n",
       "      <td>0</td>\n",
       "    </tr>\n",
       "    <tr>\n",
       "      <th>wrong_fragment</th>\n",
       "      <td>0</td>\n",
       "      <td>0</td>\n",
       "      <td>0</td>\n",
       "      <td>0</td>\n",
       "      <td>0</td>\n",
       "    </tr>\n",
       "    <tr>\n",
       "      <th>urgent</th>\n",
       "      <td>0</td>\n",
       "      <td>0</td>\n",
       "      <td>0</td>\n",
       "      <td>0</td>\n",
       "      <td>0</td>\n",
       "    </tr>\n",
       "    <tr>\n",
       "      <th>hot</th>\n",
       "      <td>0</td>\n",
       "      <td>0</td>\n",
       "      <td>0</td>\n",
       "      <td>0</td>\n",
       "      <td>0</td>\n",
       "    </tr>\n",
       "    <tr>\n",
       "      <th>num_failed_logins</th>\n",
       "      <td>0</td>\n",
       "      <td>0</td>\n",
       "      <td>0</td>\n",
       "      <td>0</td>\n",
       "      <td>0</td>\n",
       "    </tr>\n",
       "    <tr>\n",
       "      <th>logged_in</th>\n",
       "      <td>0</td>\n",
       "      <td>0</td>\n",
       "      <td>0</td>\n",
       "      <td>1</td>\n",
       "      <td>1</td>\n",
       "    </tr>\n",
       "    <tr>\n",
       "      <th>num_compromised</th>\n",
       "      <td>0</td>\n",
       "      <td>0</td>\n",
       "      <td>0</td>\n",
       "      <td>0</td>\n",
       "      <td>0</td>\n",
       "    </tr>\n",
       "    <tr>\n",
       "      <th>root_shell</th>\n",
       "      <td>0</td>\n",
       "      <td>0</td>\n",
       "      <td>0</td>\n",
       "      <td>0</td>\n",
       "      <td>0</td>\n",
       "    </tr>\n",
       "    <tr>\n",
       "      <th>su_attempted</th>\n",
       "      <td>0</td>\n",
       "      <td>0</td>\n",
       "      <td>0</td>\n",
       "      <td>0</td>\n",
       "      <td>0</td>\n",
       "    </tr>\n",
       "    <tr>\n",
       "      <th>num_root</th>\n",
       "      <td>0</td>\n",
       "      <td>0</td>\n",
       "      <td>0</td>\n",
       "      <td>0</td>\n",
       "      <td>0</td>\n",
       "    </tr>\n",
       "    <tr>\n",
       "      <th>num_file_creations</th>\n",
       "      <td>0</td>\n",
       "      <td>0</td>\n",
       "      <td>0</td>\n",
       "      <td>0</td>\n",
       "      <td>0</td>\n",
       "    </tr>\n",
       "    <tr>\n",
       "      <th>num_shells</th>\n",
       "      <td>0</td>\n",
       "      <td>0</td>\n",
       "      <td>0</td>\n",
       "      <td>0</td>\n",
       "      <td>0</td>\n",
       "    </tr>\n",
       "    <tr>\n",
       "      <th>num_access_files</th>\n",
       "      <td>0</td>\n",
       "      <td>0</td>\n",
       "      <td>0</td>\n",
       "      <td>0</td>\n",
       "      <td>0</td>\n",
       "    </tr>\n",
       "    <tr>\n",
       "      <th>num_outbound_cmds</th>\n",
       "      <td>0</td>\n",
       "      <td>0</td>\n",
       "      <td>0</td>\n",
       "      <td>0</td>\n",
       "      <td>0</td>\n",
       "    </tr>\n",
       "    <tr>\n",
       "      <th>is_host_login</th>\n",
       "      <td>0</td>\n",
       "      <td>0</td>\n",
       "      <td>0</td>\n",
       "      <td>0</td>\n",
       "      <td>0</td>\n",
       "    </tr>\n",
       "    <tr>\n",
       "      <th>is_guest_login</th>\n",
       "      <td>0</td>\n",
       "      <td>0</td>\n",
       "      <td>0</td>\n",
       "      <td>0</td>\n",
       "      <td>0</td>\n",
       "    </tr>\n",
       "    <tr>\n",
       "      <th>count</th>\n",
       "      <td>2</td>\n",
       "      <td>13</td>\n",
       "      <td>123</td>\n",
       "      <td>5</td>\n",
       "      <td>30</td>\n",
       "    </tr>\n",
       "    <tr>\n",
       "      <th>srv_count</th>\n",
       "      <td>2</td>\n",
       "      <td>1</td>\n",
       "      <td>6</td>\n",
       "      <td>5</td>\n",
       "      <td>32</td>\n",
       "    </tr>\n",
       "    <tr>\n",
       "      <th>serror_rate</th>\n",
       "      <td>0</td>\n",
       "      <td>0</td>\n",
       "      <td>1</td>\n",
       "      <td>0.2</td>\n",
       "      <td>0</td>\n",
       "    </tr>\n",
       "    <tr>\n",
       "      <th>srv_serror_rate</th>\n",
       "      <td>0</td>\n",
       "      <td>0</td>\n",
       "      <td>1</td>\n",
       "      <td>0.2</td>\n",
       "      <td>0</td>\n",
       "    </tr>\n",
       "    <tr>\n",
       "      <th>rerror_rate</th>\n",
       "      <td>0</td>\n",
       "      <td>0</td>\n",
       "      <td>0</td>\n",
       "      <td>0</td>\n",
       "      <td>0</td>\n",
       "    </tr>\n",
       "    <tr>\n",
       "      <th>srv_rerror_rate</th>\n",
       "      <td>0</td>\n",
       "      <td>0</td>\n",
       "      <td>0</td>\n",
       "      <td>0</td>\n",
       "      <td>0</td>\n",
       "    </tr>\n",
       "    <tr>\n",
       "      <th>same_srv_rate</th>\n",
       "      <td>1</td>\n",
       "      <td>0.08</td>\n",
       "      <td>0.05</td>\n",
       "      <td>1</td>\n",
       "      <td>1</td>\n",
       "    </tr>\n",
       "    <tr>\n",
       "      <th>diff_srv_rate</th>\n",
       "      <td>0</td>\n",
       "      <td>0.15</td>\n",
       "      <td>0.07</td>\n",
       "      <td>0</td>\n",
       "      <td>0</td>\n",
       "    </tr>\n",
       "    <tr>\n",
       "      <th>srv_diff_host_rate</th>\n",
       "      <td>0</td>\n",
       "      <td>0</td>\n",
       "      <td>0</td>\n",
       "      <td>0</td>\n",
       "      <td>0.09</td>\n",
       "    </tr>\n",
       "    <tr>\n",
       "      <th>dst_host_count</th>\n",
       "      <td>150</td>\n",
       "      <td>255</td>\n",
       "      <td>255</td>\n",
       "      <td>30</td>\n",
       "      <td>255</td>\n",
       "    </tr>\n",
       "    <tr>\n",
       "      <th>dst_host_srv_count</th>\n",
       "      <td>25</td>\n",
       "      <td>1</td>\n",
       "      <td>26</td>\n",
       "      <td>255</td>\n",
       "      <td>255</td>\n",
       "    </tr>\n",
       "    <tr>\n",
       "      <th>dst_host_same_srv_rate</th>\n",
       "      <td>0.17</td>\n",
       "      <td>0</td>\n",
       "      <td>0.1</td>\n",
       "      <td>1</td>\n",
       "      <td>1</td>\n",
       "    </tr>\n",
       "    <tr>\n",
       "      <th>dst_host_diff_srv_rate</th>\n",
       "      <td>0.03</td>\n",
       "      <td>0.6</td>\n",
       "      <td>0.05</td>\n",
       "      <td>0</td>\n",
       "      <td>0</td>\n",
       "    </tr>\n",
       "    <tr>\n",
       "      <th>dst_host_same_src_port_rate</th>\n",
       "      <td>0.17</td>\n",
       "      <td>0.88</td>\n",
       "      <td>0</td>\n",
       "      <td>0.03</td>\n",
       "      <td>0</td>\n",
       "    </tr>\n",
       "    <tr>\n",
       "      <th>dst_host_srv_diff_host_rate</th>\n",
       "      <td>0</td>\n",
       "      <td>0</td>\n",
       "      <td>0</td>\n",
       "      <td>0.04</td>\n",
       "      <td>0</td>\n",
       "    </tr>\n",
       "    <tr>\n",
       "      <th>dst_host_serror_rate</th>\n",
       "      <td>0</td>\n",
       "      <td>0</td>\n",
       "      <td>1</td>\n",
       "      <td>0.03</td>\n",
       "      <td>0</td>\n",
       "    </tr>\n",
       "    <tr>\n",
       "      <th>dst_host_srv_serror_rate</th>\n",
       "      <td>0</td>\n",
       "      <td>0</td>\n",
       "      <td>1</td>\n",
       "      <td>0.01</td>\n",
       "      <td>0</td>\n",
       "    </tr>\n",
       "    <tr>\n",
       "      <th>dst_host_rerror_rate</th>\n",
       "      <td>0.05</td>\n",
       "      <td>0</td>\n",
       "      <td>0</td>\n",
       "      <td>0</td>\n",
       "      <td>0</td>\n",
       "    </tr>\n",
       "    <tr>\n",
       "      <th>dst_host_srv_rerror_rate</th>\n",
       "      <td>0</td>\n",
       "      <td>0</td>\n",
       "      <td>0</td>\n",
       "      <td>0.01</td>\n",
       "      <td>0</td>\n",
       "    </tr>\n",
       "    <tr>\n",
       "      <th>labels</th>\n",
       "      <td>normal</td>\n",
       "      <td>normal</td>\n",
       "      <td>neptune</td>\n",
       "      <td>normal</td>\n",
       "      <td>normal</td>\n",
       "    </tr>\n",
       "    <tr>\n",
       "      <th>level</th>\n",
       "      <td>20</td>\n",
       "      <td>15</td>\n",
       "      <td>19</td>\n",
       "      <td>21</td>\n",
       "      <td>21</td>\n",
       "    </tr>\n",
       "  </tbody>\n",
       "</table>\n",
       "</div>"
      ],
      "text/plain": [
       "                                    0       1        2       3       4\n",
       "duration                            0       0        0       0       0\n",
       "protocol_type                     tcp     udp      tcp     tcp     tcp\n",
       "service                      ftp_data   other  private    http    http\n",
       "flag                               SF      SF       S0      SF      SF\n",
       "src_bytes                         491     146        0     232     199\n",
       "dst_bytes                           0       0        0    8153     420\n",
       "land                                0       0        0       0       0\n",
       "wrong_fragment                      0       0        0       0       0\n",
       "urgent                              0       0        0       0       0\n",
       "hot                                 0       0        0       0       0\n",
       "num_failed_logins                   0       0        0       0       0\n",
       "logged_in                           0       0        0       1       1\n",
       "num_compromised                     0       0        0       0       0\n",
       "root_shell                          0       0        0       0       0\n",
       "su_attempted                        0       0        0       0       0\n",
       "num_root                            0       0        0       0       0\n",
       "num_file_creations                  0       0        0       0       0\n",
       "num_shells                          0       0        0       0       0\n",
       "num_access_files                    0       0        0       0       0\n",
       "num_outbound_cmds                   0       0        0       0       0\n",
       "is_host_login                       0       0        0       0       0\n",
       "is_guest_login                      0       0        0       0       0\n",
       "count                               2      13      123       5      30\n",
       "srv_count                           2       1        6       5      32\n",
       "serror_rate                         0       0        1     0.2       0\n",
       "srv_serror_rate                     0       0        1     0.2       0\n",
       "rerror_rate                         0       0        0       0       0\n",
       "srv_rerror_rate                     0       0        0       0       0\n",
       "same_srv_rate                       1    0.08     0.05       1       1\n",
       "diff_srv_rate                       0    0.15     0.07       0       0\n",
       "srv_diff_host_rate                  0       0        0       0    0.09\n",
       "dst_host_count                    150     255      255      30     255\n",
       "dst_host_srv_count                 25       1       26     255     255\n",
       "dst_host_same_srv_rate           0.17       0      0.1       1       1\n",
       "dst_host_diff_srv_rate           0.03     0.6     0.05       0       0\n",
       "dst_host_same_src_port_rate      0.17    0.88        0    0.03       0\n",
       "dst_host_srv_diff_host_rate         0       0        0    0.04       0\n",
       "dst_host_serror_rate                0       0        1    0.03       0\n",
       "dst_host_srv_serror_rate            0       0        1    0.01       0\n",
       "dst_host_rerror_rate             0.05       0        0       0       0\n",
       "dst_host_srv_rerror_rate            0       0        0    0.01       0\n",
       "labels                         normal  normal  neptune  normal  normal\n",
       "level                              20      15       19      21      21"
      ]
     },
     "execution_count": 95,
     "metadata": {},
     "output_type": "execute_result"
    }
   ],
   "source": [
    "df_train.head().T"
   ]
  },
  {
   "cell_type": "code",
   "execution_count": 96,
   "metadata": {},
   "outputs": [],
   "source": [
    "# for this analysis I will not use the last column \n",
    "df_train = df_train.iloc[:,:42].copy()"
   ]
  },
  {
   "cell_type": "code",
   "execution_count": 97,
   "metadata": {},
   "outputs": [
    {
     "name": "stdout",
     "output_type": "stream",
     "text": [
      "<class 'pandas.core.frame.DataFrame'>\n",
      "RangeIndex: 125973 entries, 0 to 125972\n",
      "Data columns (total 42 columns):\n",
      "duration                       125973 non-null int64\n",
      "protocol_type                  125973 non-null object\n",
      "service                        125973 non-null object\n",
      "flag                           125973 non-null object\n",
      "src_bytes                      125973 non-null int64\n",
      "dst_bytes                      125973 non-null int64\n",
      "land                           125973 non-null int64\n",
      "wrong_fragment                 125973 non-null int64\n",
      "urgent                         125973 non-null int64\n",
      "hot                            125973 non-null int64\n",
      "num_failed_logins              125973 non-null int64\n",
      "logged_in                      125973 non-null int64\n",
      "num_compromised                125973 non-null int64\n",
      "root_shell                     125973 non-null int64\n",
      "su_attempted                   125973 non-null int64\n",
      "num_root                       125973 non-null int64\n",
      "num_file_creations             125973 non-null int64\n",
      "num_shells                     125973 non-null int64\n",
      "num_access_files               125973 non-null int64\n",
      "num_outbound_cmds              125973 non-null int64\n",
      "is_host_login                  125973 non-null int64\n",
      "is_guest_login                 125973 non-null int64\n",
      "count                          125973 non-null int64\n",
      "srv_count                      125973 non-null int64\n",
      "serror_rate                    125973 non-null float64\n",
      "srv_serror_rate                125973 non-null float64\n",
      "rerror_rate                    125973 non-null float64\n",
      "srv_rerror_rate                125973 non-null float64\n",
      "same_srv_rate                  125973 non-null float64\n",
      "diff_srv_rate                  125973 non-null float64\n",
      "srv_diff_host_rate             125973 non-null float64\n",
      "dst_host_count                 125973 non-null int64\n",
      "dst_host_srv_count             125973 non-null int64\n",
      "dst_host_same_srv_rate         125973 non-null float64\n",
      "dst_host_diff_srv_rate         125973 non-null float64\n",
      "dst_host_same_src_port_rate    125973 non-null float64\n",
      "dst_host_srv_diff_host_rate    125973 non-null float64\n",
      "dst_host_serror_rate           125973 non-null float64\n",
      "dst_host_srv_serror_rate       125973 non-null float64\n",
      "dst_host_rerror_rate           125973 non-null float64\n",
      "dst_host_srv_rerror_rate       125973 non-null float64\n",
      "labels                         125973 non-null object\n",
      "dtypes: float64(15), int64(23), object(4)\n",
      "memory usage: 40.4+ MB\n"
     ]
    }
   ],
   "source": [
    "df_train.info()"
   ]
  },
  {
   "cell_type": "markdown",
   "metadata": {},
   "source": [
    "This data looks that doesn't have missing values, moreover, its dimensions are (125973, 42)"
   ]
  },
  {
   "cell_type": "markdown",
   "metadata": {},
   "source": [
    "Let's see how is the proportion in the label column."
   ]
  },
  {
   "cell_type": "code",
   "execution_count": 98,
   "metadata": {},
   "outputs": [
    {
     "data": {
      "text/plain": [
       "normal             53.458281\n",
       "neptune            32.716534\n",
       "satan               2.883951\n",
       "ipsweep             2.856961\n",
       "portsweep           2.326689\n",
       "smurf               2.100450\n",
       "nmap                1.185175\n",
       "back                0.758893\n",
       "teardrop            0.708088\n",
       "warezclient         0.706501\n",
       "pod                 0.159558\n",
       "guess_passwd        0.042073\n",
       "buffer_overflow     0.023815\n",
       "warezmaster         0.015876\n",
       "land                0.014289\n",
       "imap                0.008732\n",
       "rootkit             0.007938\n",
       "loadmodule          0.007144\n",
       "ftp_write           0.006351\n",
       "multihop            0.005557\n",
       "phf                 0.003175\n",
       "perl                0.002381\n",
       "spy                 0.001588\n",
       "Name: labels, dtype: float64"
      ]
     },
     "execution_count": 98,
     "metadata": {},
     "output_type": "execute_result"
    }
   ],
   "source": [
    "(df_train.labels.value_counts() / df_train.shape[0]) * 100"
   ]
  },
  {
   "cell_type": "markdown",
   "metadata": {},
   "source": [
    "As we can see around 53% of registers are normal, according to the paper `Dhanabal, L., & Shantharajah, S. P. (2015). A study on NSL-KDD dataset for intrusion detection system based on classification algorithms. International Journal of Advanced Research in Computer and Communication Engineering, 4(6), 446-452.` the four attacks and the values in 'labels' can be categorized as following:\n",
    "+ U2R: rootkit, buffer_overflow, loadmodule, perl \n",
    "+ DoS: neptune, satan, smurf, back, teardrop, pod, land\n",
    "+ Probe: ipsweep, portsweep, nmap, \n",
    "+ R2L: warezclient, guess_passwd, warezmaster, imap, ftp_write, multihop, phf, spy   \n",
    "\n",
    "This is interesting because we can make new features that will be related to the attack types and another for malicious activities in general."
   ]
  },
  {
   "cell_type": "code",
   "execution_count": 99,
   "metadata": {},
   "outputs": [],
   "source": [
    "# I'm going to represent the malicious traffic as 1 and beningn as 0\n",
    "att_types = []\n",
    "type_tf = []\n",
    "for i in range(len(df_train)):\n",
    "    if df_train['labels'][i] == 'neptune':\n",
    "        att_types.append(\"dos\")\n",
    "        type_tf.append(1)\n",
    "    elif df_train['labels'][i] == 'normal':\n",
    "        att_types.append(\"none\")\n",
    "        type_tf.append(0)\n",
    "    elif df_train['labels'][i] == 'satan':\n",
    "        att_types.append(\"dos\")\n",
    "        type_tf.append(1)\n",
    "    elif df_train['labels'][i] == 'ipsweep':\n",
    "        att_types.append(\"probe\")\n",
    "        type_tf.append(1)\n",
    "    elif df_train['labels'][i] == 'portsweep':\n",
    "        att_types.append(\"dos\")\n",
    "        type_tf.append(1)\n",
    "    elif df_train['labels'][i] == 'smurf':\n",
    "        att_types.append(\"dos\")\n",
    "        type_tf.append(1)\n",
    "    elif df_train['labels'][i] == 'nmap':\n",
    "        att_types.append(\"probe\")\n",
    "        type_tf.append(1)\n",
    "    elif df_train['labels'][i] == 'back':\n",
    "        att_types.append(\"dos\")\n",
    "        type_tf.append(1)\n",
    "    elif df_train['labels'][i] == 'teardrop':\n",
    "        att_types.append(\"dos\")\n",
    "        type_tf.append(1)\n",
    "    elif df_train['labels'][i] == 'warezclient':\n",
    "        att_types.append(\"r2l\")\n",
    "        type_tf.append(1)\n",
    "    elif df_train['labels'][i] == 'land':\n",
    "        att_types.append(\"dos\")\n",
    "        type_tf.append(1)\n",
    "    elif df_train['labels'][i] == 'imap':\n",
    "        att_types.append(\"r2l\")\n",
    "        type_tf.append(1)\n",
    "    elif df_train['labels'][i] == 'rootkit':\n",
    "        att_types.append(\"u2r\")\n",
    "        type_tf.append(1)\n",
    "    elif df_train['labels'][i] == 'ftp_write':\n",
    "        att_types.append(\"r2l\")\n",
    "        type_tf.append(1)\n",
    "    elif df_train['labels'][i] == 'loadmodule':\n",
    "        att_types.append(\"u2r\")\n",
    "        type_tf.append(1)\n",
    "    elif df_train['labels'][i] == 'multihop':\n",
    "        att_types.append(\"r2l\")\n",
    "        type_tf.append(1)\n",
    "    elif df_train['labels'][i] == 'phf':\n",
    "        att_types.append(\"r2l\")\n",
    "        type_tf.append(1)\n",
    "    elif df_train['labels'][i] == 'perl':\n",
    "        att_types.append(\"u2r\")\n",
    "        type_tf.append(1)\n",
    "    elif df_train['labels'][i] == 'spy':\n",
    "        att_types.append(\"r2l\")\n",
    "        type_tf.append(1)\n",
    "    elif df_train['labels'][i] == 'guess_passwd':\n",
    "        att_types.append(\"r2l\")\n",
    "        type_tf.append(1)\n",
    "    elif df_train['labels'][i] == 'warezmaster':\n",
    "        att_types.append(\"r2l\")\n",
    "        type_tf.append(1)\n",
    "    elif df_train['labels'][i] == 'pod':\n",
    "        att_types.append(\"dos\")\n",
    "        type_tf.append(1)\n",
    "    elif df_train['labels'][i] == 'buffer_overflow':\n",
    "        att_types.append(\"u2r\")\n",
    "        type_tf.append(1)\n",
    "    elif df_train['labels'][i] == 'perl':\n",
    "        att_types.append(\"u2r\")\n",
    "        type_tf.append(1)\n",
    "serie = pd.Series(att_types)\n",
    "df_train = df_train.assign(att_types=serie).copy()\n",
    "del serie\n",
    "serie = pd.Series(type_tf)\n",
    "df_train = df_train.assign(type_tf=serie).copy()\n",
    "del serie"
   ]
  },
  {
   "cell_type": "code",
   "execution_count": 102,
   "metadata": {},
   "outputs": [
    {
     "data": {
      "text/plain": [
       "duration                       0\n",
       "protocol_type                  0\n",
       "service                        0\n",
       "flag                           0\n",
       "src_bytes                      0\n",
       "dst_bytes                      0\n",
       "land                           0\n",
       "wrong_fragment                 0\n",
       "urgent                         0\n",
       "hot                            0\n",
       "num_failed_logins              0\n",
       "logged_in                      0\n",
       "num_compromised                0\n",
       "root_shell                     0\n",
       "su_attempted                   0\n",
       "num_root                       0\n",
       "num_file_creations             0\n",
       "num_shells                     0\n",
       "num_access_files               0\n",
       "num_outbound_cmds              0\n",
       "is_host_login                  0\n",
       "is_guest_login                 0\n",
       "count                          0\n",
       "srv_count                      0\n",
       "serror_rate                    0\n",
       "srv_serror_rate                0\n",
       "rerror_rate                    0\n",
       "srv_rerror_rate                0\n",
       "same_srv_rate                  0\n",
       "diff_srv_rate                  0\n",
       "srv_diff_host_rate             0\n",
       "dst_host_count                 0\n",
       "dst_host_srv_count             0\n",
       "dst_host_same_srv_rate         0\n",
       "dst_host_diff_srv_rate         0\n",
       "dst_host_same_src_port_rate    0\n",
       "dst_host_srv_diff_host_rate    0\n",
       "dst_host_serror_rate           0\n",
       "dst_host_srv_serror_rate       0\n",
       "dst_host_rerror_rate           0\n",
       "dst_host_srv_rerror_rate       0\n",
       "labels                         0\n",
       "att_types                      0\n",
       "type_tf                        0\n",
       "dtype: int64"
      ]
     },
     "execution_count": 102,
     "metadata": {},
     "output_type": "execute_result"
    }
   ],
   "source": [
    "# Has the dataset NAs?\n",
    "df_train.isna().sum() "
   ]
  },
  {
   "cell_type": "code",
   "execution_count": 103,
   "metadata": {},
   "outputs": [
    {
     "data": {
      "text/plain": [
       "0    53.458281\n",
       "1    46.541719\n",
       "Name: type_tf, dtype: float64"
      ]
     },
     "execution_count": 103,
     "metadata": {},
     "output_type": "execute_result"
    }
   ],
   "source": [
    "(df_train.type_tf.value_counts() / df_train.shape[0]) * 100"
   ]
  },
  {
   "cell_type": "markdown",
   "metadata": {},
   "source": [
    "Well ... this is better, we have the two types of traffic with their meaning."
   ]
  },
  {
   "cell_type": "code",
   "execution_count": 104,
   "metadata": {
    "scrolled": true
   },
   "outputs": [
    {
     "data": {
      "text/plain": [
       "<matplotlib.axes._subplots.AxesSubplot at 0x288fc9d8518>"
      ]
     },
     "execution_count": 104,
     "metadata": {},
     "output_type": "execute_result"
    },
    {
     "data": {
      "image/png": "[encoded data removed]",
      "text/plain": [
       "<Figure size 432x288 with 1 Axes>"
      ]
     },
     "metadata": {},
     "output_type": "display_data"
    }
   ],
   "source": [
    "sns.countplot(x=\"att_types\", data=df_train, hue=\"att_types\")"
   ]
  },
  {
   "cell_type": "markdown",
   "metadata": {},
   "source": [
    "In this data we have that the set of DoS is bigger than the others, and this is not good because our next analyses will be oriented to this type, in other words, if we train a model, it will be \"good\" for DoS detection."
   ]
  },
  {
   "cell_type": "code",
   "execution_count": 105,
   "metadata": {
    "scrolled": false
   },
   "outputs": [
    {
     "data": {
      "text/html": [
       "<div>\n",
       "<style scoped>\n",
       "    .dataframe tbody tr th:only-of-type {\n",
       "        vertical-align: middle;\n",
       "    }\n",
       "\n",
       "    .dataframe tbody tr th {\n",
       "        vertical-align: top;\n",
       "    }\n",
       "\n",
       "    .dataframe thead th {\n",
       "        text-align: right;\n",
       "    }\n",
       "</style>\n",
       "<table border=\"1\" class=\"dataframe\">\n",
       "  <thead>\n",
       "    <tr style=\"text-align: right;\">\n",
       "      <th></th>\n",
       "      <th>count</th>\n",
       "      <th>mean</th>\n",
       "      <th>std</th>\n",
       "      <th>min</th>\n",
       "      <th>25%</th>\n",
       "      <th>50%</th>\n",
       "      <th>75%</th>\n",
       "      <th>max</th>\n",
       "    </tr>\n",
       "  </thead>\n",
       "  <tbody>\n",
       "    <tr>\n",
       "      <th>duration</th>\n",
       "      <td>125973.0</td>\n",
       "      <td>287.144650</td>\n",
       "      <td>2.604515e+03</td>\n",
       "      <td>0.0</td>\n",
       "      <td>0.00</td>\n",
       "      <td>0.00</td>\n",
       "      <td>0.00</td>\n",
       "      <td>4.290800e+04</td>\n",
       "    </tr>\n",
       "    <tr>\n",
       "      <th>src_bytes</th>\n",
       "      <td>125973.0</td>\n",
       "      <td>45566.743000</td>\n",
       "      <td>5.870331e+06</td>\n",
       "      <td>0.0</td>\n",
       "      <td>0.00</td>\n",
       "      <td>44.00</td>\n",
       "      <td>276.00</td>\n",
       "      <td>1.379964e+09</td>\n",
       "    </tr>\n",
       "    <tr>\n",
       "      <th>dst_bytes</th>\n",
       "      <td>125973.0</td>\n",
       "      <td>19779.114421</td>\n",
       "      <td>4.021269e+06</td>\n",
       "      <td>0.0</td>\n",
       "      <td>0.00</td>\n",
       "      <td>0.00</td>\n",
       "      <td>516.00</td>\n",
       "      <td>1.309937e+09</td>\n",
       "    </tr>\n",
       "    <tr>\n",
       "      <th>land</th>\n",
       "      <td>125973.0</td>\n",
       "      <td>0.000198</td>\n",
       "      <td>1.408607e-02</td>\n",
       "      <td>0.0</td>\n",
       "      <td>0.00</td>\n",
       "      <td>0.00</td>\n",
       "      <td>0.00</td>\n",
       "      <td>1.000000e+00</td>\n",
       "    </tr>\n",
       "    <tr>\n",
       "      <th>wrong_fragment</th>\n",
       "      <td>125973.0</td>\n",
       "      <td>0.022687</td>\n",
       "      <td>2.535300e-01</td>\n",
       "      <td>0.0</td>\n",
       "      <td>0.00</td>\n",
       "      <td>0.00</td>\n",
       "      <td>0.00</td>\n",
       "      <td>3.000000e+00</td>\n",
       "    </tr>\n",
       "    <tr>\n",
       "      <th>urgent</th>\n",
       "      <td>125973.0</td>\n",
       "      <td>0.000111</td>\n",
       "      <td>1.436603e-02</td>\n",
       "      <td>0.0</td>\n",
       "      <td>0.00</td>\n",
       "      <td>0.00</td>\n",
       "      <td>0.00</td>\n",
       "      <td>3.000000e+00</td>\n",
       "    </tr>\n",
       "    <tr>\n",
       "      <th>hot</th>\n",
       "      <td>125973.0</td>\n",
       "      <td>0.204409</td>\n",
       "      <td>2.149968e+00</td>\n",
       "      <td>0.0</td>\n",
       "      <td>0.00</td>\n",
       "      <td>0.00</td>\n",
       "      <td>0.00</td>\n",
       "      <td>7.700000e+01</td>\n",
       "    </tr>\n",
       "    <tr>\n",
       "      <th>num_failed_logins</th>\n",
       "      <td>125973.0</td>\n",
       "      <td>0.001222</td>\n",
       "      <td>4.523914e-02</td>\n",
       "      <td>0.0</td>\n",
       "      <td>0.00</td>\n",
       "      <td>0.00</td>\n",
       "      <td>0.00</td>\n",
       "      <td>5.000000e+00</td>\n",
       "    </tr>\n",
       "    <tr>\n",
       "      <th>logged_in</th>\n",
       "      <td>125973.0</td>\n",
       "      <td>0.395736</td>\n",
       "      <td>4.890101e-01</td>\n",
       "      <td>0.0</td>\n",
       "      <td>0.00</td>\n",
       "      <td>0.00</td>\n",
       "      <td>1.00</td>\n",
       "      <td>1.000000e+00</td>\n",
       "    </tr>\n",
       "    <tr>\n",
       "      <th>num_compromised</th>\n",
       "      <td>125973.0</td>\n",
       "      <td>0.279250</td>\n",
       "      <td>2.394204e+01</td>\n",
       "      <td>0.0</td>\n",
       "      <td>0.00</td>\n",
       "      <td>0.00</td>\n",
       "      <td>0.00</td>\n",
       "      <td>7.479000e+03</td>\n",
       "    </tr>\n",
       "    <tr>\n",
       "      <th>root_shell</th>\n",
       "      <td>125973.0</td>\n",
       "      <td>0.001342</td>\n",
       "      <td>3.660284e-02</td>\n",
       "      <td>0.0</td>\n",
       "      <td>0.00</td>\n",
       "      <td>0.00</td>\n",
       "      <td>0.00</td>\n",
       "      <td>1.000000e+00</td>\n",
       "    </tr>\n",
       "    <tr>\n",
       "      <th>su_attempted</th>\n",
       "      <td>125973.0</td>\n",
       "      <td>0.001103</td>\n",
       "      <td>4.515438e-02</td>\n",
       "      <td>0.0</td>\n",
       "      <td>0.00</td>\n",
       "      <td>0.00</td>\n",
       "      <td>0.00</td>\n",
       "      <td>2.000000e+00</td>\n",
       "    </tr>\n",
       "    <tr>\n",
       "      <th>num_root</th>\n",
       "      <td>125973.0</td>\n",
       "      <td>0.302192</td>\n",
       "      <td>2.439962e+01</td>\n",
       "      <td>0.0</td>\n",
       "      <td>0.00</td>\n",
       "      <td>0.00</td>\n",
       "      <td>0.00</td>\n",
       "      <td>7.468000e+03</td>\n",
       "    </tr>\n",
       "    <tr>\n",
       "      <th>num_file_creations</th>\n",
       "      <td>125973.0</td>\n",
       "      <td>0.012669</td>\n",
       "      <td>4.839351e-01</td>\n",
       "      <td>0.0</td>\n",
       "      <td>0.00</td>\n",
       "      <td>0.00</td>\n",
       "      <td>0.00</td>\n",
       "      <td>4.300000e+01</td>\n",
       "    </tr>\n",
       "    <tr>\n",
       "      <th>num_shells</th>\n",
       "      <td>125973.0</td>\n",
       "      <td>0.000413</td>\n",
       "      <td>2.218113e-02</td>\n",
       "      <td>0.0</td>\n",
       "      <td>0.00</td>\n",
       "      <td>0.00</td>\n",
       "      <td>0.00</td>\n",
       "      <td>2.000000e+00</td>\n",
       "    </tr>\n",
       "    <tr>\n",
       "      <th>num_access_files</th>\n",
       "      <td>125973.0</td>\n",
       "      <td>0.004096</td>\n",
       "      <td>9.936956e-02</td>\n",
       "      <td>0.0</td>\n",
       "      <td>0.00</td>\n",
       "      <td>0.00</td>\n",
       "      <td>0.00</td>\n",
       "      <td>9.000000e+00</td>\n",
       "    </tr>\n",
       "    <tr>\n",
       "      <th>num_outbound_cmds</th>\n",
       "      <td>125973.0</td>\n",
       "      <td>0.000000</td>\n",
       "      <td>0.000000e+00</td>\n",
       "      <td>0.0</td>\n",
       "      <td>0.00</td>\n",
       "      <td>0.00</td>\n",
       "      <td>0.00</td>\n",
       "      <td>0.000000e+00</td>\n",
       "    </tr>\n",
       "    <tr>\n",
       "      <th>is_host_login</th>\n",
       "      <td>125973.0</td>\n",
       "      <td>0.000008</td>\n",
       "      <td>2.817483e-03</td>\n",
       "      <td>0.0</td>\n",
       "      <td>0.00</td>\n",
       "      <td>0.00</td>\n",
       "      <td>0.00</td>\n",
       "      <td>1.000000e+00</td>\n",
       "    </tr>\n",
       "    <tr>\n",
       "      <th>is_guest_login</th>\n",
       "      <td>125973.0</td>\n",
       "      <td>0.009423</td>\n",
       "      <td>9.661233e-02</td>\n",
       "      <td>0.0</td>\n",
       "      <td>0.00</td>\n",
       "      <td>0.00</td>\n",
       "      <td>0.00</td>\n",
       "      <td>1.000000e+00</td>\n",
       "    </tr>\n",
       "    <tr>\n",
       "      <th>count</th>\n",
       "      <td>125973.0</td>\n",
       "      <td>84.107555</td>\n",
       "      <td>1.145086e+02</td>\n",
       "      <td>0.0</td>\n",
       "      <td>2.00</td>\n",
       "      <td>14.00</td>\n",
       "      <td>143.00</td>\n",
       "      <td>5.110000e+02</td>\n",
       "    </tr>\n",
       "    <tr>\n",
       "      <th>srv_count</th>\n",
       "      <td>125973.0</td>\n",
       "      <td>27.737888</td>\n",
       "      <td>7.263584e+01</td>\n",
       "      <td>0.0</td>\n",
       "      <td>2.00</td>\n",
       "      <td>8.00</td>\n",
       "      <td>18.00</td>\n",
       "      <td>5.110000e+02</td>\n",
       "    </tr>\n",
       "    <tr>\n",
       "      <th>serror_rate</th>\n",
       "      <td>125973.0</td>\n",
       "      <td>0.284485</td>\n",
       "      <td>4.464556e-01</td>\n",
       "      <td>0.0</td>\n",
       "      <td>0.00</td>\n",
       "      <td>0.00</td>\n",
       "      <td>1.00</td>\n",
       "      <td>1.000000e+00</td>\n",
       "    </tr>\n",
       "    <tr>\n",
       "      <th>srv_serror_rate</th>\n",
       "      <td>125973.0</td>\n",
       "      <td>0.282485</td>\n",
       "      <td>4.470225e-01</td>\n",
       "      <td>0.0</td>\n",
       "      <td>0.00</td>\n",
       "      <td>0.00</td>\n",
       "      <td>1.00</td>\n",
       "      <td>1.000000e+00</td>\n",
       "    </tr>\n",
       "    <tr>\n",
       "      <th>rerror_rate</th>\n",
       "      <td>125973.0</td>\n",
       "      <td>0.119958</td>\n",
       "      <td>3.204355e-01</td>\n",
       "      <td>0.0</td>\n",
       "      <td>0.00</td>\n",
       "      <td>0.00</td>\n",
       "      <td>0.00</td>\n",
       "      <td>1.000000e+00</td>\n",
       "    </tr>\n",
       "    <tr>\n",
       "      <th>srv_rerror_rate</th>\n",
       "      <td>125973.0</td>\n",
       "      <td>0.121183</td>\n",
       "      <td>3.236472e-01</td>\n",
       "      <td>0.0</td>\n",
       "      <td>0.00</td>\n",
       "      <td>0.00</td>\n",
       "      <td>0.00</td>\n",
       "      <td>1.000000e+00</td>\n",
       "    </tr>\n",
       "    <tr>\n",
       "      <th>same_srv_rate</th>\n",
       "      <td>125973.0</td>\n",
       "      <td>0.660928</td>\n",
       "      <td>4.396229e-01</td>\n",
       "      <td>0.0</td>\n",
       "      <td>0.09</td>\n",
       "      <td>1.00</td>\n",
       "      <td>1.00</td>\n",
       "      <td>1.000000e+00</td>\n",
       "    </tr>\n",
       "    <tr>\n",
       "      <th>diff_srv_rate</th>\n",
       "      <td>125973.0</td>\n",
       "      <td>0.063053</td>\n",
       "      <td>1.803144e-01</td>\n",
       "      <td>0.0</td>\n",
       "      <td>0.00</td>\n",
       "      <td>0.00</td>\n",
       "      <td>0.06</td>\n",
       "      <td>1.000000e+00</td>\n",
       "    </tr>\n",
       "    <tr>\n",
       "      <th>srv_diff_host_rate</th>\n",
       "      <td>125973.0</td>\n",
       "      <td>0.097322</td>\n",
       "      <td>2.598305e-01</td>\n",
       "      <td>0.0</td>\n",
       "      <td>0.00</td>\n",
       "      <td>0.00</td>\n",
       "      <td>0.00</td>\n",
       "      <td>1.000000e+00</td>\n",
       "    </tr>\n",
       "    <tr>\n",
       "      <th>dst_host_count</th>\n",
       "      <td>125973.0</td>\n",
       "      <td>182.148945</td>\n",
       "      <td>9.920621e+01</td>\n",
       "      <td>0.0</td>\n",
       "      <td>82.00</td>\n",
       "      <td>255.00</td>\n",
       "      <td>255.00</td>\n",
       "      <td>2.550000e+02</td>\n",
       "    </tr>\n",
       "    <tr>\n",
       "      <th>dst_host_srv_count</th>\n",
       "      <td>125973.0</td>\n",
       "      <td>115.653005</td>\n",
       "      <td>1.107027e+02</td>\n",
       "      <td>0.0</td>\n",
       "      <td>10.00</td>\n",
       "      <td>63.00</td>\n",
       "      <td>255.00</td>\n",
       "      <td>2.550000e+02</td>\n",
       "    </tr>\n",
       "    <tr>\n",
       "      <th>dst_host_same_srv_rate</th>\n",
       "      <td>125973.0</td>\n",
       "      <td>0.521242</td>\n",
       "      <td>4.489494e-01</td>\n",
       "      <td>0.0</td>\n",
       "      <td>0.05</td>\n",
       "      <td>0.51</td>\n",
       "      <td>1.00</td>\n",
       "      <td>1.000000e+00</td>\n",
       "    </tr>\n",
       "    <tr>\n",
       "      <th>dst_host_diff_srv_rate</th>\n",
       "      <td>125973.0</td>\n",
       "      <td>0.082951</td>\n",
       "      <td>1.889218e-01</td>\n",
       "      <td>0.0</td>\n",
       "      <td>0.00</td>\n",
       "      <td>0.02</td>\n",
       "      <td>0.07</td>\n",
       "      <td>1.000000e+00</td>\n",
       "    </tr>\n",
       "    <tr>\n",
       "      <th>dst_host_same_src_port_rate</th>\n",
       "      <td>125973.0</td>\n",
       "      <td>0.148379</td>\n",
       "      <td>3.089971e-01</td>\n",
       "      <td>0.0</td>\n",
       "      <td>0.00</td>\n",
       "      <td>0.00</td>\n",
       "      <td>0.06</td>\n",
       "      <td>1.000000e+00</td>\n",
       "    </tr>\n",
       "    <tr>\n",
       "      <th>dst_host_srv_diff_host_rate</th>\n",
       "      <td>125973.0</td>\n",
       "      <td>0.032542</td>\n",
       "      <td>1.125638e-01</td>\n",
       "      <td>0.0</td>\n",
       "      <td>0.00</td>\n",
       "      <td>0.00</td>\n",
       "      <td>0.02</td>\n",
       "      <td>1.000000e+00</td>\n",
       "    </tr>\n",
       "    <tr>\n",
       "      <th>dst_host_serror_rate</th>\n",
       "      <td>125973.0</td>\n",
       "      <td>0.284452</td>\n",
       "      <td>4.447841e-01</td>\n",
       "      <td>0.0</td>\n",
       "      <td>0.00</td>\n",
       "      <td>0.00</td>\n",
       "      <td>1.00</td>\n",
       "      <td>1.000000e+00</td>\n",
       "    </tr>\n",
       "    <tr>\n",
       "      <th>dst_host_srv_serror_rate</th>\n",
       "      <td>125973.0</td>\n",
       "      <td>0.278485</td>\n",
       "      <td>4.456691e-01</td>\n",
       "      <td>0.0</td>\n",
       "      <td>0.00</td>\n",
       "      <td>0.00</td>\n",
       "      <td>1.00</td>\n",
       "      <td>1.000000e+00</td>\n",
       "    </tr>\n",
       "    <tr>\n",
       "      <th>dst_host_rerror_rate</th>\n",
       "      <td>125973.0</td>\n",
       "      <td>0.118832</td>\n",
       "      <td>3.065575e-01</td>\n",
       "      <td>0.0</td>\n",
       "      <td>0.00</td>\n",
       "      <td>0.00</td>\n",
       "      <td>0.00</td>\n",
       "      <td>1.000000e+00</td>\n",
       "    </tr>\n",
       "    <tr>\n",
       "      <th>dst_host_srv_rerror_rate</th>\n",
       "      <td>125973.0</td>\n",
       "      <td>0.120240</td>\n",
       "      <td>3.194594e-01</td>\n",
       "      <td>0.0</td>\n",
       "      <td>0.00</td>\n",
       "      <td>0.00</td>\n",
       "      <td>0.00</td>\n",
       "      <td>1.000000e+00</td>\n",
       "    </tr>\n",
       "    <tr>\n",
       "      <th>type_tf</th>\n",
       "      <td>125973.0</td>\n",
       "      <td>0.465417</td>\n",
       "      <td>4.988046e-01</td>\n",
       "      <td>0.0</td>\n",
       "      <td>0.00</td>\n",
       "      <td>0.00</td>\n",
       "      <td>1.00</td>\n",
       "      <td>1.000000e+00</td>\n",
       "    </tr>\n",
       "  </tbody>\n",
       "</table>\n",
       "</div>"
      ],
      "text/plain": [
       "                                count          mean           std  min    25%  \\\n",
       "duration                     125973.0    287.144650  2.604515e+03  0.0   0.00   \n",
       "src_bytes                    125973.0  45566.743000  5.870331e+06  0.0   0.00   \n",
       "dst_bytes                    125973.0  19779.114421  4.021269e+06  0.0   0.00   \n",
       "land                         125973.0      0.000198  1.408607e-02  0.0   0.00   \n",
       "wrong_fragment               125973.0      0.022687  2.535300e-01  0.0   0.00   \n",
       "urgent                       125973.0      0.000111  1.436603e-02  0.0   0.00   \n",
       "hot                          125973.0      0.204409  2.149968e+00  0.0   0.00   \n",
       "num_failed_logins            125973.0      0.001222  4.523914e-02  0.0   0.00   \n",
       "logged_in                    125973.0      0.395736  4.890101e-01  0.0   0.00   \n",
       "num_compromised              125973.0      0.279250  2.394204e+01  0.0   0.00   \n",
       "root_shell                   125973.0      0.001342  3.660284e-02  0.0   0.00   \n",
       "su_attempted                 125973.0      0.001103  4.515438e-02  0.0   0.00   \n",
       "num_root                     125973.0      0.302192  2.439962e+01  0.0   0.00   \n",
       "num_file_creations           125973.0      0.012669  4.839351e-01  0.0   0.00   \n",
       "num_shells                   125973.0      0.000413  2.218113e-02  0.0   0.00   \n",
       "num_access_files             125973.0      0.004096  9.936956e-02  0.0   0.00   \n",
       "num_outbound_cmds            125973.0      0.000000  0.000000e+00  0.0   0.00   \n",
       "is_host_login                125973.0      0.000008  2.817483e-03  0.0   0.00   \n",
       "is_guest_login               125973.0      0.009423  9.661233e-02  0.0   0.00   \n",
       "count                        125973.0     84.107555  1.145086e+02  0.0   2.00   \n",
       "srv_count                    125973.0     27.737888  7.263584e+01  0.0   2.00   \n",
       "serror_rate                  125973.0      0.284485  4.464556e-01  0.0   0.00   \n",
       "srv_serror_rate              125973.0      0.282485  4.470225e-01  0.0   0.00   \n",
       "rerror_rate                  125973.0      0.119958  3.204355e-01  0.0   0.00   \n",
       "srv_rerror_rate              125973.0      0.121183  3.236472e-01  0.0   0.00   \n",
       "same_srv_rate                125973.0      0.660928  4.396229e-01  0.0   0.09   \n",
       "diff_srv_rate                125973.0      0.063053  1.803144e-01  0.0   0.00   \n",
       "srv_diff_host_rate           125973.0      0.097322  2.598305e-01  0.0   0.00   \n",
       "dst_host_count               125973.0    182.148945  9.920621e+01  0.0  82.00   \n",
       "dst_host_srv_count           125973.0    115.653005  1.107027e+02  0.0  10.00   \n",
       "dst_host_same_srv_rate       125973.0      0.521242  4.489494e-01  0.0   0.05   \n",
       "dst_host_diff_srv_rate       125973.0      0.082951  1.889218e-01  0.0   0.00   \n",
       "dst_host_same_src_port_rate  125973.0      0.148379  3.089971e-01  0.0   0.00   \n",
       "dst_host_srv_diff_host_rate  125973.0      0.032542  1.125638e-01  0.0   0.00   \n",
       "dst_host_serror_rate         125973.0      0.284452  4.447841e-01  0.0   0.00   \n",
       "dst_host_srv_serror_rate     125973.0      0.278485  4.456691e-01  0.0   0.00   \n",
       "dst_host_rerror_rate         125973.0      0.118832  3.065575e-01  0.0   0.00   \n",
       "dst_host_srv_rerror_rate     125973.0      0.120240  3.194594e-01  0.0   0.00   \n",
       "type_tf                      125973.0      0.465417  4.988046e-01  0.0   0.00   \n",
       "\n",
       "                                50%     75%           max  \n",
       "duration                       0.00    0.00  4.290800e+04  \n",
       "src_bytes                     44.00  276.00  1.379964e+09  \n",
       "dst_bytes                      0.00  516.00  1.309937e+09  \n",
       "land                           0.00    0.00  1.000000e+00  \n",
       "wrong_fragment                 0.00    0.00  3.000000e+00  \n",
       "urgent                         0.00    0.00  3.000000e+00  \n",
       "hot                            0.00    0.00  7.700000e+01  \n",
       "num_failed_logins              0.00    0.00  5.000000e+00  \n",
       "logged_in                      0.00    1.00  1.000000e+00  \n",
       "num_compromised                0.00    0.00  7.479000e+03  \n",
       "root_shell                     0.00    0.00  1.000000e+00  \n",
       "su_attempted                   0.00    0.00  2.000000e+00  \n",
       "num_root                       0.00    0.00  7.468000e+03  \n",
       "num_file_creations             0.00    0.00  4.300000e+01  \n",
       "num_shells                     0.00    0.00  2.000000e+00  \n",
       "num_access_files               0.00    0.00  9.000000e+00  \n",
       "num_outbound_cmds              0.00    0.00  0.000000e+00  \n",
       "is_host_login                  0.00    0.00  1.000000e+00  \n",
       "is_guest_login                 0.00    0.00  1.000000e+00  \n",
       "count                         14.00  143.00  5.110000e+02  \n",
       "srv_count                      8.00   18.00  5.110000e+02  \n",
       "serror_rate                    0.00    1.00  1.000000e+00  \n",
       "srv_serror_rate                0.00    1.00  1.000000e+00  \n",
       "rerror_rate                    0.00    0.00  1.000000e+00  \n",
       "srv_rerror_rate                0.00    0.00  1.000000e+00  \n",
       "same_srv_rate                  1.00    1.00  1.000000e+00  \n",
       "diff_srv_rate                  0.00    0.06  1.000000e+00  \n",
       "srv_diff_host_rate             0.00    0.00  1.000000e+00  \n",
       "dst_host_count               255.00  255.00  2.550000e+02  \n",
       "dst_host_srv_count            63.00  255.00  2.550000e+02  \n",
       "dst_host_same_srv_rate         0.51    1.00  1.000000e+00  \n",
       "dst_host_diff_srv_rate         0.02    0.07  1.000000e+00  \n",
       "dst_host_same_src_port_rate    0.00    0.06  1.000000e+00  \n",
       "dst_host_srv_diff_host_rate    0.00    0.02  1.000000e+00  \n",
       "dst_host_serror_rate           0.00    1.00  1.000000e+00  \n",
       "dst_host_srv_serror_rate       0.00    1.00  1.000000e+00  \n",
       "dst_host_rerror_rate           0.00    0.00  1.000000e+00  \n",
       "dst_host_srv_rerror_rate       0.00    0.00  1.000000e+00  \n",
       "type_tf                        0.00    1.00  1.000000e+00  "
      ]
     },
     "execution_count": 105,
     "metadata": {},
     "output_type": "execute_result"
    }
   ],
   "source": [
    "df_train.describe().T"
   ]
  },
  {
   "cell_type": "markdown",
   "metadata": {},
   "source": [
    "I have a doubt with the duration in 0, how is it meaning? a lot of features have 0 which mininum value."
   ]
  },
  {
   "cell_type": "code",
   "execution_count": 106,
   "metadata": {},
   "outputs": [
    {
     "data": {
      "text/plain": [
       "0.9204750224254403"
      ]
     },
     "execution_count": 106,
     "metadata": {},
     "output_type": "execute_result"
    }
   ],
   "source": [
    "# how many are the packets with 0 seconds\n",
    "len(df_train[df_train.duration==0]) / df_train.shape[0]"
   ]
  },
  {
   "cell_type": "markdown",
   "metadata": {},
   "source": [
    "We have some discrete variables which are categorical or binary values, but others are saved in the dataframe as object, following I'm going to analyze the distribution of this data."
   ]
  },
  {
   "cell_type": "code",
   "execution_count": 107,
   "metadata": {},
   "outputs": [
    {
     "name": "stdout",
     "output_type": "stream",
     "text": [
      "Distribution of protocol_type with 125973 are: \n",
      "tcp     102689\n",
      "udp      14993\n",
      "icmp      8291\n",
      "Name: protocol_type, dtype: int64 \n",
      "Distribution of service with 125973 are: \n",
      "http           40338\n",
      "private        21853\n",
      "domain_u        9043\n",
      "smtp            7313\n",
      "ftp_data        6860\n",
      "eco_i           4586\n",
      "other           4359\n",
      "ecr_i           3077\n",
      "telnet          2353\n",
      "finger          1767\n",
      "ftp             1754\n",
      "auth             955\n",
      "Z39_50           862\n",
      "uucp             780\n",
      "courier          734\n",
      "bgp              710\n",
      "whois            693\n",
      "uucp_path        689\n",
      "iso_tsap         687\n",
      "time             654\n",
      "imap4            647\n",
      "nnsp             630\n",
      "vmnet            617\n",
      "urp_i            602\n",
      "domain           569\n",
      "ctf              563\n",
      "csnet_ns         545\n",
      "supdup           544\n",
      "discard          538\n",
      "http_443         530\n",
      "               ...  \n",
      "klogin           433\n",
      "login            429\n",
      "ldap             410\n",
      "netbios_dgm      405\n",
      "sunrpc           381\n",
      "netbios_ssn      362\n",
      "netstat          360\n",
      "netbios_ns       347\n",
      "ssh              311\n",
      "kshell           299\n",
      "nntp             296\n",
      "pop_3            264\n",
      "sql_net          245\n",
      "IRC              187\n",
      "ntp_u            168\n",
      "rje               86\n",
      "pop_2             78\n",
      "remote_job        78\n",
      "X11               73\n",
      "printer           69\n",
      "shell             65\n",
      "urh_i             10\n",
      "tim_i              8\n",
      "red_i              8\n",
      "pm_dump            5\n",
      "tftp_u             3\n",
      "aol                2\n",
      "harvest            2\n",
      "http_8001          2\n",
      "http_2784          1\n",
      "Name: service, Length: 70, dtype: int64 \n",
      "Distribution of flag with 125973 are: \n",
      "SF        74945\n",
      "S0        34851\n",
      "REJ       11233\n",
      "RSTR       2421\n",
      "RSTO       1562\n",
      "S1          365\n",
      "SH          271\n",
      "S2          127\n",
      "RSTOS0      103\n",
      "S3           49\n",
      "OTH          46\n",
      "Name: flag, dtype: int64 \n"
     ]
    }
   ],
   "source": [
    "for i in df_train.columns:\n",
    "    if df_train[i].dtypes == 'object' and (i not in ['labels', 'type_tf', 'att_types']):        \n",
    "        print(\"Distribution of %s with %s are: \\n%s \" % (i, len(df_train[i]), df_train[i].value_counts()))"
   ]
  },
  {
   "cell_type": "markdown",
   "metadata": {},
   "source": [
    "**It is not wear that if we are talking about DoS type FYN flood we have more TCP packets than UDP and ICMP.**\n",
    "+ I think that the service feature is interesting to analyze (125973 values) where we can get insights about the type of each attack (__future work__)\n",
    "+ I'm not really sure about the importance of the variable _flag_ (normal or error status of the connection) in this case. "
   ]
  },
  {
   "cell_type": "code",
   "execution_count": 108,
   "metadata": {},
   "outputs": [
    {
     "data": {
      "text/html": [
       "<style  type=\"text/css\" >\n",
       "    #T_a5d446e6_affc_11e9_ad92_9cb6d01e5536row1_col0 {\n",
       "            background-color:  green;\n",
       "        }    #T_a5d446e6_affc_11e9_ad92_9cb6d01e5536row1_col1 {\n",
       "            background-color:  green;\n",
       "        }</style><table id=\"T_a5d446e6_affc_11e9_ad92_9cb6d01e5536\" ><thead>    <tr>        <th class=\"index_name level0\" >type_tf</th>        <th class=\"col_heading level0 col0\" >0</th>        <th class=\"col_heading level0 col1\" >1</th>    </tr>    <tr>        <th class=\"index_name level0\" >protocol_type</th>        <th class=\"blank\" ></th>        <th class=\"blank\" ></th>    </tr></thead><tbody>\n",
       "                <tr>\n",
       "                        <th id=\"T_a5d446e6_affc_11e9_ad92_9cb6d01e5536level0_row0\" class=\"row_heading level0 row0\" >icmp</th>\n",
       "                        <td id=\"T_a5d446e6_affc_11e9_ad92_9cb6d01e5536row0_col0\" class=\"data row0 col0\" >1309</td>\n",
       "                        <td id=\"T_a5d446e6_affc_11e9_ad92_9cb6d01e5536row0_col1\" class=\"data row0 col1\" >6982</td>\n",
       "            </tr>\n",
       "            <tr>\n",
       "                        <th id=\"T_a5d446e6_affc_11e9_ad92_9cb6d01e5536level0_row1\" class=\"row_heading level0 row1\" >tcp</th>\n",
       "                        <td id=\"T_a5d446e6_affc_11e9_ad92_9cb6d01e5536row1_col0\" class=\"data row1 col0\" >53600</td>\n",
       "                        <td id=\"T_a5d446e6_affc_11e9_ad92_9cb6d01e5536row1_col1\" class=\"data row1 col1\" >49089</td>\n",
       "            </tr>\n",
       "            <tr>\n",
       "                        <th id=\"T_a5d446e6_affc_11e9_ad92_9cb6d01e5536level0_row2\" class=\"row_heading level0 row2\" >udp</th>\n",
       "                        <td id=\"T_a5d446e6_affc_11e9_ad92_9cb6d01e5536row2_col0\" class=\"data row2 col0\" >12434</td>\n",
       "                        <td id=\"T_a5d446e6_affc_11e9_ad92_9cb6d01e5536row2_col1\" class=\"data row2 col1\" >2559</td>\n",
       "            </tr>\n",
       "    </tbody></table>"
      ],
      "text/plain": [
       "<pandas.io.formats.style.Styler at 0x289243eb828>"
      ]
     },
     "execution_count": 108,
     "metadata": {},
     "output_type": "execute_result"
    }
   ],
   "source": [
    "pd.crosstab(df_train.protocol_type, df_train.type_tf).style.highlight_max(color=\"green\")"
   ]
  },
  {
   "cell_type": "markdown",
   "metadata": {},
   "source": [
    "As I explained we can see through the last cross table that TCP packages are more in the malicious samples. My next hypothesis is related to package's weight from the attacks and the benign activities, in my opinion the DoS would be smaller."
   ]
  },
  {
   "cell_type": "code",
   "execution_count": 109,
   "metadata": {},
   "outputs": [
    {
     "data": {
      "text/plain": [
       "Text(0.5, 1.0, 'beningn')"
      ]
     },
     "execution_count": 109,
     "metadata": {},
     "output_type": "execute_result"
    },
    {
     "data": {
      "image/png": "[encoded data removed]",
      "text/plain": [
       "<Figure size 432x288 with 2 Axes>"
      ]
     },
     "metadata": {},
     "output_type": "display_data"
    }
   ],
   "source": [
    "sns.set(style=\"whitegrid\")\n",
    "fig2 = plt.figure()\n",
    "ax1 = fig2.add_subplot(2, 1, 1)\n",
    "sns.boxplot(x=df_train[df_train.type_tf == 1].dst_bytes).set_title(\"malicious\")\n",
    "ax1 = fig2.add_subplot(2, 1, 2)\n",
    "sns.boxplot(x=df_train[df_train.type_tf == 0].dst_bytes).set_title(\"beningn\")"
   ]
  },
  {
   "cell_type": "code",
   "execution_count": 110,
   "metadata": {},
   "outputs": [
    {
     "data": {
      "text/plain": [
       "Text(0.5, 1.0, 'beningn')"
      ]
     },
     "execution_count": 110,
     "metadata": {},
     "output_type": "execute_result"
    },
    {
     "data": {
      "image/png": "[encoded data removed]",
      "text/plain": [
       "<Figure size 432x288 with 2 Axes>"
      ]
     },
     "metadata": {},
     "output_type": "display_data"
    }
   ],
   "source": [
    "sns.set(style=\"whitegrid\")\n",
    "fig2 = plt.figure()\n",
    "ax1 = fig2.add_subplot(2, 1, 1)\n",
    "sns.boxplot(x=df_train[df_train.type_tf == 1].src_bytes).set_title(\"malicious\")\n",
    "ax1 = fig2.add_subplot(2, 1, 2)\n",
    "sns.boxplot(x=df_train[df_train.type_tf == 0].src_bytes).set_title(\"beningn\")"
   ]
  },
  {
   "cell_type": "markdown",
   "metadata": {},
   "source": [
    "We have some outliers, how many are these?"
   ]
  },
  {
   "cell_type": "code",
   "execution_count": 111,
   "metadata": {},
   "outputs": [
    {
     "name": "stdout",
     "output_type": "stream",
     "text": [
      "219\n",
      "524\n"
     ]
    }
   ],
   "source": [
    "print(len(df_train[df_train.dst_bytes > 0.1e6]))\n",
    "print(len(df_train[df_train.src_bytes > 0.1e6]))"
   ]
  },
  {
   "cell_type": "markdown",
   "metadata": {},
   "source": [
    "They aren't many, let's isolate them in another set."
   ]
  },
  {
   "cell_type": "code",
   "execution_count": 236,
   "metadata": {},
   "outputs": [],
   "source": [
    "isolate_set = df_train[(df_train.dst_bytes > 1e6) | (df_train.src_bytes > 1e6)][:].copy()\n",
    "clean_set = df_train[(df_train.dst_bytes < 1e6) & (df_train.src_bytes < 1e6)][:].copy()"
   ]
  },
  {
   "cell_type": "code",
   "execution_count": 113,
   "metadata": {},
   "outputs": [
    {
     "data": {
      "text/plain": [
       "(125973, 44)"
      ]
     },
     "execution_count": 113,
     "metadata": {},
     "output_type": "execute_result"
    }
   ],
   "source": [
    "df_train.shape"
   ]
  },
  {
   "cell_type": "code",
   "execution_count": 114,
   "metadata": {},
   "outputs": [
    {
     "data": {
      "text/plain": [
       "(125619, 44)"
      ]
     },
     "execution_count": 114,
     "metadata": {},
     "output_type": "execute_result"
    }
   ],
   "source": [
    "clean_set.shape"
   ]
  },
  {
   "cell_type": "code",
   "execution_count": 115,
   "metadata": {
    "scrolled": true
   },
   "outputs": [
    {
     "data": {
      "text/plain": [
       "Text(0.5, 1.0, 'beningn')"
      ]
     },
     "execution_count": 115,
     "metadata": {},
     "output_type": "execute_result"
    },
    {
     "data": {
      "image/png": "[encoded data removed]",
      "text/plain": [
       "<Figure size 432x288 with 2 Axes>"
      ]
     },
     "metadata": {},
     "output_type": "display_data"
    }
   ],
   "source": [
    "sns.set(style=\"whitegrid\")\n",
    "fig2 = plt.figure()\n",
    "ax1 = fig2.add_subplot(2, 1, 1)\n",
    "sns.boxplot(x=clean_set[clean_set.type_tf == 1].dst_bytes).set_title(\"malicious\")\n",
    "ax1 = fig2.add_subplot(2, 1, 2)\n",
    "sns.boxplot(x=clean_set[clean_set.type_tf == 0].dst_bytes).set_title(\"beningn\")"
   ]
  },
  {
   "cell_type": "code",
   "execution_count": 116,
   "metadata": {
    "scrolled": true
   },
   "outputs": [
    {
     "data": {
      "text/plain": [
       "Text(0.5, 1.0, 'beningn')"
      ]
     },
     "execution_count": 116,
     "metadata": {},
     "output_type": "execute_result"
    },
    {
     "data": {
      "image/png": "[encoded data removed]",
      "text/plain": [
       "<Figure size 432x288 with 2 Axes>"
      ]
     },
     "metadata": {},
     "output_type": "display_data"
    }
   ],
   "source": [
    "sns.set(style=\"whitegrid\")\n",
    "fig2 = plt.figure()\n",
    "ax1 = fig2.add_subplot(2, 1, 1)\n",
    "sns.boxplot(x=clean_set[clean_set.type_tf == 1].src_bytes).set_title(\"malicious\")\n",
    "ax1 = fig2.add_subplot(2, 1, 2)\n",
    "sns.boxplot(x=clean_set[clean_set.type_tf == 0].src_bytes).set_title(\"beningn\")"
   ]
  },
  {
   "cell_type": "markdown",
   "metadata": {},
   "source": [
    "Definitely, both src and dst bytes are concentrated in zero with other values that are outliers, we should apply a normalization technique. "
   ]
  },
  {
   "cell_type": "code",
   "execution_count": 117,
   "metadata": {},
   "outputs": [],
   "source": [
    "columns_num = []\n",
    "for i in clean_set.columns:\n",
    "    if (clean_set[i].dtypes == 'int64') | (clean_set[i].dtypes == 'float64'): \n",
    "        columns_num.append(i)\n",
    "columns_num.append('protocol_type')"
   ]
  },
  {
   "cell_type": "code",
   "execution_count": 239,
   "metadata": {},
   "outputs": [
    {
     "name": "stderr",
     "output_type": "stream",
     "text": [
      "D:\\Usuarios\\rhaps\\Anaconda3\\lib\\site-packages\\sklearn\\preprocessing\\data.py:645: DataConversionWarning: Data with input dtype int64 were all converted to float64 by StandardScaler.\n",
      "  return self.partial_fit(X, y)\n",
      "D:\\Usuarios\\rhaps\\Anaconda3\\lib\\site-packages\\sklearn\\preprocessing\\data.py:645: DataConversionWarning: Data with input dtype int64 were all converted to float64 by StandardScaler.\n",
      "  return self.partial_fit(X, y)\n",
      "D:\\Usuarios\\rhaps\\Anaconda3\\lib\\site-packages\\sklearn\\base.py:464: DataConversionWarning: Data with input dtype int64 were all converted to float64 by StandardScaler.\n",
      "  return self.fit(X, **fit_params).transform(X)\n"
     ]
    }
   ],
   "source": [
    "scaler = preprocessing.RobustScaler()\n",
    "columns = ['dst_bytes', 'src_bytes']\n",
    "# the next line makes the scaler \n",
    "scaler = preprocessing.StandardScaler()\n",
    "scaler.fit(clean_set.loc[:,columns])\n",
    "scaledData = scaler.fit_transform(clean_set.loc[:,columns])\n",
    "dst_sere = pd.Series(scaledData[:,0], name=\"dst_bytes\")\n",
    "src_sere = pd.Series(scaledData[:,1], name=\"src_bytes\")"
   ]
  },
  {
   "cell_type": "code",
   "execution_count": 119,
   "metadata": {},
   "outputs": [],
   "source": [
    "clean_set = pd.get_dummies(clean_set, columns=['protocol_type'], dummy_na=False).copy()"
   ]
  },
  {
   "cell_type": "markdown",
   "metadata": {},
   "source": [
    "+ I made dummy variables for the protocol_type feature.\n",
    "+ I applied a rubustscaler for two features."
   ]
  },
  {
   "cell_type": "markdown",
   "metadata": {},
   "source": [
    "## Modeling\n",
    "\n",
    "I think I can use only the feature protocol_type to determine if a traffic is malicious or not, following I can improve the result researching other significant variables, let's train some classifiers with hyperparameters by default."
   ]
  },
  {
   "cell_type": "markdown",
   "metadata": {
    "heading_collapsed": true
   },
   "source": [
    "### Experiment 1"
   ]
  },
  {
   "cell_type": "code",
   "execution_count": 191,
   "metadata": {
    "hidden": true
   },
   "outputs": [],
   "source": [
    "np.random.seed(128)\n",
    "# I will use a hold-out due the proportion around 50% for the dependend variable\n",
    "X_train, X_test, y_train, y_test = train_test_split(clean_set.iloc[:,43:46], clean_set.type_tf, test_size=0.20)"
   ]
  },
  {
   "cell_type": "code",
   "execution_count": 195,
   "metadata": {
    "hidden": true
   },
   "outputs": [
    {
     "name": "stdout",
     "output_type": "stream",
     "text": [
      "DecisionTreeClassifier(class_weight=None, criterion='gini', max_depth=None,\n",
      "            max_features=None, max_leaf_nodes=None,\n",
      "            min_impurity_decrease=0.0, min_impurity_split=None,\n",
      "            min_samples_leaf=1, min_samples_split=2,\n",
      "            min_weight_fraction_leaf=0.0, presort=False, random_state=None,\n",
      "            splitter='best')\n",
      "0.576540359815316\n",
      "              precision    recall  f1-score   support\n",
      "\n",
      "           0       0.98      0.56      0.71     23474\n",
      "           1       0.12      0.84      0.21      1650\n",
      "\n",
      "   micro avg       0.58      0.58      0.58     25124\n",
      "   macro avg       0.55      0.70      0.46     25124\n",
      "weighted avg       0.92      0.58      0.68     25124\n",
      "\n"
     ]
    }
   ],
   "source": [
    "# decision tree model\n",
    "clf = tree.DecisionTreeClassifier()\n",
    "clf.fit(X_train, y_train)\n",
    "pred = clf.predict(X_test)\n",
    "# accuracy\n",
    "accuracy = accuracy_score(pred, y_test)\n",
    "print(clf)\n",
    "print(accuracy)\n",
    "print(classification_report(pred, y_test, labels=None))"
   ]
  },
  {
   "cell_type": "code",
   "execution_count": 197,
   "metadata": {
    "hidden": true
   },
   "outputs": [
    {
     "name": "stdout",
     "output_type": "stream",
     "text": [
      "naive_bayes\n",
      "0.576540359815316\n",
      "              precision    recall  f1-score   support\n",
      "\n",
      "           0       0.98      0.56      0.71     23474\n",
      "           1       0.12      0.84      0.21      1650\n",
      "\n",
      "   micro avg       0.58      0.58      0.58     25124\n",
      "   macro avg       0.55      0.70      0.46     25124\n",
      "weighted avg       0.92      0.58      0.68     25124\n",
      "\n"
     ]
    }
   ],
   "source": [
    "# Naive Bayes algorithm\n",
    "gnb = GaussianNB()\n",
    "gnb.fit(X_train, y_train)\n",
    "\n",
    "# pred\n",
    "pred = gnb.predict(X_test)\n",
    "\n",
    "# accuracy\n",
    "accuracy = accuracy_score(pred, y_test)\n",
    "print(\"naive_bayes\")\n",
    "print(accuracy)\n",
    "print(classification_report(pred, y_test, labels=None))"
   ]
  },
  {
   "cell_type": "markdown",
   "metadata": {
    "hidden": true
   },
   "source": [
    "With only one feature we got an accuracy of 57% (like the baseline), but the precision is really bad in malicious activites, in other words we have problems wih false positives."
   ]
  },
  {
   "cell_type": "markdown",
   "metadata": {},
   "source": [
    "### Experiment 2\n",
    "\n",
    "This experiment is going to use three features (protocol, src bytes and dst bytes) because as we saw TCP is used in DoS SYN and in those attacks the number of bytes is not higher than the normal connections and communications.    "
   ]
  },
  {
   "cell_type": "code",
   "execution_count": 188,
   "metadata": {},
   "outputs": [
    {
     "data": {
      "text/html": [
       "<div>\n",
       "<style scoped>\n",
       "    .dataframe tbody tr th:only-of-type {\n",
       "        vertical-align: middle;\n",
       "    }\n",
       "\n",
       "    .dataframe tbody tr th {\n",
       "        vertical-align: top;\n",
       "    }\n",
       "\n",
       "    .dataframe thead th {\n",
       "        text-align: right;\n",
       "    }\n",
       "</style>\n",
       "<table border=\"1\" class=\"dataframe\">\n",
       "  <thead>\n",
       "    <tr style=\"text-align: right;\">\n",
       "      <th></th>\n",
       "      <th>protocol_type_icmp</th>\n",
       "      <th>protocol_type_tcp</th>\n",
       "      <th>protocol_type_udp</th>\n",
       "      <th>dst_bytes</th>\n",
       "      <th>src_bytes</th>\n",
       "    </tr>\n",
       "  </thead>\n",
       "  <tbody>\n",
       "    <tr>\n",
       "      <th>0</th>\n",
       "      <td>0</td>\n",
       "      <td>1</td>\n",
       "      <td>0</td>\n",
       "      <td>0.000000</td>\n",
       "      <td>1.637363</td>\n",
       "    </tr>\n",
       "    <tr>\n",
       "      <th>1</th>\n",
       "      <td>0</td>\n",
       "      <td>0</td>\n",
       "      <td>1</td>\n",
       "      <td>0.000000</td>\n",
       "      <td>0.373626</td>\n",
       "    </tr>\n",
       "    <tr>\n",
       "      <th>2</th>\n",
       "      <td>0</td>\n",
       "      <td>1</td>\n",
       "      <td>0</td>\n",
       "      <td>0.000000</td>\n",
       "      <td>-0.161172</td>\n",
       "    </tr>\n",
       "    <tr>\n",
       "      <th>3</th>\n",
       "      <td>0</td>\n",
       "      <td>1</td>\n",
       "      <td>0</td>\n",
       "      <td>15.709056</td>\n",
       "      <td>0.688645</td>\n",
       "    </tr>\n",
       "    <tr>\n",
       "      <th>4</th>\n",
       "      <td>0</td>\n",
       "      <td>1</td>\n",
       "      <td>0</td>\n",
       "      <td>0.809249</td>\n",
       "      <td>0.567766</td>\n",
       "    </tr>\n",
       "  </tbody>\n",
       "</table>\n",
       "</div>"
      ],
      "text/plain": [
       "   protocol_type_icmp  protocol_type_tcp  protocol_type_udp  dst_bytes  \\\n",
       "0                   0                  1                  0   0.000000   \n",
       "1                   0                  0                  1   0.000000   \n",
       "2                   0                  1                  0   0.000000   \n",
       "3                   0                  1                  0  15.709056   \n",
       "4                   0                  1                  0   0.809249   \n",
       "\n",
       "   src_bytes  \n",
       "0   1.637363  \n",
       "1   0.373626  \n",
       "2  -0.161172  \n",
       "3   0.688645  \n",
       "4   0.567766  "
      ]
     },
     "execution_count": 188,
     "metadata": {},
     "output_type": "execute_result"
    }
   ],
   "source": [
    "df_ex2 = clean_set.iloc[:,43:46].copy()\n",
    "df_ex2 = df_ex2.assign(dst_bytes = dst_sere.values).assign(src_bytes=src_sere.values).copy()\n",
    "df_ex2.head()"
   ]
  },
  {
   "cell_type": "code",
   "execution_count": 190,
   "metadata": {},
   "outputs": [],
   "source": [
    "np.random.seed(128)\n",
    "# I will use a hold-out due the proportion around 50% for the dependend variable\n",
    "X_train, X_test, y_train, y_test = train_test_split(ok, clean_set.type_tf, test_size=0.20)"
   ]
  },
  {
   "cell_type": "code",
   "execution_count": 233,
   "metadata": {},
   "outputs": [
    {
     "name": "stdout",
     "output_type": "stream",
     "text": [
      "DecisionTreeClassifier(class_weight=None, criterion='gini', max_depth=None,\n",
      "            max_features=None, max_leaf_nodes=None,\n",
      "            min_impurity_decrease=0.0, min_impurity_split=None,\n",
      "            min_samples_leaf=1, min_samples_split=2,\n",
      "            min_weight_fraction_leaf=0.0, presort=False, random_state=None,\n",
      "            splitter='best')\n",
      "0.972058589396593\n",
      "Kappa    :  0.9440785716220281\n",
      "              precision    recall  f1-score   support\n",
      "\n",
      "           0       0.95      1.00      0.97     12697\n",
      "           1       1.00      0.94      0.97     12427\n",
      "\n",
      "   micro avg       0.97      0.97      0.97     25124\n",
      "   macro avg       0.97      0.97      0.97     25124\n",
      "weighted avg       0.97      0.97      0.97     25124\n",
      "\n",
      "confusion matrix\n"
     ]
    },
    {
     "data": {
      "text/plain": [
       "array([[12682,   687],\n",
       "       [   15, 11740]], dtype=int64)"
      ]
     },
     "execution_count": 233,
     "metadata": {},
     "output_type": "execute_result"
    }
   ],
   "source": [
    "# decision tree model\n",
    "clf = tree.DecisionTreeClassifier()\n",
    "clf.fit(X_train, y_train)\n",
    "pred = clf.predict(X_test)\n",
    "# accuracy\n",
    "accuracy = accuracy_score(pred, y_test)\n",
    "print(clf)\n",
    "print(accuracy)\n",
    "print(\"Kappa    : \", cohen_kappa_score(y_test, pred))\n",
    "print(classification_report(pred, y_test, labels=None))\n",
    "print(\"confusion matrix\")\n",
    "confusion_matrix(y_test, pred)"
   ]
  },
  {
   "cell_type": "code",
   "execution_count": 234,
   "metadata": {},
   "outputs": [
    {
     "name": "stdout",
     "output_type": "stream",
     "text": [
      "naive_bayes\n",
      "0.5692962903996179\n",
      "              precision    recall  f1-score   support\n",
      "\n",
      "           0       0.24      0.83      0.37      3914\n",
      "           1       0.94      0.52      0.67     21210\n",
      "\n",
      "   micro avg       0.57      0.57      0.57     25124\n",
      "   macro avg       0.59      0.67      0.52     25124\n",
      "weighted avg       0.83      0.57      0.63     25124\n",
      "\n",
      "Kappa    :  0.175075198998342\n",
      "confusion matrix\n"
     ]
    },
    {
     "data": {
      "text/plain": [
       "array([[ 3231, 10138],\n",
       "       [  683, 11072]], dtype=int64)"
      ]
     },
     "execution_count": 234,
     "metadata": {},
     "output_type": "execute_result"
    }
   ],
   "source": [
    "# Naive Bayes algorithm\n",
    "gnb = GaussianNB()\n",
    "gnb.fit(X_train, y_train)\n",
    "# pred\n",
    "pred = gnb.predict(X_test)\n",
    "# accuracy\n",
    "accuracy = accuracy_score(pred, y_test)\n",
    "print(\"naive_bayes\")\n",
    "print(accuracy)\n",
    "print(classification_report(pred, y_test, labels=None))\n",
    "print(\"Kappa    : \", cohen_kappa_score(y_test, pred))\n",
    "print(\"confusion matrix\")\n",
    "confusion_matrix(y_test, pred)"
   ]
  },
  {
   "cell_type": "code",
   "execution_count": 235,
   "metadata": {},
   "outputs": [
    {
     "name": "stdout",
     "output_type": "stream",
     "text": [
      "kneighbors 2\n",
      "0.9721779971342143\n",
      "              precision    recall  f1-score   support\n",
      "\n",
      "           0       0.95      1.00      0.97     12718\n",
      "           1       1.00      0.95      0.97     12406\n",
      "\n",
      "   micro avg       0.97      0.97      0.97     25124\n",
      "   macro avg       0.97      0.97      0.97     25124\n",
      "weighted avg       0.97      0.97      0.97     25124\n",
      "\n",
      "Kappa    :  0.944311567415589\n",
      "\n",
      "kneighbors 3\n",
      "0.9721779971342143\n",
      "              precision    recall  f1-score   support\n",
      "\n",
      "           0       0.95      1.00      0.97     12696\n",
      "           1       1.00      0.94      0.97     12428\n",
      "\n",
      "   micro avg       0.97      0.97      0.97     25124\n",
      "   macro avg       0.97      0.97      0.97     25124\n",
      "weighted avg       0.97      0.97      0.97     25124\n",
      "\n",
      "Kappa    :  0.944311567415589\n",
      "\n",
      "kneighbors 4\n",
      "0.9719789842381786\n",
      "              precision    recall  f1-score   support\n",
      "\n",
      "           0       0.95      1.00      0.97     12717\n",
      "           1       1.00      0.95      0.97     12407\n",
      "\n",
      "   micro avg       0.97      0.97      0.97     25124\n",
      "   macro avg       0.97      0.97      0.97     25124\n",
      "weighted avg       0.97      0.97      0.97     25124\n",
      "\n",
      "Kappa    :  0.944311567415589\n",
      "kneighbors 6\n",
      "0.9719789842381786\n",
      "              precision    recall  f1-score   support\n",
      "\n",
      "           0       0.95      1.00      0.97     12717\n",
      "           1       1.00      0.95      0.97     12407\n",
      "\n",
      "   micro avg       0.97      0.97      0.97     25124\n",
      "   macro avg       0.97      0.97      0.97     25124\n",
      "weighted avg       0.97      0.97      0.97     25124\n",
      "\n",
      "Kappa    :  0.944311567415589\n"
     ]
    }
   ],
   "source": [
    "# kneighbors algorithm\n",
    "neigh = KNeighborsClassifier(n_neighbors=2)\n",
    "neigh_two = KNeighborsClassifier(n_neighbors=3)\n",
    "neigh_three = KNeighborsClassifier(n_neighbors=4)\n",
    "neigh_four = KNeighborsClassifier(n_neighbors=6)\n",
    "\n",
    "neigh.fit(X_train, y_train)\n",
    "neigh_two.fit(X_train, y_train)\n",
    "neigh_three.fit(X_train, y_train)\n",
    "neigh_four.fit(X_train, y_train)\n",
    "\n",
    "pred = neigh.predict(X_test)\n",
    "pred_two = neigh_two.predict(X_test)\n",
    "pred_three = neigh_three.predict(X_test)\n",
    "pred_four = neigh_four.predict(X_test)\n",
    "# accuracy\n",
    "accuracy = accuracy_score(pred, y_test)\n",
    "accuracy_two = accuracy_score(pred_two, y_test)\n",
    "accuracy_three = accuracy_score(pred_three, y_test)\n",
    "accuracy_four = accuracy_score(pred_four, y_test)\n",
    "\n",
    "print(\"kneighbors 2\")\n",
    "print(accuracy)\n",
    "print(classification_report(pred, y_test, labels=None))\n",
    "print(\"Kappa    : \", cohen_kappa_score(y_test, pred))\n",
    "print(\"\")\n",
    "print(\"kneighbors 3\")\n",
    "print(accuracy_two)\n",
    "print(classification_report(pred_two, y_test, labels=None))\n",
    "print(\"Kappa    : \", cohen_kappa_score(y_test, pred))\n",
    "print(\"\")\n",
    "print(\"kneighbors 4\")\n",
    "print(accuracy_three)\n",
    "print(classification_report(pred_three, y_test, labels=None))\n",
    "print(\"Kappa    : \", cohen_kappa_score(y_test, pred))\n",
    "print(\"kneighbors 6\")\n",
    "print(accuracy_four)\n",
    "print(classification_report(pred_four, y_test, labels=None))\n",
    "print(\"Kappa    : \", cohen_kappa_score(y_test, pred))"
   ]
  },
  {
   "cell_type": "markdown",
   "metadata": {},
   "source": [
    "We have either the models based on decision tree and KNN are good with 97% in accuracy and with a low rate in false positives (precision 100% in malicious network traffic)."
   ]
  },
  {
   "cell_type": "code",
   "execution_count": 212,
   "metadata": {},
   "outputs": [
    {
     "data": {
      "text/plain": [
       "['defense.joblib']"
      ]
     },
     "execution_count": 212,
     "metadata": {},
     "output_type": "execute_result"
    }
   ],
   "source": [
    "# For this case, I'm going to save the model based on dt due its kappa is 0.94\n",
    "joblib.dump(clf, 'defense.joblib')\n",
    "clean_set.to_csv(\"clean.csv\")"
   ]
  },
  {
   "cell_type": "markdown",
   "metadata": {},
   "source": [
    "## Testing"
   ]
  },
  {
   "cell_type": "code",
   "execution_count": 14,
   "metadata": {},
   "outputs": [],
   "source": [
    "clean_set = pd.read_csv(\"clean.csv\", index_col=0)\n",
    "clf = load('defense.joblib') "
   ]
  },
  {
   "cell_type": "code",
   "execution_count": 248,
   "metadata": {},
   "outputs": [],
   "source": [
    "col_names =[\"duration\",\"protocol_type\",\"service\",\"flag\",\"src_bytes\",\n",
    "    \"dst_bytes\",\"land\",\"wrong_fragment\",\"urgent\",\n",
    "            \"hot\",\"num_failed_logins\", \"logged_in\",\"num_compromised\",\"root_shell\",\"su_attempted\",\"num_root\",\n",
    "    \"num_file_creations\",\"num_shells\",\"num_access_files\",\"num_outbound_cmds\",\n",
    "    \"is_host_login\",\"is_guest_login\",            \n",
    "            \"count\",\"srv_count\", \"serror_rate\", \"srv_serror_rate\",\"rerror_rate\",\"srv_rerror_rate\",\n",
    "            \"same_srv_rate\",\n",
    "    \"diff_srv_rate\",\"srv_diff_host_rate\",\"dst_host_count\",\"dst_host_srv_count\",\n",
    "    \"dst_host_same_srv_rate\",\"dst_host_diff_srv_rate\",\"dst_host_same_src_port_rate\",\n",
    "    \"dst_host_srv_diff_host_rate\",\"dst_host_serror_rate\",\"dst_host_srv_serror_rate\",\n",
    "    \"dst_host_rerror_rate\",\"dst_host_srv_rerror_rate\",\"labels\", \"level\"]\n",
    "testing = pd.read_csv(\"../../Datasets/NSL-KDD/KDDTest-21.txt\", names=col_names)"
   ]
  },
  {
   "cell_type": "code",
   "execution_count": 218,
   "metadata": {},
   "outputs": [
    {
     "data": {
      "text/plain": [
       "duration                       0\n",
       "protocol_type                  0\n",
       "service                        0\n",
       "flag                           0\n",
       "src_bytes                      0\n",
       "dst_bytes                      0\n",
       "land                           0\n",
       "wrong_fragment                 0\n",
       "urgent                         0\n",
       "hot                            0\n",
       "num_failed_logins              0\n",
       "logged_in                      0\n",
       "num_compromised                0\n",
       "root_shell                     0\n",
       "su_attempted                   0\n",
       "num_root                       0\n",
       "num_file_creations             0\n",
       "num_shells                     0\n",
       "num_access_files               0\n",
       "num_outbound_cmds              0\n",
       "is_host_login                  0\n",
       "is_guest_login                 0\n",
       "count                          0\n",
       "srv_count                      0\n",
       "serror_rate                    0\n",
       "srv_serror_rate                0\n",
       "rerror_rate                    0\n",
       "srv_rerror_rate                0\n",
       "same_srv_rate                  0\n",
       "diff_srv_rate                  0\n",
       "srv_diff_host_rate             0\n",
       "dst_host_count                 0\n",
       "dst_host_srv_count             0\n",
       "dst_host_same_srv_rate         0\n",
       "dst_host_diff_srv_rate         0\n",
       "dst_host_same_src_port_rate    0\n",
       "dst_host_srv_diff_host_rate    0\n",
       "dst_host_serror_rate           0\n",
       "dst_host_srv_serror_rate       0\n",
       "dst_host_rerror_rate           0\n",
       "dst_host_srv_rerror_rate       0\n",
       "labels                         0\n",
       "level                          0\n",
       "dtype: int64"
      ]
     },
     "execution_count": 218,
     "metadata": {},
     "output_type": "execute_result"
    }
   ],
   "source": [
    "testing.isna().sum()"
   ]
  },
  {
   "cell_type": "code",
   "execution_count": 219,
   "metadata": {},
   "outputs": [
    {
     "data": {
      "text/plain": [
       "(11850, 43)"
      ]
     },
     "execution_count": 219,
     "metadata": {},
     "output_type": "execute_result"
    }
   ],
   "source": [
    "testing.shape"
   ]
  },
  {
   "cell_type": "code",
   "execution_count": 249,
   "metadata": {},
   "outputs": [],
   "source": [
    "\"\"\"\n",
    "The idea is to have the next code lines in a pre-processing method \n",
    "\"\"\"\n",
    "\n",
    "testing = testing.iloc[:,:42].copy()\n",
    "\n",
    "# I'm going to represent the malicious traffic as 1 and beningn as 0\n",
    "att_types = []\n",
    "type_tf = []\n",
    "for i in range(len(testing)):\n",
    "    if testing['labels'][i] == 'neptune':\n",
    "        att_types.append(\"dos\")\n",
    "        type_tf.append(1)\n",
    "    elif testing['labels'][i] == 'normal':\n",
    "        att_types.append(\"none\")\n",
    "        type_tf.append(0)\n",
    "    elif testing['labels'][i] == 'satan':\n",
    "        att_types.append(\"dos\")\n",
    "        type_tf.append(1)\n",
    "    elif testing['labels'][i] == 'ipsweep':\n",
    "        att_types.append(\"probe\")\n",
    "        type_tf.append(1)\n",
    "    elif testing['labels'][i] == 'portsweep':\n",
    "        att_types.append(\"dos\")\n",
    "        type_tf.append(1)\n",
    "    elif testing['labels'][i] == 'smurf':\n",
    "        att_types.append(\"dos\")\n",
    "        type_tf.append(1)\n",
    "    elif testing['labels'][i] == 'nmap':\n",
    "        att_types.append(\"probe\")\n",
    "        type_tf.append(1)\n",
    "    elif testing['labels'][i] == 'back':\n",
    "        att_types.append(\"dos\")\n",
    "        type_tf.append(1)\n",
    "    elif testing['labels'][i] == 'teardrop':\n",
    "        att_types.append(\"dos\")\n",
    "        type_tf.append(1)\n",
    "    elif testing['labels'][i] == 'warezclient':\n",
    "        att_types.append(\"r2l\")\n",
    "        type_tf.append(1)\n",
    "    elif testing['labels'][i] == 'land':\n",
    "        att_types.append(\"dos\")\n",
    "        type_tf.append(1)\n",
    "    elif testing['labels'][i] == 'imap':\n",
    "        att_types.append(\"r2l\")\n",
    "        type_tf.append(1)\n",
    "    elif testing['labels'][i] == 'rootkit':\n",
    "        att_types.append(\"u2r\")\n",
    "        type_tf.append(1)\n",
    "    elif testing['labels'][i] == 'ftp_write':\n",
    "        att_types.append(\"r2l\")\n",
    "        type_tf.append(1)\n",
    "    elif testing['labels'][i] == 'loadmodule':\n",
    "        att_types.append(\"u2r\")\n",
    "        type_tf.append(1)\n",
    "    elif testing['labels'][i] == 'multihop':\n",
    "        att_types.append(\"r2l\")\n",
    "        type_tf.append(1)\n",
    "    elif testing['labels'][i] == 'phf':\n",
    "        att_types.append(\"r2l\")\n",
    "        type_tf.append(1)\n",
    "    elif testing['labels'][i] == 'perl':\n",
    "        att_types.append(\"u2r\")\n",
    "        type_tf.append(1)\n",
    "    elif testing['labels'][i] == 'spy':\n",
    "        att_types.append(\"r2l\")\n",
    "        type_tf.append(1)\n",
    "    elif testing['labels'][i] == 'guess_passwd':\n",
    "        att_types.append(\"r2l\")\n",
    "        type_tf.append(1)\n",
    "    elif testing['labels'][i] == 'warezmaster':\n",
    "        att_types.append(\"r2l\")\n",
    "        type_tf.append(1)\n",
    "    elif testing['labels'][i] == 'pod':\n",
    "        att_types.append(\"dos\")\n",
    "        type_tf.append(1)\n",
    "    elif testing['labels'][i] == 'buffer_overflow':\n",
    "        att_types.append(\"u2r\")\n",
    "        type_tf.append(1)\n",
    "    elif testing['labels'][i] == 'perl':\n",
    "        att_types.append(\"u2r\")\n",
    "        type_tf.append(1)\n",
    "            \n",
    "serie = pd.Series(att_types)\n",
    "df_testing = testing.assign(att_types=serie).copy()\n",
    "del serie\n",
    "serie = pd.Series(type_tf)\n",
    "df_testing = df_testing.assign(type_tf=serie).copy()\n",
    "del serie\n"
   ]
  },
  {
   "cell_type": "code",
   "execution_count": 250,
   "metadata": {},
   "outputs": [
    {
     "data": {
      "text/plain": [
       "3740"
      ]
     },
     "execution_count": 250,
     "metadata": {},
     "output_type": "execute_result"
    }
   ],
   "source": [
    "# we have 3740 registers that does not have a label to analyze... I will isolate them\n",
    "df_testing.type_tf.isna().sum()"
   ]
  },
  {
   "cell_type": "code",
   "execution_count": 244,
   "metadata": {},
   "outputs": [
    {
     "data": {
      "text/plain": [
       "(3740, 44)"
      ]
     },
     "execution_count": 244,
     "metadata": {},
     "output_type": "execute_result"
    }
   ],
   "source": [
    "isolate_test = df_testing[df_testing.type_tf.isna()].copy()\n",
    "isolate_test.shape"
   ]
  },
  {
   "cell_type": "code",
   "execution_count": 253,
   "metadata": {},
   "outputs": [
    {
     "data": {
      "text/plain": [
       "(8110, 44)"
      ]
     },
     "execution_count": 253,
     "metadata": {},
     "output_type": "execute_result"
    }
   ],
   "source": [
    "df_testing_clean = df_testing.dropna().copy()\n",
    "df_testing_clean.shape"
   ]
  },
  {
   "cell_type": "code",
   "execution_count": 254,
   "metadata": {},
   "outputs": [
    {
     "name": "stderr",
     "output_type": "stream",
     "text": [
      "D:\\Usuarios\\rhaps\\Anaconda3\\lib\\site-packages\\ipykernel_launcher.py:3: DataConversionWarning: Data with input dtype int64 were all converted to float64 by StandardScaler.\n",
      "  This is separate from the ipykernel package so we can avoid doing imports until\n"
     ]
    },
    {
     "data": {
      "text/html": [
       "<div>\n",
       "<style scoped>\n",
       "    .dataframe tbody tr th:only-of-type {\n",
       "        vertical-align: middle;\n",
       "    }\n",
       "\n",
       "    .dataframe tbody tr th {\n",
       "        vertical-align: top;\n",
       "    }\n",
       "\n",
       "    .dataframe thead th {\n",
       "        text-align: right;\n",
       "    }\n",
       "</style>\n",
       "<table border=\"1\" class=\"dataframe\">\n",
       "  <thead>\n",
       "    <tr style=\"text-align: right;\">\n",
       "      <th></th>\n",
       "      <th>protocol_type_icmp</th>\n",
       "      <th>protocol_type_tcp</th>\n",
       "      <th>protocol_type_udp</th>\n",
       "      <th>dst_bytes</th>\n",
       "      <th>src_bytes</th>\n",
       "    </tr>\n",
       "  </thead>\n",
       "  <tbody>\n",
       "    <tr>\n",
       "      <th>0</th>\n",
       "      <td>0</td>\n",
       "      <td>1</td>\n",
       "      <td>0</td>\n",
       "      <td>0.046538</td>\n",
       "      <td>-0.074950</td>\n",
       "    </tr>\n",
       "    <tr>\n",
       "      <th>1</th>\n",
       "      <td>0</td>\n",
       "      <td>0</td>\n",
       "      <td>1</td>\n",
       "      <td>-0.130615</td>\n",
       "      <td>-0.079033</td>\n",
       "    </tr>\n",
       "    <tr>\n",
       "      <th>2</th>\n",
       "      <td>0</td>\n",
       "      <td>1</td>\n",
       "      <td>0</td>\n",
       "      <td>-0.127400</td>\n",
       "      <td>-0.081460</td>\n",
       "    </tr>\n",
       "    <tr>\n",
       "      <th>3</th>\n",
       "      <td>0</td>\n",
       "      <td>0</td>\n",
       "      <td>1</td>\n",
       "      <td>-0.126597</td>\n",
       "      <td>-0.078536</td>\n",
       "    </tr>\n",
       "    <tr>\n",
       "      <th>4</th>\n",
       "      <td>0</td>\n",
       "      <td>1</td>\n",
       "      <td>0</td>\n",
       "      <td>-0.130615</td>\n",
       "      <td>-0.081460</td>\n",
       "    </tr>\n",
       "  </tbody>\n",
       "</table>\n",
       "</div>"
      ],
      "text/plain": [
       "   protocol_type_icmp  protocol_type_tcp  protocol_type_udp  dst_bytes  \\\n",
       "0                   0                  1                  0   0.046538   \n",
       "1                   0                  0                  1  -0.130615   \n",
       "2                   0                  1                  0  -0.127400   \n",
       "3                   0                  0                  1  -0.126597   \n",
       "4                   0                  1                  0  -0.130615   \n",
       "\n",
       "   src_bytes  \n",
       "0  -0.074950  \n",
       "1  -0.079033  \n",
       "2  -0.081460  \n",
       "3  -0.078536  \n",
       "4  -0.081460  "
      ]
     },
     "execution_count": 254,
     "metadata": {},
     "output_type": "execute_result"
    }
   ],
   "source": [
    "# I will use the scaler previously made in the training phase ... the idea is to have the same distribution\n",
    "columns = ['dst_bytes', 'src_bytes']\n",
    "scaledData = scaler.transform(df_testing_clean.loc[:,columns])\n",
    "\n",
    "dst_sere = pd.Series(scaledData[:,0], name=\"dst_bytes\")\n",
    "src_sere = pd.Series(scaledData[:,1], name=\"src_bytes\")\n",
    "\n",
    "df_testingX = pd.get_dummies(df_testing_clean, columns=['protocol_type'], dummy_na=False).copy()\n",
    "\n",
    "df_testingX = df_testingX.iloc[:,43:46].copy()\n",
    "df_testingX = df_testingX.assign(dst_bytes = dst_sere.values).assign(src_bytes=src_sere.values).copy()\n",
    "df_testingX.head()"
   ]
  },
  {
   "cell_type": "code",
   "execution_count": 257,
   "metadata": {
    "scrolled": true
   },
   "outputs": [
    {
     "name": "stdout",
     "output_type": "stream",
     "text": [
      "DecisionTreeClassifier(class_weight=None, criterion='gini', max_depth=None,\n",
      "            max_features=None, max_leaf_nodes=None,\n",
      "            min_impurity_decrease=0.0, min_impurity_split=None,\n",
      "            min_samples_leaf=1, min_samples_split=2,\n",
      "            min_weight_fraction_leaf=0.0, presort=False, random_state=None,\n",
      "            splitter='best')\n",
      "0.30036991368680643\n",
      "              precision    recall  f1-score   support\n",
      "\n",
      "           0       0.93      0.27      0.41      7534\n",
      "           1       0.07      0.75      0.13       576\n",
      "\n",
      "   micro avg       0.30      0.30      0.30      8110\n",
      "   macro avg       0.50      0.51      0.27      8110\n",
      "weighted avg       0.87      0.30      0.39      8110\n",
      "\n",
      "confusion matrix\n"
     ]
    },
    {
     "data": {
      "text/plain": [
       "array([[2006,  146],\n",
       "       [5528,  430]], dtype=int64)"
      ]
     },
     "execution_count": 257,
     "metadata": {},
     "output_type": "execute_result"
    }
   ],
   "source": [
    "pred = clf.predict(df_testingX)\n",
    "# accuracy\n",
    "accuracy = accuracy_score(pred, df_testing_clean.type_tf)\n",
    "print(clf)\n",
    "print(accuracy)\n",
    "print(classification_report(pred, df_testing_clean.type_tf, labels=None))\n",
    "print(\"confusion matrix\")\n",
    "confusion_matrix(df_testing_clean.type_tf, pred)"
   ]
  },
  {
   "cell_type": "markdown",
   "metadata": {
    "heading_collapsed": true
   },
   "source": [
    "## Conclusions\n",
    "\n",
    "+ Both protocol type and the weight of the transmition allowed to train a model which in the tranining phase had good results, but in the test set isn't worked well. \n",
    "\n",
    "__future work__\n",
    "\n",
    "+ It is neccesary to evaluate other features like the service.\n",
    "+ Apply and exploratory data analysis to the test set in oder to know the differences to the training insights.\n"
   ]
  },
  {
   "cell_type": "markdown",
   "metadata": {
    "heading_collapsed": true
   },
   "source": [
    "## References\n",
    "\n",
    "+ M. Tavallaee, E. Bagheri, W. Lu, and A. Ghorbani, “A Detailed Analysis of the KDD CUP 99 Data Set,” Submitted to Second IEEE Symposium on Computational Intelligence for Security and Defense Applications (CISDA), 2009."
   ]
  },
  {
   "cell_type": "markdown",
   "metadata": {
    "hidden": true
   },
   "source": [
    "https://github.com/CynthiaKoopman/Network-Intrusion-Detection/blob/master/DecisionTree_IDS.ipynb\n",
    "\n",
    "https://github.com/vinayakumarr/Network-Intrusion-Detection\n",
    "\n",
    "https://github.com/thinline72/nsl-kdd\n",
    "\n",
    "https://www.ee.ryerson.ca/~bagheri/papers/cisda.pdf"
   ]
  }
 ],
 "metadata": {
  "kernelspec": {
   "display_name": "Python 3",
   "language": "python",
   "name": "python3"
  },
  "language_info": {
   "codemirror_mode": {
    "name": "ipython",
    "version": 3
   },
   "file_extension": ".py",
   "mimetype": "text/x-python",
   "name": "python",
   "nbconvert_exporter": "python",
   "pygments_lexer": "ipython3",
   "version": "3.6.8"
  }
 },
 "nbformat": 4,
 "nbformat_minor": 2
}
