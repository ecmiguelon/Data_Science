{
 "cells": [
  {
   "cell_type": "markdown",
   "metadata": {},
   "source": [
    "__Author: Christian Camilo Urcuqui__\n",
    "\n",
    "__Date:  18 January 2018__\n",
    "\n",
    "\n",
    "![image](../../Utilities/genetic-algorithms.jpg)\n",
    "\n",
    "This notebook is a compilation of different ideas that I take from the references in order to make a brief of genetic algorithms and its application with Python.\n",
    "\n",
    "# Introduction to genetic algorithms\n",
    "\n",
    "Genetic algorithms are one of the tools we can use to apply machine learning to finding good, sometimes even optimal, solutions to problems that have billions of potential solutions. It's biological approach is applied in software to find answers to problems that have really large search spaces by continuously generating cantidate solutions, evaluating how well the solutions fit the desired outcome, and refining the best solutions.\n",
    "\n",
    "Genetic algorithms use random exploration of the problem space combined with evolutionary processes like mutation and\n",
    "crossover (exchange of genetic information) to improve guesses. But also, because they have no experience in the problem\n",
    "domain, they try things a human would never think to try. Thus, a person using a genetic algorithm may learn more about\n",
    "the problem space and potential solutions. This gives them the ability to make improvements to the algorithm, in a\n",
    "virtuous cycle.\n",
    "\n",
    "__The genetic algorithm should make informed guesses__\n"
   ]
  },
  {
   "cell_type": "markdown",
   "metadata": {},
   "source": [
    "## pseudo code\n",
    "\n",
    "```\n",
    "Function genetic_algorithm():\n",
    "    it generates a initial random poblation\n",
    "    end = False\n",
    "    \n",
    "    while is not end:\n",
    "        for size(poblation)/2:\n",
    "        select two individuals\n",
    "        cross two individuals\n",
    "        mutate with a probability the new individuals \n",
    "        add the new individuals to the poblation\n",
    "        eliminate the two worst individuals from the poblation\n",
    "        \n",
    "   if is the poblation converges\n",
    "       end = True\n",
    "       \n",
    "   exit with the best solution\n",
    "        \n",
    "```"
   ]
  },
  {
   "cell_type": "markdown",
   "metadata": {},
   "source": [
    "## Guess the Password\n",
    "\n",
    "Start with a randomly generated initial sequence of letters, then mutate/change one random letter at a time until the sequence of letters is \"Hello World!\""
   ]
  },
  {
   "cell_type": "code",
   "execution_count": 1,
   "metadata": {},
   "outputs": [],
   "source": [
    "import random\n",
    "\n",
    "# genes\n",
    "geneSet = \" abcdefghijklmnopqrstuvwxyzABCDEFGHIJKLMNOPQRSTUVWXYZ!.\"\n",
    "target = \"Hello World!\""
   ]
  },
  {
   "cell_type": "code",
   "execution_count": 2,
   "metadata": {},
   "outputs": [
    {
     "data": {
      "text/plain": [
       "'JlQ'"
      ]
     },
     "execution_count": 2,
     "metadata": {},
     "output_type": "execute_result"
    }
   ],
   "source": [
    "# --generate a guess--\n",
    "# the algorithm needs a way to generate a random string from the gene set\n",
    "def generate_parent(length):\n",
    "    genes = []\n",
    "    while len(genes) < length:\n",
    "        sampleSize =  min(length - len(genes), len(geneSet))\n",
    "        # random.sample takes sampleSize values from the input without replacement\n",
    "        genes.extend(random.sample(geneSet, sampleSize))\n",
    "    return ''.join(genes)\n",
    "\n",
    "generate_parent(3)"
   ]
  },
  {
   "cell_type": "code",
   "execution_count": 13,
   "metadata": {},
   "outputs": [
    {
     "data": {
      "text/plain": [
       "0"
      ]
     },
     "execution_count": 13,
     "metadata": {},
     "output_type": "execute_result"
    }
   ],
   "source": [
    "# --fitness--\n",
    "# the fitness value the genetic algorithm provides is the only feedback the engine gets to guide it toward a solution.\n",
    "def get_fitness(guess):\n",
    "    return sum(1 for expected, actual in zip(target, guess)\n",
    "              if expected == actual)\n",
    "\n",
    "get_fitness(\"z!\")\n",
    "#get_fitness(\"Hello World!\")\n",
    "#len(target)"
   ]
  },
  {
   "cell_type": "code",
   "execution_count": 14,
   "metadata": {},
   "outputs": [
    {
     "data": {
      "text/plain": [
       "'hlo'"
      ]
     },
     "execution_count": 14,
     "metadata": {},
     "output_type": "execute_result"
    }
   ],
   "source": [
    "#--mutate--\n",
    "# the engine needs a way to produce a new guess by mutating the current one. The following implementation converts the parent \n",
    "# string to an array with list(parent), then replaces 1 letter in the array with a randomly selected one from geneSet, \n",
    "# and finally recombines the result into a string with ''.join(childGenes)\n",
    "def mutate(parent):\n",
    "    index =  random.randrange(0, len(parent))\n",
    "    childGenes =  list(parent)\n",
    "    newGene, alternate = random.sample(geneSet, 2)\n",
    "    childGenes[index] = alternate if newGene == childGenes[index] else newGene\n",
    "    return ''.join(childGenes)\n",
    "\n",
    "mutate(\"hll\")"
   ]
  },
  {
   "cell_type": "code",
   "execution_count": 21,
   "metadata": {},
   "outputs": [],
   "source": [
    "# displaying \n",
    "\n",
    "import datetime\n",
    "\n",
    "def display(guess):\n",
    "    timeDiff = datetime.datetime.now() - startTime\n",
    "    fitness =  get_fitness(guess)\n",
    "    print(\"{0}\\t{1}\\t{2}\".format(guess, fitness, str(timeDiff)))"
   ]
  },
  {
   "cell_type": "code",
   "execution_count": 23,
   "metadata": {},
   "outputs": [
    {
     "name": "stdout",
     "output_type": "stream",
     "text": [
      "yNJcodakEVzt\t1\t0:00:00\n",
      "HNJcodakEVzt\t2\t0:00:00\n",
      "HNJco akEVzt\t3\t0:00:00.002028\n",
      "HNJco akrVzt\t4\t0:00:00.002028\n",
      "HNJco WkrVzt\t5\t0:00:00.002028\n",
      "HNlco WkrVzt\t6\t0:00:00.003031\n",
      "HNllo WkrVzt\t7\t0:00:00.003031\n",
      "HNllo Wkrlzt\t8\t0:00:00.005036\n",
      "Hello Wkrlzt\t9\t0:00:00.010025\n",
      "Hello Wkrldt\t10\t0:00:00.012030\n",
      "Hello Worldt\t11\t0:00:00.016058\n",
      "Hello World!\t12\t0:00:00.016058\n"
     ]
    }
   ],
   "source": [
    "random.seed()\n",
    "startTime = datetime.datetime.now()\n",
    "bestParent = generate_parent(len(target))\n",
    "bestFitness = get_fitness(bestParent)\n",
    "display(bestParent)\n",
    "while True:\n",
    "    child = mutate(bestParent)\n",
    "    childFitness = get_fitness(child)\n",
    "    if bestFitness >= childFitness:\n",
    "        continue\n",
    "    display(child)\n",
    "    if childFitness >= len(bestParent):\n",
    "        break\n",
    "    bestFitness = childFitness\n",
    "    bestParent = child"
   ]
  },
  {
   "cell_type": "markdown",
   "metadata": {},
   "source": [
    "## Extract a resuable engine\n",
    "\n",
    "It is time to modify the previous code to use it in future work, in the next steps we are going to change some methods, such as, generate_parent and mutate in order to receive any geneSet.\n",
    "\n",
    "We are going to make it in a new file _genetic.py_"
   ]
  },
  {
   "cell_type": "code",
   "execution_count": 1,
   "metadata": {},
   "outputs": [],
   "source": [
    "import random\n",
    "\n",
    "def generate_parent(length, geneSet):\n",
    "    genes=[]\n",
    "    while len(genes) < length:\n",
    "        sampleSize = min(length -  len(genes), len(geneSet))\n",
    "        genes.extend(random.sample(geneSet, sampleSize))\n",
    "    return ''.join(genes)\n",
    "\n",
    "def mutate(parent, geneSet):\n",
    "    index = random.randrange(0, len(parent))\n",
    "    childGenes = list(parent)\n",
    "    newGene, alternate = random.sample(geneSet, 2)\n",
    "    childGenes[index] = alternate if newGene == childGenes[index] else newGene\n",
    "    return ''.join(childGenes)"
   ]
  },
  {
   "cell_type": "markdown",
   "metadata": {},
   "source": [
    "The next step is to move the main loop into a new public function named get_best in the genetic module. It's parameters are:\n",
    "\n",
    "+ it requests the fitness for a guess\n",
    "+ the number of genes to use when creating a new gene sequence\n",
    "+ the optimal fitness value\n",
    "+ the set of genes to use for creating and mutating gene sequences\n",
    "+ the function to display, or report each improvement found"
   ]
  },
  {
   "cell_type": "code",
   "execution_count": 2,
   "metadata": {},
   "outputs": [],
   "source": [
    "def get_best(get_fitness, targetLen, optimalFitness, geneSet, display):\n",
    "    random.seed()\n",
    "    bestParent = generate_parent(targetLen, geneSet)\n",
    "    bestFitness = get_fitness(bestParent)\n",
    "    display(bestParent)\n",
    "    if bestFitness >= optimalFitness:\n",
    "        return bestParent\n",
    "    while True:\n",
    "        child = mutate(bestParent, geneSet)\n",
    "        childFitness =  get_fitness(child)\n",
    "        \n",
    "        if bestFitness >= childFitness:\n",
    "            continue\n",
    "        display(child)\n",
    "        if childFitness >= optimalFitness:\n",
    "            return child\n",
    "        bestFitness = childFitness\n",
    "        bestParent =  child"
   ]
  },
  {
   "cell_type": "markdown",
   "metadata": {},
   "source": [
    "### Use the genetic module"
   ]
  },
  {
   "cell_type": "code",
   "execution_count": 12,
   "metadata": {},
   "outputs": [],
   "source": [
    "import datetime \n",
    "import genetic"
   ]
  },
  {
   "cell_type": "code",
   "execution_count": 21,
   "metadata": {},
   "outputs": [],
   "source": [
    "def test_Hello_World():\n",
    "    target = \"Hello World!\"\n",
    "    guess_password(target)\n",
    "\n",
    "def guess_password(target):\n",
    "    geneset = \" abcdefghijklmnopqrstuvwxyzABCDEFGHIJKLMNOPQRSTUVWXYZ!.\"\n",
    "    startTime = datetime.datetime.now()\n",
    "    \n",
    "    def fnGetFitness(genes):\n",
    "        return get_fitness(genes, target)\n",
    "\n",
    "    def fnDisplay(genes):\n",
    "        display(genes, target, startTime)\n",
    "\n",
    "    optimalFitness = len(target)\n",
    "    genetic.get_best(fnGetFitness, len(target), optimalFitness, geneset, fnDisplay)\n",
    "    \n",
    "def display(genes, target, startTime):\n",
    "    timeDiff = datetime.datetime.now() - startTime\n",
    "    fitness = get_fitness(genes, target)\n",
    "    print(\"{0}\\t{1}\\t{2}\".format(genes, fitness, str(timeDiff)))\n",
    "    \n",
    "def get_fitness(genes, target):\n",
    "    return sum(1 for expected, actual in zip(target, genes)\n",
    "        if expected == actual)"
   ]
  },
  {
   "cell_type": "code",
   "execution_count": 22,
   "metadata": {
    "scrolled": true
   },
   "outputs": [
    {
     "name": "stdout",
     "output_type": "stream",
     "text": [
      "dAscanuBzIHw\t0\t0:00:00.001003\n",
      "dAscanuozIHw\t1\t0:00:00.001003\n",
      "HAscanuozIHw\t2\t0:00:00.001986\n",
      "HAlcanuozIHw\t3\t0:00:00.001986\n",
      "HAllanuozIHw\t4\t0:00:00.001986\n",
      "HAllanuozIH!\t5\t0:00:00.002989\n",
      "HAllonuozIH!\t6\t0:00:00.002989\n",
      "HAllonWozIH!\t7\t0:00:00.004019\n",
      "HAllo WozIH!\t8\t0:00:00.004019\n",
      "Hello WozIH!\t9\t0:00:00.004019\n",
      "Hello WozId!\t10\t0:00:00.006023\n",
      "Hello WorId!\t11\t0:00:00.008028\n",
      "Hello World!\t12\t0:00:00.008028\n"
     ]
    }
   ],
   "source": [
    "test_Hello_World()"
   ]
  },
  {
   "cell_type": "markdown",
   "metadata": {},
   "source": [
    "## Use Python’s unittest framework\n",
    "\n",
    "To do that the main test function must be moved into a class that inherits from unittest.TestCase. Let's make the new class and use the unittest in order to know the performance of our genetic algorithm.\n",
    "\n",
    "You can call the algorithm using the next command\n",
    "\n",
    "`\n",
    "python -m unittest -b guessPasswordTests.py \n",
    "`"
   ]
  },
  {
   "cell_type": "markdown",
   "metadata": {},
   "source": [
    "### another hard password"
   ]
  },
  {
   "cell_type": "code",
   "execution_count": 26,
   "metadata": {},
   "outputs": [
    {
     "name": "stdout",
     "output_type": "stream",
     "text": [
      "kRaJTYMgpbCAlcdShs eKXfBPqDNrLWQ!vFyEzGI\t2\t0:00:00.001004\n",
      "kRaJTYMg bCAlcdShs eKXfBPqDNrLWQ!vFyEzGI\t3\t0:00:00.001004\n",
      "kRaJTYMg fCAlcdShs eKXfBPqDNrLWQ!vFyEzGI\t4\t0:00:00.001004\n",
      "kRaJTYMg fCAlfdShs eKXfBPqDNrLWQ!vFyEzGI\t5\t0:00:00.001004\n",
      "kRaJTYMg fCAlfdShs eKXfBPnDNrLWQ!vFyEzGI\t6\t0:00:00.002006\n",
      "kRaJTYMg fCAlfdShs eKXfBPnDerLWQ!vFyEzGI\t7\t0:00:00.002999\n",
      "kRrJTYMg fCAlfdShs eKXfBPnDerLWQ!vFyEzGI\t8\t0:00:00.002999\n",
      "kRrJTYMg fCAlfdShs eKXfBPnDerLWQ!vFyEzeI\t9\t0:00:00.002999\n",
      "kRrJTYMg fCAlfdShs eKXfwPnDerLWQ!vFyEzeI\t10\t0:00:00.002999\n",
      "kRrJTYMg fCAlfdShy eKXfwPnDerLWQ!vFyEzeI\t11\t0:00:00.002999\n",
      "kRrJIYMg fCAlfdShy eKXfwPnDerLWQ!vFyEzeI\t12\t0:00:00.003992\n",
      "kRrJIYMg fCAlfdlhy eKXfwPnDerLWQ!vFyEzeI\t13\t0:00:00.005022\n",
      "kRrJIYag fCAlfdlhy eKXfwPnDerLWQ!vFyEzeI\t14\t0:00:00.008029\n",
      "korJIYag fCAlfdlhy eKXfwPnDerLWQ!vFyEzeI\t15\t0:00:00.009033\n",
      "korJIYag fCAlfdlhy eKXfwPnderLWQ!vFyEzeI\t16\t0:00:00.009033\n",
      "korJIYag fCAlfdlly eKXfwPnderLWQ!vFyEzeI\t17\t0:00:00.010037\n",
      "korJIYam fCAlfdlly eKXfwPnderLWQ!vFyEzeI\t18\t0:00:00.011040\n",
      "korJIYam fCAlfdlly eKX wPnderLWQ!vFyEzeI\t19\t0:00:00.013044\n",
      "korJIYam fCAlfdlly eKX wPnderLWQlvFyEzeI\t20\t0:00:00.013044\n",
      "korJIYam fCAlfdlly eKX wPnderLWQlv yEzeI\t21\t0:00:00.013044\n",
      "korJIYam feAlfdlly eKX wPnderLWQlv yEzeI\t22\t0:00:00.013044\n",
      "korJIYam feAlfdlly eKX wPnderLuQlv yEzeI\t23\t0:00:00.014049\n",
      "ForJIYam feAlfdlly eKX wPnderLuQlv yEzeI\t24\t0:00:00.017046\n",
      "ForJIYam feAlfdlly aKX wPnderLuQlv yEzeI\t25\t0:00:00.020035\n",
      "ForJIYam feAlfdlly aKX wPnderLuQlv yEdeI\t26\t0:00:00.025049\n",
      "ForJIYam fealfdlly aKX wPnderLuQlv yEdeI\t27\t0:00:00.025049\n",
      "ForJIYam fealfully aKX wPnderLuQlv yEdeI\t28\t0:00:00.026053\n",
      "ForJIYam fealfully anX wPnderLuQlv yEdeI\t29\t0:00:00.026053\n",
      "ForJIYam fealfully anX wPnderLullv yEdeI\t30\t0:00:00.033104\n",
      "ForJIYam fearfully anX wPnderLullv yEdeI\t31\t0:00:00.041126\n",
      "ForJIYam fearfully anX wPnderLullv yadeI\t32\t0:00:00.042129\n",
      "ForJIYam fearfully anX wPnderLullv madeI\t33\t0:00:00.043131\n",
      "ForJIYam fearfully anX wonderLullv madeI\t34\t0:00:00.045138\n",
      "ForJIYam fearfully anX wonderLully madeI\t35\t0:00:00.045138\n",
      "ForJI am fearfully anX wonderLully madeI\t36\t0:00:00.046140\n",
      "ForJI am fearfully anX wonderfully madeI\t37\t0:00:00.067234\n",
      "For I am fearfully anX wonderfully madeI\t38\t0:00:00.081056\n",
      "For I am fearfully and wonderfully madeI\t39\t0:00:00.082043\n",
      "For I am fearfully and wonderfully made.\t40\t0:00:00.122128\n"
     ]
    }
   ],
   "source": [
    "def test_For_I_am_fearfully_and_wonderfully_made():\n",
    "    target = \"For I am fearfully and wonderfully made.\"\n",
    "    guess_password(target)\n",
    "\n",
    "def guess_password(target):\n",
    "    geneset = \" abcdefghijklmnopqrstuvwxyzABCDEFGHIJKLMNOPQRSTUVWXYZ!.\"\n",
    "    startTime = datetime.datetime.now()\n",
    "    \n",
    "    def fnGetFitness(genes):\n",
    "        return get_fitness(genes, target)\n",
    "\n",
    "    def fnDisplay(genes):\n",
    "        display(genes, target, startTime)\n",
    "\n",
    "    optimalFitness = len(target)\n",
    "    genetic.get_best(fnGetFitness, len(target), optimalFitness, geneset, fnDisplay)\n",
    "    \n",
    "def display(genes, target, startTime):\n",
    "    timeDiff = datetime.datetime.now() - startTime\n",
    "    fitness = get_fitness(genes, target)\n",
    "    print(\"{0}\\t{1}\\t{2}\".format(genes, fitness, str(timeDiff)))\n",
    "    \n",
    "def get_fitness(genes, target):\n",
    "    return sum(1 for expected, actual in zip(target, genes)\n",
    "        if expected == actual)\n",
    "\n",
    "test_For_I_am_fearfully_and_wonderfully_made()"
   ]
  },
  {
   "cell_type": "markdown",
   "metadata": {},
   "source": [
    "## Introduce a Chromosome object\n",
    "\n",
    "The next change is to introduce a Chromosome object that has Genes and Fitness attributes. This will make the genetic engine more flexible by making it possible to pass those values around as a unit. \n",
    "\n",
    "The next code is going to be in the _genetic2.py_."
   ]
  },
  {
   "cell_type": "code",
   "execution_count": 1,
   "metadata": {},
   "outputs": [],
   "source": [
    "class Chromosome:\n",
    "    Genes = None\n",
    "    Fitness =  None\n",
    "    \n",
    "    def __init__(self, genes, fitness):\n",
    "        self.Genes = genes\n",
    "        self.Fitness = fitness\n",
    "    \n",
    "    def mutate(parent, geneSet, get_fitness):\n",
    "        index = random.randrange(0, len(parent.Genes))\n",
    "        childGenes = list(parent.Genes)\n",
    "        newGene, alternate = random.sample(geneSet, 2)\n",
    "        childGenes[index] = alternate if newGene == childGenes[index] else newGene\n",
    "        genes = ''.join(childGenes)\n",
    "        fitness = get_fitness(genes)\n",
    "        return Chromosome(genes, fitness)\n",
    "    \n",
    "    def generate_parent(length, geneSet, get_fitness):\n",
    "        genes=[]\n",
    "        while len(genes) < length:\n",
    "            sampleSize = min(length -  len(genes), len(geneSet))\n",
    "            genes.extend(random.sample(geneSet, sampleSize))\n",
    "        genes = ''.join(genes)\n",
    "        fitness = get_fitness(genes)\n",
    "        return Chromosome(genes, fitness)\n",
    "    \n",
    "    def get_best(get_fitness, targetLen, optimalFitness, geneSet, display):\n",
    "        random.seed()\n",
    "        bestParent = generate_parent(targetLen, geneSet, get_fitness)\n",
    "        display(bestParent)\n",
    "        if bestParent.Fitness >= optimalFitness:\n",
    "            return bestParent\n",
    "        while True:\n",
    "            child = mutate(bestParent, geneSet, get_fitness)\n",
    "            \n",
    "\n",
    "            if bestParent.Fitness >= child.Fitness:\n",
    "                continue\n",
    "            display(child)\n",
    "            if child.Fitness >= optimalFitness:\n",
    "                return child            \n",
    "            bestParent = child"
   ]
  },
  {
   "cell_type": "markdown",
   "metadata": {},
   "source": [
    "We need to change to the algorithm file functions in order to reduce some double work, let's make them in a new file _GuessPasswordTests2.py_"
   ]
  },
  {
   "cell_type": "markdown",
   "metadata": {},
   "source": [
    "## Benchmark\n",
    "\n",
    "The next improvement is to add support for benchmarking to genetic because it is useful to know how long the engine\n",
    "takes to find a solution on average and the standard deviation.\n",
    "\n",
    "The implementation is going to be in the file _genetic2.py_\n"
   ]
  },
  {
   "cell_type": "code",
   "execution_count": 2,
   "metadata": {},
   "outputs": [],
   "source": [
    "class Benchmark:\n",
    "    @staticmethod\n",
    "    def run(function):\n",
    "        timings = []\n",
    "        stdout = sys.stdout\n",
    "        for i in range(100):\n",
    "            sys.stdout = None\n",
    "            startTime = time.time()\n",
    "            function()\n",
    "            seconds = time.time() - startTime\n",
    "            sys.stdout = stdout\n",
    "            timings.append(seconds)\n",
    "            mean = sc.mean(timings)\n",
    "            if i < 10 or i % 10 == 9:\n",
    "                print(\"{0} {1:3.2f} {2:3.2f}\".format(\n",
    "                    1 + i, mean,\n",
    "                    sc.std(timings)\n",
    "                    if i > 1 else 0))"
   ]
  },
  {
   "cell_type": "markdown",
   "metadata": {},
   "source": [
    "\n",
    "## References \n",
    "\n",
    "+ Sheppard, C. (2016). Genetic algorithms with python. Clinton Sheppard."
   ]
  }
 ],
 "metadata": {
  "kernelspec": {
   "display_name": "Python 3",
   "language": "python",
   "name": "python3"
  },
  "language_info": {
   "codemirror_mode": {
    "name": "ipython",
    "version": 3
   },
   "file_extension": ".py",
   "mimetype": "text/x-python",
   "name": "python",
   "nbconvert_exporter": "python",
   "pygments_lexer": "ipython3",
   "version": "3.6.6"
  }
 },
 "nbformat": 4,
 "nbformat_minor": 2
}
