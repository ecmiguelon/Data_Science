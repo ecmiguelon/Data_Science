{
 "cells": [
  {
   "cell_type": "markdown",
   "metadata": {},
   "source": [
    "# Spain Elections Sentiment Analysis"
   ]
  },
  {
   "cell_type": "markdown",
   "metadata": {},
   "source": [
    "## Menu\n",
    "\n",
    "+ [Spanish](#Spanish)\n",
    "    + [Resumen](#Resumen)\n",
    "    + [Diccionario de variables](#Diccionario-de-variables)\n",
    "    + [Paquetes](#Paquetes)\n",
    "    + [Carga de datasets](#Carga-de-datasets)\n",
    "    + [Exploración](#Exploración)\n",
    "    + [Pre-procesamiento](#Pre-procesamiento)\n",
    "+ [English](#English)"
   ]
  },
  {
   "cell_type": "markdown",
   "metadata": {},
   "source": [
    "## Spanish"
   ]
  },
  {
   "cell_type": "markdown",
   "metadata": {},
   "source": [
    "### Resumen \n",
    "\n",
    "Durante la exploración de los datos se encontraron algunos problemas con los textos de los tweets, específicamente, algunas palabras no cuentan con las letras ñ y las que tienen tilde. Para corroborar la inconsitencia en primera instancia de descargaron nuevamente los datos (_el 4 de junio 2019_) y se cargaron los archivos RDS a través de la función _multmerge_ del código de R (twitter_elecciones_espana_2019_v2.R), a través de la función mencionada se pueden cargar los RDS de una carpeta y llevarlos a un dataframe, en las siguientes dos capturas podemos ver la vistas de los datos y encontrar el problema descrito "
   ]
  },
  {
   "cell_type": "markdown",
   "metadata": {},
   "source": [
    "_0304_\n",
    "\n",
    "<img src=\"./problems/0304.png\">\n",
    "\n",
    "\n",
    "\n",
    "\n",
    "\n",
    "_2704_\n",
    "\n",
    "\n",
    "<img src=\"./problems/2704.png\">\n"
   ]
  },
  {
   "cell_type": "markdown",
   "metadata": {},
   "source": [
    "Depurando el código de R se procede a realizar una descarga de nuevos tweets para \"#votoPP\" y los tranformamos a un dataframe con la siguiente linea de código \n",
    "\n",
    "` votoPPcompany_tweetsdf_R <- twListToDF(company_tweets_R) `\n",
    "\n",
    "De este podemos obtener lo siguiente\n",
    "```\n",
    "[1] \"RT @david_dpedro: \\U0001f4e9 Voto con ilusión @miriamrabaneda @popularespinto por el cambio a un #Pinto mejor, bien gestionado y para todos #MiVotoA…\"\n",
    "[2] \"RT @david_dpedro: \\U0001f4e9 Voto con ilusión @miriamrabaneda @popularespinto por el cambio a un #Pinto mejor, bien gestionado y para todos #MiVotoA…\"\n",
    "[3] \"RT @RChachero: Agradezco a mis compañeros apoderados (@alexbblanco20 @Mariafdezgaitan y #Cristina) que durante todo el día hemos estado al…\" \n",
    "[4] \"RT @fgaleote_: Hoy tenemos que llenar las urnas porque aún estamos a tiempo de frenar a la izquierda. Somos más. Sobran los motivos. Hay Pa…\"\n",
    "[5] \"RT @ppcentro: Nuestra candidata @IdiazAyuso votando en las #Elecciones26M en el IES Lope de Vega del barrio de San Bernardo en Centro, junt…\"\n",
    "```\n",
    "\n",
    "Luego de aplicarle la función que transforma los elementos de latin1 a ASCII se eliminan algunos tags pero que incluyen las ñ y tildes\n",
    "\n",
    "` sapply(text,function(row) iconv(row, \"latin1\", \"ASCII\", sub=\"\")) `\n",
    "\n",
    "```\n",
    "[1] \"RT @david_dpedro:  Voto con ilusin @miriamrabaneda @popularespinto por el cambio a un #Pinto mejor, bien gestionado y para todos #MiVotoA\"  \n",
    "[2] \"RT @david_dpedro:  Voto con ilusin @miriamrabaneda @popularespinto por el cambio a un #Pinto mejor, bien gestionado y para todos #MiVotoA\"  \n",
    "[3] \"RT @RChachero: Agradezco a mis compaeros apoderados (@alexbblanco20 @Mariafdezgaitan y #Cristina) que durante todo el da hemos estado al\"   \n",
    "[4] \"RT @fgaleote_: Hoy tenemos que llenar las urnas porque an estamos a tiempo de frenar a la izquierda. Somos ms. Sobran los motivos. Hay Pa\"  \n",
    "[5] \"RT @ppcentro: Nuestra candidata @IdiazAyuso votando en las #Elecciones26M en el IES Lope de Vega del barrio de San Bernardo en Centro, junt\"\n",
    "```\n",
    "\n",
    "Luego se almacena el dataframe en un archivo RDS a partir de la siguiente linea de código:\n",
    "\n",
    "`\n",
    "saveRDS(company_tweetsdf_R, file=\"#votoPP\")\n",
    "`\n"
   ]
  },
  {
   "cell_type": "markdown",
   "metadata": {},
   "source": [
    "## Diccionario de variables\n",
    "\n",
    "Teniendo en cuenta la función `searchTwitter` del paquete de R `twitteR`, las variables de retorno son las siguientes:\n",
    "\n",
    "+ \"text\" : The text of the status\n",
    "+ \"favorited\": Wheter this status has been favorited\n",
    "+ \"favoriteCount\": \n",
    "+ \"replyToSN\": Screen name of the user this is in reply to\n",
    "+ \"created\": When this status was created\n",
    "+ \"truncated\": Whether this status has been favorited\n",
    "+ \"replyToSID\": \n",
    "+ \"id\": ID of this status\n",
    "+ \"replyToUID\": ID of the user this was in reply to\n",
    "+ \"statusSource\": Source user agent for this tweet\n",
    "+ \"screenName\": Screen name of the user who posted this status\n",
    "+ \"retweetCount\": The number of times this status has been retweeted\n",
    "+ \"isRetweet\"\n",
    "+ \"retweeted\": TRUE if this status has been retweeted\n",
    "+ \"longitude\": If not NULL, the longitude the status refers to. Ignored if no lat parameter is provideded\n",
    "+ \"latitude\": If not NULL, the latitude the status refers to. Ignored if no long parameter is provideded\n",
    "   \n",
    "\n",
    "https://cran.r-project.org/web/packages/twitteR/twitteR.pdf"
   ]
  },
  {
   "cell_type": "markdown",
   "metadata": {},
   "source": [
    "### Paquetes"
   ]
  },
  {
   "cell_type": "code",
   "execution_count": 1,
   "metadata": {},
   "outputs": [],
   "source": [
    "import pandas as pd\n",
    "import seaborn as sns\n",
    "import numpy as np\n",
    "import re \n",
    "import string\n",
    "import nltk\n",
    "import warnings\n",
    "\n",
    "warnings.filterwarnings(\"ignore\", category=DeprecationWarning)"
   ]
  },
  {
   "cell_type": "markdown",
   "metadata": {},
   "source": [
    "### Carga de datasets\n",
    "\n",
    "Vamos a cargar los archivos csv generados desde el archivo \"twitter_elecciones_espana_2019_v2\" en R con el fin de procesarlos en Python. "
   ]
  },
  {
   "cell_type": "code",
   "execution_count": 2,
   "metadata": {},
   "outputs": [],
   "source": [
    "result0204 = pd.read_csv('D:/Usuarios/rhaps/Documents/GitHub/Data-Science/Datasets/spain_elections/R/0204.csv', encoding=\"latin1\")\n",
    "result0304 = pd.read_csv('D:/Usuarios/rhaps/Documents/GitHub/Data-Science/Datasets/spain_elections/R/0304.csv', encoding=\"latin1\")\n",
    "result0404 = pd.read_csv('D:/Usuarios/rhaps/Documents/GitHub/Data-Science/Datasets/spain_elections/R/0404.csv', encoding=\"latin1\")\n",
    "result0504 = pd.read_csv('D:/Usuarios/rhaps/Documents/GitHub/Data-Science/Datasets/spain_elections/R/0504.csv', encoding=\"latin1\")\n",
    "result0604 = pd.read_csv('D:/Usuarios/rhaps/Documents/GitHub/Data-Science/Datasets/spain_elections/R/0604.csv', encoding=\"latin1\")\n",
    "result0704 = pd.read_csv('D:/Usuarios/rhaps/Documents/GitHub/Data-Science/Datasets/spain_elections/R/0704.csv', encoding=\"latin1\")\n",
    "result1004 = pd.read_csv('D:/Usuarios/rhaps/Documents/GitHub/Data-Science/Datasets/spain_elections/R/1004.csv', encoding=\"latin1\")"
   ]
  },
  {
   "cell_type": "code",
   "execution_count": 3,
   "metadata": {},
   "outputs": [],
   "source": [
    "result = pd.concat([result0204, result0304, result0404, result0504, result0604, result0704, result1004])"
   ]
  },
  {
   "cell_type": "code",
   "execution_count": 4,
   "metadata": {},
   "outputs": [
    {
     "name": "stdout",
     "output_type": "stream",
     "text": [
      "<class 'pandas.core.frame.DataFrame'>\n",
      "Int64Index: 320415 entries, 0 to 47061\n",
      "Data columns (total 17 columns):\n",
      "Unnamed: 0       320415 non-null int64\n",
      "text             320415 non-null object\n",
      "favorited        320415 non-null bool\n",
      "favoriteCount    320415 non-null int64\n",
      "replyToSN        11931 non-null object\n",
      "created          320415 non-null object\n",
      "truncated        320415 non-null bool\n",
      "replyToSID       9824 non-null float64\n",
      "id               320415 non-null int64\n",
      "replyToUID       11931 non-null float64\n",
      "statusSource     320415 non-null object\n",
      "screenName       320415 non-null object\n",
      "retweetCount     320415 non-null int64\n",
      "isRetweet        320415 non-null bool\n",
      "retweeted        320415 non-null bool\n",
      "longitude        77 non-null float64\n",
      "latitude         77 non-null float64\n",
      "dtypes: bool(4), float64(4), int64(4), object(5)\n",
      "memory usage: 35.4+ MB\n"
     ]
    }
   ],
   "source": [
    "result.info()"
   ]
  },
  {
   "cell_type": "markdown",
   "metadata": {},
   "source": [
    "Podemos comprobar que existen variables sin registros y en total contamos con __320415__ tweets para analizar."
   ]
  },
  {
   "cell_type": "code",
   "execution_count": 11,
   "metadata": {},
   "outputs": [
    {
     "data": {
      "text/html": [
       "<div>\n",
       "<style scoped>\n",
       "    .dataframe tbody tr th:only-of-type {\n",
       "        vertical-align: middle;\n",
       "    }\n",
       "\n",
       "    .dataframe tbody tr th {\n",
       "        vertical-align: top;\n",
       "    }\n",
       "\n",
       "    .dataframe thead th {\n",
       "        text-align: right;\n",
       "    }\n",
       "</style>\n",
       "<table border=\"1\" class=\"dataframe\">\n",
       "  <thead>\n",
       "    <tr style=\"text-align: right;\">\n",
       "      <th></th>\n",
       "      <th>Unnamed: 0</th>\n",
       "      <th>text</th>\n",
       "      <th>favorited</th>\n",
       "      <th>favoriteCount</th>\n",
       "      <th>replyToSN</th>\n",
       "      <th>created</th>\n",
       "      <th>truncated</th>\n",
       "      <th>replyToSID</th>\n",
       "      <th>id</th>\n",
       "      <th>replyToUID</th>\n",
       "      <th>statusSource</th>\n",
       "      <th>screenName</th>\n",
       "      <th>retweetCount</th>\n",
       "      <th>isRetweet</th>\n",
       "      <th>retweeted</th>\n",
       "      <th>longitude</th>\n",
       "      <th>latitude</th>\n",
       "    </tr>\n",
       "  </thead>\n",
       "  <tbody>\n",
       "    <tr>\n",
       "      <th>0</th>\n",
       "      <td>1</td>\n",
       "      <td>RT @FmartineL: Reparar a las vctimas de la gue...</td>\n",
       "      <td>False</td>\n",
       "      <td>0</td>\n",
       "      <td>NaN</td>\n",
       "      <td>2019-04-02 23:34:23</td>\n",
       "      <td>False</td>\n",
       "      <td>NaN</td>\n",
       "      <td>1113223180431372289</td>\n",
       "      <td>NaN</td>\n",
       "      <td>&lt;a href=\"http://twitter.com/download/android\" ...</td>\n",
       "      <td>muniesalap</td>\n",
       "      <td>90</td>\n",
       "      <td>True</td>\n",
       "      <td>False</td>\n",
       "      <td>NaN</td>\n",
       "      <td>NaN</td>\n",
       "    </tr>\n",
       "    <tr>\n",
       "      <th>1</th>\n",
       "      <td>2</td>\n",
       "      <td>RT @POCHY1971: Esperando a encontrar algo sobr...</td>\n",
       "      <td>False</td>\n",
       "      <td>0</td>\n",
       "      <td>NaN</td>\n",
       "      <td>2019-04-02 23:19:04</td>\n",
       "      <td>False</td>\n",
       "      <td>NaN</td>\n",
       "      <td>1113219324632883200</td>\n",
       "      <td>NaN</td>\n",
       "      <td>&lt;a href=\"http://twitter.com/download/android\" ...</td>\n",
       "      <td>Tarrega20049572</td>\n",
       "      <td>34</td>\n",
       "      <td>True</td>\n",
       "      <td>False</td>\n",
       "      <td>NaN</td>\n",
       "      <td>NaN</td>\n",
       "    </tr>\n",
       "    <tr>\n",
       "      <th>2</th>\n",
       "      <td>3</td>\n",
       "      <td>RT @FmartineL: La nica garanta que tiene este ...</td>\n",
       "      <td>False</td>\n",
       "      <td>0</td>\n",
       "      <td>NaN</td>\n",
       "      <td>2019-04-02 23:06:03</td>\n",
       "      <td>False</td>\n",
       "      <td>NaN</td>\n",
       "      <td>1113216049070202880</td>\n",
       "      <td>NaN</td>\n",
       "      <td>&lt;a href=\"http://twitter.com/download/android\" ...</td>\n",
       "      <td>coboortiz99</td>\n",
       "      <td>55</td>\n",
       "      <td>True</td>\n",
       "      <td>False</td>\n",
       "      <td>NaN</td>\n",
       "      <td>NaN</td>\n",
       "    </tr>\n",
       "  </tbody>\n",
       "</table>\n",
       "</div>"
      ],
      "text/plain": [
       "   Unnamed: 0                                               text  favorited  \\\n",
       "0           1  RT @FmartineL: Reparar a las vctimas de la gue...      False   \n",
       "1           2  RT @POCHY1971: Esperando a encontrar algo sobr...      False   \n",
       "2           3  RT @FmartineL: La nica garanta que tiene este ...      False   \n",
       "\n",
       "   favoriteCount replyToSN              created  truncated  replyToSID  \\\n",
       "0              0       NaN  2019-04-02 23:34:23      False         NaN   \n",
       "1              0       NaN  2019-04-02 23:19:04      False         NaN   \n",
       "2              0       NaN  2019-04-02 23:06:03      False         NaN   \n",
       "\n",
       "                    id  replyToUID  \\\n",
       "0  1113223180431372289         NaN   \n",
       "1  1113219324632883200         NaN   \n",
       "2  1113216049070202880         NaN   \n",
       "\n",
       "                                        statusSource       screenName  \\\n",
       "0  <a href=\"http://twitter.com/download/android\" ...       muniesalap   \n",
       "1  <a href=\"http://twitter.com/download/android\" ...  Tarrega20049572   \n",
       "2  <a href=\"http://twitter.com/download/android\" ...      coboortiz99   \n",
       "\n",
       "   retweetCount  isRetweet  retweeted  longitude  latitude  \n",
       "0            90       True      False        NaN       NaN  \n",
       "1            34       True      False        NaN       NaN  \n",
       "2            55       True      False        NaN       NaN  "
      ]
     },
     "execution_count": 11,
     "metadata": {},
     "output_type": "execute_result"
    }
   ],
   "source": [
    "result.head(3)"
   ]
  },
  {
   "cell_type": "code",
   "execution_count": 14,
   "metadata": {},
   "outputs": [
    {
     "data": {
      "text/plain": [
       "0    RT @FmartineL: Reparar a las vctimas de la gue...\n",
       "1    RT @POCHY1971: Esperando a encontrar algo sobr...\n",
       "2    RT @FmartineL: La nica garanta que tiene este ...\n",
       "3    RT @gomezdcelis: Tienes el poder de cambiar la...\n",
       "4    RT @gomezdcelis: Tienes el poder de cambiar la...\n",
       "Name: text, dtype: object"
      ]
     },
     "execution_count": 14,
     "metadata": {},
     "output_type": "execute_result"
    }
   ],
   "source": [
    "result.text.head(5)"
   ]
  },
  {
   "cell_type": "code",
   "execution_count": 18,
   "metadata": {},
   "outputs": [
    {
     "data": {
      "text/plain": [
       "'RT @POCHY1971: Esperando a encontrar algo sobre #sosprisiones en los #110compromisosPSOE. Me est quedando claro q #PsoeDejaMorirPrisiones.'"
      ]
     },
     "execution_count": 18,
     "metadata": {},
     "output_type": "execute_result"
    }
   ],
   "source": [
    "result.text.iloc[1]"
   ]
  },
  {
   "cell_type": "code",
   "execution_count": 19,
   "metadata": {},
   "outputs": [
    {
     "data": {
      "text/plain": [
       "'RT @FmartineL: Reparar a las vctimas de la guerra y el franquismo, sacar a los cadveres de las fosas y las cunetas no es una cuestin de'"
      ]
     },
     "execution_count": 19,
     "metadata": {},
     "output_type": "execute_result"
    }
   ],
   "source": [
    "result.text.iloc[0]"
   ]
  },
  {
   "cell_type": "markdown",
   "metadata": {},
   "source": [
    "De los anteriores ejemplos podemos notar que algunas palabras presentan problemas, específicamente, las palabras que tienen tildes y ñ.\n",
    "\n",
    "Revisando el código en R, al parecer el problema se genera al momento de crear los RDS y de transformar los caracteres a ASCII, para trabajo a futuro se procederá a cargar los dataframes a csv puros con el fin de procesarlos en este notebook."
   ]
  },
  {
   "cell_type": "markdown",
   "metadata": {},
   "source": [
    "_¿cuantas categorias y datos tiene la variable favorite?_"
   ]
  },
  {
   "cell_type": "code",
   "execution_count": 20,
   "metadata": {},
   "outputs": [
    {
     "data": {
      "text/html": [
       "<div>\n",
       "<style scoped>\n",
       "    .dataframe tbody tr th:only-of-type {\n",
       "        vertical-align: middle;\n",
       "    }\n",
       "\n",
       "    .dataframe tbody tr th {\n",
       "        vertical-align: top;\n",
       "    }\n",
       "\n",
       "    .dataframe thead th {\n",
       "        text-align: right;\n",
       "    }\n",
       "</style>\n",
       "<table border=\"1\" class=\"dataframe\">\n",
       "  <thead>\n",
       "    <tr style=\"text-align: right;\">\n",
       "      <th>favorited</th>\n",
       "      <th>False</th>\n",
       "    </tr>\n",
       "    <tr>\n",
       "      <th>favorited</th>\n",
       "      <th></th>\n",
       "    </tr>\n",
       "  </thead>\n",
       "  <tbody>\n",
       "    <tr>\n",
       "      <th>False</th>\n",
       "      <td>320415</td>\n",
       "    </tr>\n",
       "  </tbody>\n",
       "</table>\n",
       "</div>"
      ],
      "text/plain": [
       "favorited   False\n",
       "favorited        \n",
       "False      320415"
      ]
     },
     "execution_count": 20,
     "metadata": {},
     "output_type": "execute_result"
    }
   ],
   "source": [
    "pd.crosstab(result.favorited, result.favorited)"
   ]
  },
  {
   "cell_type": "markdown",
   "metadata": {},
   "source": [
    "Todos los registros tienen valores _False_"
   ]
  },
  {
   "cell_type": "markdown",
   "metadata": {},
   "source": [
    "_¿Cuantos hashtags fueron utilizados en todos los tweets?_"
   ]
  },
  {
   "cell_type": "code",
   "execution_count": 21,
   "metadata": {},
   "outputs": [
    {
     "data": {
      "text/plain": [
       "8538"
      ]
     },
     "execution_count": 21,
     "metadata": {},
     "output_type": "execute_result"
    }
   ],
   "source": [
    "hashtags_array = []\n",
    "\n",
    "for i in result.text:\n",
    "    for t in i.strip(\"#\").split():\n",
    "        if t.startswith(\"#\"):\n",
    "            if t in hashtags_array:\n",
    "                pass\n",
    "            else:\n",
    "                hashtags_array.append(t)\n",
    "len(hashtags_array)"
   ]
  },
  {
   "cell_type": "markdown",
   "metadata": {},
   "source": [
    "En total se utilizaron __8538 hashtags__"
   ]
  },
  {
   "cell_type": "markdown",
   "metadata": {},
   "source": [
    "_¿cuantas llamadas a cuentass (@) se hicieron en todos los tweets?_"
   ]
  },
  {
   "cell_type": "code",
   "execution_count": 22,
   "metadata": {},
   "outputs": [
    {
     "data": {
      "text/plain": [
       "14504"
      ]
     },
     "execution_count": 22,
     "metadata": {},
     "output_type": "execute_result"
    }
   ],
   "source": [
    "arroba_array = []\n",
    "\n",
    "for i in result.text:\n",
    "    for t in i.strip(\"@\").split():\n",
    "        if t.startswith(\"@\"):\n",
    "            if t in arroba_array:\n",
    "                pass\n",
    "            else:\n",
    "                arroba_array.append(t)\n",
    "len(arroba_array)"
   ]
  },
  {
   "cell_type": "markdown",
   "metadata": {},
   "source": [
    "En total se llamaron a __14504 cuentas__"
   ]
  },
  {
   "cell_type": "markdown",
   "metadata": {},
   "source": [
    "### Exploración"
   ]
  },
  {
   "cell_type": "markdown",
   "metadata": {},
   "source": [
    "A continuación, se analizarán los candidatos propuestos por la investigación."
   ]
  },
  {
   "cell_type": "code",
   "execution_count": 5,
   "metadata": {},
   "outputs": [
    {
     "data": {
      "text/plain": [
       "34"
      ]
     },
     "execution_count": 5,
     "metadata": {},
     "output_type": "execute_result"
    }
   ],
   "source": [
    "categories = [\"#votoutilPabloCasado\", \"#votoPP\", \"#110compromisosPSOE\", \"#Sanchismo\", \"#Politicautil\", \"#JuntosSomosImparables\",\n",
    "              \"#ciudadanos\", \"#LaHistoriaLaEscribesTu\", \"#Podemos\", \"#UnidasPodemos\", \"#EspañaViva\", \"#VOX\", \n",
    "              \"#CatalunaPorEspaña\", \"#LlibertatPresosPolitics\", \"#JoAcuso\", \"#28A\", \"#28Abril\", \"#EspanaVaciada\",\n",
    "              \"#hazquepase\", \"#HazQuePaseYNoVuelva\", \"#HazQueNoPase\", \"#SanchezMentiroso\", \"#porEspaña\", \n",
    "              \"#EleccionesGenerales28Abril\", \"#Casado\", \"#AlbertRivera\", \"#PedroSanchez\", \"#pabloIglesias\",\n",
    "              \"#Abascal\", \"#AbascalPresidente\", \"#jonqueras\", \"#ObjetivoRivera\", \"#VamosCiudadanos\", \n",
    "              \"#CaféAbascal\"\n",
    "]\n",
    "len(categories)"
   ]
  },
  {
   "cell_type": "code",
   "execution_count": 6,
   "metadata": {},
   "outputs": [],
   "source": [
    "result2 =  result.copy()\n",
    "for i in categories:\n",
    "    result2[i] = False\n",
    "    \n",
    "result2[\"focus\"] = \"\"\n",
    "for i in categories:\n",
    "    result2.loc[result2['text'].str.contains(i), i] = True   \n",
    "    result2.loc[result2['text'].str.contains(i), \"focus\"] = i "
   ]
  },
  {
   "cell_type": "markdown",
   "metadata": {},
   "source": [
    "### Análisis exploratorio"
   ]
  },
  {
   "cell_type": "markdown",
   "metadata": {},
   "source": [
    "#### Casado"
   ]
  },
  {
   "cell_type": "code",
   "execution_count": 25,
   "metadata": {},
   "outputs": [
    {
     "data": {
      "text/html": [
       "<div>\n",
       "<style scoped>\n",
       "    .dataframe tbody tr th:only-of-type {\n",
       "        vertical-align: middle;\n",
       "    }\n",
       "\n",
       "    .dataframe tbody tr th {\n",
       "        vertical-align: top;\n",
       "    }\n",
       "\n",
       "    .dataframe thead th {\n",
       "        text-align: right;\n",
       "    }\n",
       "</style>\n",
       "<table border=\"1\" class=\"dataframe\">\n",
       "  <thead>\n",
       "    <tr style=\"text-align: right;\">\n",
       "      <th>#Casado</th>\n",
       "      <th>False</th>\n",
       "      <th>True</th>\n",
       "    </tr>\n",
       "    <tr>\n",
       "      <th>#Casado</th>\n",
       "      <th></th>\n",
       "      <th></th>\n",
       "    </tr>\n",
       "  </thead>\n",
       "  <tbody>\n",
       "    <tr>\n",
       "      <th>False</th>\n",
       "      <td>317905</td>\n",
       "      <td>0</td>\n",
       "    </tr>\n",
       "    <tr>\n",
       "      <th>True</th>\n",
       "      <td>0</td>\n",
       "      <td>2510</td>\n",
       "    </tr>\n",
       "  </tbody>\n",
       "</table>\n",
       "</div>"
      ],
      "text/plain": [
       "#Casado   False  True \n",
       "#Casado               \n",
       "False    317905      0\n",
       "True          0   2510"
      ]
     },
     "execution_count": 25,
     "metadata": {},
     "output_type": "execute_result"
    }
   ],
   "source": [
    "pd.crosstab(result2.loc[:,\"#Casado\"], \n",
    "            result2.loc[:,\"#Casado\"])"
   ]
  },
  {
   "cell_type": "markdown",
   "metadata": {},
   "source": [
    "## Pre-procesamiento"
   ]
  },
  {
   "cell_type": "markdown",
   "metadata": {},
   "source": [
    "### Número de palabras"
   ]
  },
  {
   "cell_type": "code",
   "execution_count": 7,
   "metadata": {
    "scrolled": true
   },
   "outputs": [
    {
     "data": {
      "text/html": [
       "<div>\n",
       "<style scoped>\n",
       "    .dataframe tbody tr th:only-of-type {\n",
       "        vertical-align: middle;\n",
       "    }\n",
       "\n",
       "    .dataframe tbody tr th {\n",
       "        vertical-align: top;\n",
       "    }\n",
       "\n",
       "    .dataframe thead th {\n",
       "        text-align: right;\n",
       "    }\n",
       "</style>\n",
       "<table border=\"1\" class=\"dataframe\">\n",
       "  <thead>\n",
       "    <tr style=\"text-align: right;\">\n",
       "      <th></th>\n",
       "      <th>text</th>\n",
       "      <th>word_count</th>\n",
       "    </tr>\n",
       "  </thead>\n",
       "  <tbody>\n",
       "    <tr>\n",
       "      <th>0</th>\n",
       "      <td>RT @FmartineL: Reparar a las vctimas de la gue...</td>\n",
       "      <td>27</td>\n",
       "    </tr>\n",
       "    <tr>\n",
       "      <th>1</th>\n",
       "      <td>RT @POCHY1971: Esperando a encontrar algo sobr...</td>\n",
       "      <td>17</td>\n",
       "    </tr>\n",
       "    <tr>\n",
       "      <th>2</th>\n",
       "      <td>RT @FmartineL: La nica garanta que tiene este ...</td>\n",
       "      <td>25</td>\n",
       "    </tr>\n",
       "    <tr>\n",
       "      <th>3</th>\n",
       "      <td>RT @gomezdcelis: Tienes el poder de cambiar la...</td>\n",
       "      <td>23</td>\n",
       "    </tr>\n",
       "    <tr>\n",
       "      <th>4</th>\n",
       "      <td>RT @gomezdcelis: Tienes el poder de cambiar la...</td>\n",
       "      <td>23</td>\n",
       "    </tr>\n",
       "  </tbody>\n",
       "</table>\n",
       "</div>"
      ],
      "text/plain": [
       "                                                text  word_count\n",
       "0  RT @FmartineL: Reparar a las vctimas de la gue...          27\n",
       "1  RT @POCHY1971: Esperando a encontrar algo sobr...          17\n",
       "2  RT @FmartineL: La nica garanta que tiene este ...          25\n",
       "3  RT @gomezdcelis: Tienes el poder de cambiar la...          23\n",
       "4  RT @gomezdcelis: Tienes el poder de cambiar la...          23"
      ]
     },
     "execution_count": 7,
     "metadata": {},
     "output_type": "execute_result"
    }
   ],
   "source": [
    "result2['word_count'] = result2['text'].apply(lambda x: len(str(x).split(\" \")))\n",
    "result2[[\"text\", \"word_count\"]].head(5)"
   ]
  },
  {
   "cell_type": "markdown",
   "metadata": {},
   "source": [
    "### Número de palabras con mayúsculas"
   ]
  },
  {
   "cell_type": "code",
   "execution_count": 8,
   "metadata": {},
   "outputs": [],
   "source": [
    "result2['upper'] = result2['text'].apply(lambda x: len([x for x in x.split() if x.isupper()]))"
   ]
  },
  {
   "cell_type": "code",
   "execution_count": 9,
   "metadata": {},
   "outputs": [
    {
     "data": {
      "text/html": [
       "<div>\n",
       "<style scoped>\n",
       "    .dataframe tbody tr th:only-of-type {\n",
       "        vertical-align: middle;\n",
       "    }\n",
       "\n",
       "    .dataframe tbody tr th {\n",
       "        vertical-align: top;\n",
       "    }\n",
       "\n",
       "    .dataframe thead th {\n",
       "        text-align: right;\n",
       "    }\n",
       "</style>\n",
       "<table border=\"1\" class=\"dataframe\">\n",
       "  <thead>\n",
       "    <tr style=\"text-align: right;\">\n",
       "      <th></th>\n",
       "      <th>text</th>\n",
       "      <th>upper</th>\n",
       "    </tr>\n",
       "  </thead>\n",
       "  <tbody>\n",
       "    <tr>\n",
       "      <th>0</th>\n",
       "      <td>RT @FmartineL: Reparar a las vctimas de la gue...</td>\n",
       "      <td>1</td>\n",
       "    </tr>\n",
       "    <tr>\n",
       "      <th>1</th>\n",
       "      <td>RT @POCHY1971: Esperando a encontrar algo sobr...</td>\n",
       "      <td>2</td>\n",
       "    </tr>\n",
       "    <tr>\n",
       "      <th>2</th>\n",
       "      <td>RT @FmartineL: La nica garanta que tiene este ...</td>\n",
       "      <td>1</td>\n",
       "    </tr>\n",
       "    <tr>\n",
       "      <th>3</th>\n",
       "      <td>RT @gomezdcelis: Tienes el poder de cambiar la...</td>\n",
       "      <td>2</td>\n",
       "    </tr>\n",
       "    <tr>\n",
       "      <th>4</th>\n",
       "      <td>RT @gomezdcelis: Tienes el poder de cambiar la...</td>\n",
       "      <td>2</td>\n",
       "    </tr>\n",
       "  </tbody>\n",
       "</table>\n",
       "</div>"
      ],
      "text/plain": [
       "                                                text  upper\n",
       "0  RT @FmartineL: Reparar a las vctimas de la gue...      1\n",
       "1  RT @POCHY1971: Esperando a encontrar algo sobr...      2\n",
       "2  RT @FmartineL: La nica garanta que tiene este ...      1\n",
       "3  RT @gomezdcelis: Tienes el poder de cambiar la...      2\n",
       "4  RT @gomezdcelis: Tienes el poder de cambiar la...      2"
      ]
     },
     "execution_count": 9,
     "metadata": {},
     "output_type": "execute_result"
    }
   ],
   "source": [
    "result2[['text','upper']].head()"
   ]
  },
  {
   "cell_type": "markdown",
   "metadata": {},
   "source": [
    "## English"
   ]
  },
  {
   "cell_type": "markdown",
   "metadata": {},
   "source": [
    "### Libraries "
   ]
  },
  {
   "cell_type": "code",
   "execution_count": 1,
   "metadata": {},
   "outputs": [],
   "source": [
    "import pandas as pd\n",
    "import seaborn as sns\n",
    "import numpy as np\n",
    "import re \n",
    "import string\n",
    "import nltk\n",
    "import warnings\n",
    "\n",
    "warnings.filterwarnings(\"ignore\", category=DeprecationWarning)"
   ]
  },
  {
   "cell_type": "markdown",
   "metadata": {},
   "source": [
    "## Load Datasets\n",
    "\n",
    "We are going to load the datasets from the different csv made from the R code provided "
   ]
  },
  {
   "cell_type": "code",
   "execution_count": 3,
   "metadata": {},
   "outputs": [],
   "source": [
    "result0204 = pd.read_csv('D:/Usuarios/rhaps/Documents/GitHub/Data-Science/Datasets/spain_elections/R/0204.csv', encoding=\"latin1\")\n",
    "result0304 = pd.read_csv('D:/Usuarios/rhaps/Documents/GitHub/Data-Science/Datasets/spain_elections/R/0304.csv', encoding=\"latin1\")\n",
    "result0404 = pd.read_csv('D:/Usuarios/rhaps/Documents/GitHub/Data-Science/Datasets/spain_elections/R/0404.csv', encoding=\"latin1\")\n",
    "result0504 = pd.read_csv('D:/Usuarios/rhaps/Documents/GitHub/Data-Science/Datasets/spain_elections/R/0504.csv', encoding=\"latin1\")\n",
    "result0604 = pd.read_csv('D:/Usuarios/rhaps/Documents/GitHub/Data-Science/Datasets/spain_elections/R/0604.csv', encoding=\"latin1\")\n",
    "result0704 = pd.read_csv('D:/Usuarios/rhaps/Documents/GitHub/Data-Science/Datasets/spain_elections/R/0704.csv', encoding=\"latin1\")\n",
    "result1004 = pd.read_csv('D:/Usuarios/rhaps/Documents/GitHub/Data-Science/Datasets/spain_elections/R/1004.csv', encoding=\"latin1\")"
   ]
  },
  {
   "cell_type": "code",
   "execution_count": 4,
   "metadata": {},
   "outputs": [],
   "source": [
    "result = pd.concat([result0204, result0304, result0404, result0504, result0604, result0704, result1004])"
   ]
  },
  {
   "cell_type": "markdown",
   "metadata": {},
   "source": [
    "## Exploration"
   ]
  },
  {
   "cell_type": "code",
   "execution_count": 5,
   "metadata": {
    "scrolled": true
   },
   "outputs": [
    {
     "name": "stdout",
     "output_type": "stream",
     "text": [
      "<class 'pandas.core.frame.DataFrame'>\n",
      "Int64Index: 320415 entries, 0 to 47061\n",
      "Data columns (total 17 columns):\n",
      "Unnamed: 0       320415 non-null int64\n",
      "text             320415 non-null object\n",
      "favorited        320415 non-null bool\n",
      "favoriteCount    320415 non-null int64\n",
      "replyToSN        11931 non-null object\n",
      "created          320415 non-null object\n",
      "truncated        320415 non-null bool\n",
      "replyToSID       9824 non-null float64\n",
      "id               320415 non-null int64\n",
      "replyToUID       11931 non-null float64\n",
      "statusSource     320415 non-null object\n",
      "screenName       320415 non-null object\n",
      "retweetCount     320415 non-null int64\n",
      "isRetweet        320415 non-null bool\n",
      "retweeted        320415 non-null bool\n",
      "longitude        77 non-null float64\n",
      "latitude         77 non-null float64\n",
      "dtypes: bool(4), float64(4), int64(4), object(5)\n",
      "memory usage: 35.4+ MB\n"
     ]
    }
   ],
   "source": [
    "result.info()"
   ]
  },
  {
   "cell_type": "markdown",
   "metadata": {},
   "source": [
    "We have 320415 tweets to analyze"
   ]
  },
  {
   "cell_type": "code",
   "execution_count": 4,
   "metadata": {},
   "outputs": [
    {
     "data": {
      "text/html": [
       "<div>\n",
       "<style scoped>\n",
       "    .dataframe tbody tr th:only-of-type {\n",
       "        vertical-align: middle;\n",
       "    }\n",
       "\n",
       "    .dataframe tbody tr th {\n",
       "        vertical-align: top;\n",
       "    }\n",
       "\n",
       "    .dataframe thead th {\n",
       "        text-align: right;\n",
       "    }\n",
       "</style>\n",
       "<table border=\"1\" class=\"dataframe\">\n",
       "  <thead>\n",
       "    <tr style=\"text-align: right;\">\n",
       "      <th></th>\n",
       "      <th>Unnamed: 0</th>\n",
       "      <th>text</th>\n",
       "      <th>favorited</th>\n",
       "      <th>favoriteCount</th>\n",
       "      <th>replyToSN</th>\n",
       "      <th>created</th>\n",
       "      <th>truncated</th>\n",
       "      <th>replyToSID</th>\n",
       "      <th>id</th>\n",
       "      <th>replyToUID</th>\n",
       "      <th>statusSource</th>\n",
       "      <th>screenName</th>\n",
       "      <th>retweetCount</th>\n",
       "      <th>isRetweet</th>\n",
       "      <th>retweeted</th>\n",
       "      <th>longitude</th>\n",
       "      <th>latitude</th>\n",
       "    </tr>\n",
       "  </thead>\n",
       "  <tbody>\n",
       "    <tr>\n",
       "      <th>0</th>\n",
       "      <td>1</td>\n",
       "      <td>RT @FmartineL: Reparar a las vctimas de la gue...</td>\n",
       "      <td>False</td>\n",
       "      <td>0</td>\n",
       "      <td>NaN</td>\n",
       "      <td>2019-04-02 23:34:23</td>\n",
       "      <td>False</td>\n",
       "      <td>NaN</td>\n",
       "      <td>1113223180431372289</td>\n",
       "      <td>NaN</td>\n",
       "      <td>&lt;a href=\"http://twitter.com/download/android\" ...</td>\n",
       "      <td>muniesalap</td>\n",
       "      <td>90</td>\n",
       "      <td>True</td>\n",
       "      <td>False</td>\n",
       "      <td>NaN</td>\n",
       "      <td>NaN</td>\n",
       "    </tr>\n",
       "    <tr>\n",
       "      <th>1</th>\n",
       "      <td>2</td>\n",
       "      <td>RT @POCHY1971: Esperando a encontrar algo sobr...</td>\n",
       "      <td>False</td>\n",
       "      <td>0</td>\n",
       "      <td>NaN</td>\n",
       "      <td>2019-04-02 23:19:04</td>\n",
       "      <td>False</td>\n",
       "      <td>NaN</td>\n",
       "      <td>1113219324632883200</td>\n",
       "      <td>NaN</td>\n",
       "      <td>&lt;a href=\"http://twitter.com/download/android\" ...</td>\n",
       "      <td>Tarrega20049572</td>\n",
       "      <td>34</td>\n",
       "      <td>True</td>\n",
       "      <td>False</td>\n",
       "      <td>NaN</td>\n",
       "      <td>NaN</td>\n",
       "    </tr>\n",
       "    <tr>\n",
       "      <th>2</th>\n",
       "      <td>3</td>\n",
       "      <td>RT @FmartineL: La nica garanta que tiene este ...</td>\n",
       "      <td>False</td>\n",
       "      <td>0</td>\n",
       "      <td>NaN</td>\n",
       "      <td>2019-04-02 23:06:03</td>\n",
       "      <td>False</td>\n",
       "      <td>NaN</td>\n",
       "      <td>1113216049070202880</td>\n",
       "      <td>NaN</td>\n",
       "      <td>&lt;a href=\"http://twitter.com/download/android\" ...</td>\n",
       "      <td>coboortiz99</td>\n",
       "      <td>55</td>\n",
       "      <td>True</td>\n",
       "      <td>False</td>\n",
       "      <td>NaN</td>\n",
       "      <td>NaN</td>\n",
       "    </tr>\n",
       "  </tbody>\n",
       "</table>\n",
       "</div>"
      ],
      "text/plain": [
       "   Unnamed: 0                                               text  favorited  \\\n",
       "0           1  RT @FmartineL: Reparar a las vctimas de la gue...      False   \n",
       "1           2  RT @POCHY1971: Esperando a encontrar algo sobr...      False   \n",
       "2           3  RT @FmartineL: La nica garanta que tiene este ...      False   \n",
       "\n",
       "   favoriteCount replyToSN              created  truncated  replyToSID  \\\n",
       "0              0       NaN  2019-04-02 23:34:23      False         NaN   \n",
       "1              0       NaN  2019-04-02 23:19:04      False         NaN   \n",
       "2              0       NaN  2019-04-02 23:06:03      False         NaN   \n",
       "\n",
       "                    id  replyToUID  \\\n",
       "0  1113223180431372289         NaN   \n",
       "1  1113219324632883200         NaN   \n",
       "2  1113216049070202880         NaN   \n",
       "\n",
       "                                        statusSource       screenName  \\\n",
       "0  <a href=\"http://twitter.com/download/android\" ...       muniesalap   \n",
       "1  <a href=\"http://twitter.com/download/android\" ...  Tarrega20049572   \n",
       "2  <a href=\"http://twitter.com/download/android\" ...      coboortiz99   \n",
       "\n",
       "   retweetCount  isRetweet  retweeted  longitude  latitude  \n",
       "0            90       True      False        NaN       NaN  \n",
       "1            34       True      False        NaN       NaN  \n",
       "2            55       True      False        NaN       NaN  "
      ]
     },
     "execution_count": 4,
     "metadata": {},
     "output_type": "execute_result"
    }
   ],
   "source": [
    "result.head(3)"
   ]
  },
  {
   "cell_type": "code",
   "execution_count": 13,
   "metadata": {},
   "outputs": [
    {
     "data": {
      "text/html": [
       "<div>\n",
       "<style scoped>\n",
       "    .dataframe tbody tr th:only-of-type {\n",
       "        vertical-align: middle;\n",
       "    }\n",
       "\n",
       "    .dataframe tbody tr th {\n",
       "        vertical-align: top;\n",
       "    }\n",
       "\n",
       "    .dataframe thead th {\n",
       "        text-align: right;\n",
       "    }\n",
       "</style>\n",
       "<table border=\"1\" class=\"dataframe\">\n",
       "  <thead>\n",
       "    <tr style=\"text-align: right;\">\n",
       "      <th>favorited</th>\n",
       "      <th>False</th>\n",
       "    </tr>\n",
       "    <tr>\n",
       "      <th>favorited</th>\n",
       "      <th></th>\n",
       "    </tr>\n",
       "  </thead>\n",
       "  <tbody>\n",
       "    <tr>\n",
       "      <th>False</th>\n",
       "      <td>320415</td>\n",
       "    </tr>\n",
       "  </tbody>\n",
       "</table>\n",
       "</div>"
      ],
      "text/plain": [
       "favorited   False\n",
       "favorited        \n",
       "False      320415"
      ]
     },
     "execution_count": 13,
     "metadata": {},
     "output_type": "execute_result"
    }
   ],
   "source": [
    "pd.crosstab(result.favorited, result.favorited)"
   ]
  },
  {
   "cell_type": "markdown",
   "metadata": {},
   "source": [
    "The feature _favorite_ doesn't have values in True.\n",
    "\n",
    "One idea is to make a new feature which has the sum of registers between _retweetCount_ and _favoriteCount_."
   ]
  },
  {
   "cell_type": "code",
   "execution_count": 7,
   "metadata": {},
   "outputs": [],
   "source": [
    "result['sentiment'] = pd.Series(result.retweetCount + result.favoriteCount)"
   ]
  },
  {
   "cell_type": "code",
   "execution_count": 8,
   "metadata": {
    "scrolled": true
   },
   "outputs": [
    {
     "data": {
      "text/plain": [
       "<matplotlib.axes._subplots.AxesSubplot at 0x18907f59f98>"
      ]
     },
     "execution_count": 8,
     "metadata": {},
     "output_type": "execute_result"
    },
    {
     "data": {
      "image/png": "[encoded data removed]",
      "text/plain": [
       "<Figure size 432x288 with 1 Axes>"
      ]
     },
     "metadata": {
      "needs_background": "light"
     },
     "output_type": "display_data"
    }
   ],
   "source": [
    "sns.distplot(result.sentiment)"
   ]
  },
  {
   "cell_type": "markdown",
   "metadata": {},
   "source": [
    "I would like to see what are the hashtags using in each tweet"
   ]
  },
  {
   "cell_type": "code",
   "execution_count": 9,
   "metadata": {},
   "outputs": [],
   "source": [
    "hashtags_array = []\n",
    "\n",
    "for i in result.text:\n",
    "    for t in i.strip(\"#\").split():\n",
    "        if t.startswith(\"#\"):\n",
    "            if t in hashtags_array:\n",
    "                pass\n",
    "            else:\n",
    "                hashtags_array.append(t)"
   ]
  },
  {
   "cell_type": "code",
   "execution_count": 10,
   "metadata": {
    "scrolled": true
   },
   "outputs": [
    {
     "data": {
      "text/plain": [
       "8538"
      ]
     },
     "execution_count": 10,
     "metadata": {},
     "output_type": "execute_result"
    }
   ],
   "source": [
    "len(hashtags_array)"
   ]
  },
  {
   "cell_type": "markdown",
   "metadata": {},
   "source": [
    "Our tweets have 8538 hashtags"
   ]
  },
  {
   "cell_type": "markdown",
   "metadata": {},
   "source": [
    "Which accounts (@) were called in each tweet?"
   ]
  },
  {
   "cell_type": "code",
   "execution_count": 11,
   "metadata": {},
   "outputs": [],
   "source": [
    "arroba_array = []\n",
    "\n",
    "for i in result.text:\n",
    "    for t in i.strip(\"@\").split():\n",
    "        if t.startswith(\"@\"):\n",
    "            if t in arroba_array:\n",
    "                pass\n",
    "            else:\n",
    "                arroba_array.append(t)"
   ]
  },
  {
   "cell_type": "code",
   "execution_count": 12,
   "metadata": {},
   "outputs": [
    {
     "data": {
      "text/plain": [
       "14504"
      ]
     },
     "execution_count": 12,
     "metadata": {},
     "output_type": "execute_result"
    }
   ],
   "source": [
    "len(arroba_array)"
   ]
  },
  {
   "cell_type": "markdown",
   "metadata": {},
   "source": [
    "We have 14504 accounts used for all the tweets analyzed"
   ]
  },
  {
   "cell_type": "markdown",
   "metadata": {},
   "source": [
    "According to our researching results, I will make a category for each hashtags"
   ]
  },
  {
   "cell_type": "code",
   "execution_count": 13,
   "metadata": {},
   "outputs": [],
   "source": [
    "categories = [\"#votoutilPabloCasado\", \"#votoPP\", \"#110compromisosPSOE\", \"#Sanchismo\", \"#Politicautil\", \"#JuntosSomosImparables\",\n",
    "              \"#ciudadanos\", \"#LaHistoriaLaEscribesTu\", \"#Podemos\", \"#UnidasPodemos\", \"#EspañaViva\", \"#VOX\", \n",
    "              \"#CatalunaPorEspaña\", \"#LlibertatPresosPolitics\", \"#JoAcuso\", \"#28A\", \"#28Abril\", \"#EspanaVaciada\",\n",
    "              \"#hazquepase\", \"#HazQuePaseYNoVuelva\", \"#HazQueNoPase\", \"#SanchezMentiroso\", \"#porEspaña\", \n",
    "              \"#EleccionesGenerales28Abril\", \"#Casado\", \"#AlbertRivera\", \"#PedroSanchez\", \"#pabloIglesias\",\n",
    "              \"#Abascal\", \"#AbascalPresidente\", \"#jonqueras\", \"#ObjetivoRivera\", \"#VamosCiudadanos\", \n",
    "              \"#CaféAbascal\"\n",
    "]"
   ]
  },
  {
   "cell_type": "code",
   "execution_count": 14,
   "metadata": {},
   "outputs": [
    {
     "data": {
      "text/plain": [
       "34"
      ]
     },
     "execution_count": 14,
     "metadata": {},
     "output_type": "execute_result"
    }
   ],
   "source": [
    "len(categories)"
   ]
  },
  {
   "cell_type": "code",
   "execution_count": 15,
   "metadata": {},
   "outputs": [],
   "source": [
    "result2 =  result.copy()\n",
    "for i in categories:\n",
    "    result2[i] = False"
   ]
  },
  {
   "cell_type": "code",
   "execution_count": 16,
   "metadata": {},
   "outputs": [],
   "source": [
    "result2[\"focus\"] = \"\"\n",
    "for i in categories:\n",
    "    result2.loc[result2['text'].str.contains(i), i] = True   \n",
    "    result2.loc[result2['text'].str.contains(i), \"focus\"] = i "
   ]
  },
  {
   "cell_type": "code",
   "execution_count": 17,
   "metadata": {
    "scrolled": true
   },
   "outputs": [
    {
     "data": {
      "text/html": [
       "<div>\n",
       "<style scoped>\n",
       "    .dataframe tbody tr th:only-of-type {\n",
       "        vertical-align: middle;\n",
       "    }\n",
       "\n",
       "    .dataframe tbody tr th {\n",
       "        vertical-align: top;\n",
       "    }\n",
       "\n",
       "    .dataframe thead th {\n",
       "        text-align: right;\n",
       "    }\n",
       "</style>\n",
       "<table border=\"1\" class=\"dataframe\">\n",
       "  <thead>\n",
       "    <tr style=\"text-align: right;\">\n",
       "      <th>#Casado</th>\n",
       "      <th>False</th>\n",
       "      <th>True</th>\n",
       "    </tr>\n",
       "    <tr>\n",
       "      <th>#Casado</th>\n",
       "      <th></th>\n",
       "      <th></th>\n",
       "    </tr>\n",
       "  </thead>\n",
       "  <tbody>\n",
       "    <tr>\n",
       "      <th>False</th>\n",
       "      <td>317905</td>\n",
       "      <td>0</td>\n",
       "    </tr>\n",
       "    <tr>\n",
       "      <th>True</th>\n",
       "      <td>0</td>\n",
       "      <td>2510</td>\n",
       "    </tr>\n",
       "  </tbody>\n",
       "</table>\n",
       "</div>"
      ],
      "text/plain": [
       "#Casado   False  True \n",
       "#Casado               \n",
       "False    317905      0\n",
       "True          0   2510"
      ]
     },
     "execution_count": 17,
     "metadata": {},
     "output_type": "execute_result"
    }
   ],
   "source": [
    "pd.crosstab(result2.loc[:,\"#Casado\"], \n",
    "            result2.loc[:,\"#Casado\"])"
   ]
  },
  {
   "cell_type": "code",
   "execution_count": 18,
   "metadata": {},
   "outputs": [
    {
     "data": {
      "text/plain": [
       "<seaborn.axisgrid.FacetGrid at 0x1897dbf04e0>"
      ]
     },
     "execution_count": 18,
     "metadata": {},
     "output_type": "execute_result"
    },
    {
     "data": {
      "image/png": "[encoded data removed]",
      "text/plain": [
       "<Figure size 360x360 with 1 Axes>"
      ]
     },
     "metadata": {
      "needs_background": "light"
     },
     "output_type": "display_data"
    }
   ],
   "source": [
    "sns.catplot(y='feeling', x='focus', data=result2)"
   ]
  },
  {
   "cell_type": "code",
   "execution_count": 19,
   "metadata": {},
   "outputs": [
    {
     "data": {
      "text/plain": [
       "<matplotlib.axes._subplots.AxesSubplot at 0x189087b81d0>"
      ]
     },
     "execution_count": 19,
     "metadata": {},
     "output_type": "execute_result"
    },
    {
     "data": {
      "image/png": "[encoded data removed]",
      "text/plain": [
       "<Figure size 432x288 with 1 Axes>"
      ]
     },
     "metadata": {
      "needs_background": "light"
     },
     "output_type": "display_data"
    }
   ],
   "source": [
    "sns.boxplot(y='feeling', x='focus', data=result2)"
   ]
  },
  {
   "cell_type": "code",
   "execution_count": 20,
   "metadata": {},
   "outputs": [
    {
     "data": {
      "text/plain": [
       "<matplotlib.axes._subplots.AxesSubplot at 0x18909be0cc0>"
      ]
     },
     "execution_count": 20,
     "metadata": {},
     "output_type": "execute_result"
    },
    {
     "data": {
      "image/png": "[encoded data removed]",
      "text/plain": [
       "<Figure size 432x288 with 1 Axes>"
      ]
     },
     "metadata": {
      "needs_background": "light"
     },
     "output_type": "display_data"
    }
   ],
   "source": [
    "sns.boxplot(y='feeling', x='focus', data=result2[result2.feeling<=2000])"
   ]
  },
  {
   "cell_type": "markdown",
   "metadata": {},
   "source": [
    "I'm going to take a set registers, especially, which are in the tail of less feeling and the top of high feeling."
   ]
  },
  {
   "cell_type": "code",
   "execution_count": 21,
   "metadata": {},
   "outputs": [],
   "source": [
    "less_feeling = result2[result2.feeling <=250].copy()\n",
    "high_feeling = result2[result2.feeling > 250].copy()"
   ]
  },
  {
   "cell_type": "code",
   "execution_count": 24,
   "metadata": {},
   "outputs": [
    {
     "data": {
      "text/plain": [
       "'RT @PSOE: / Queremos que Espaa conquiste su futuro.\\r\\n\\r\\n1 La Espaa del conocimiento\\r\\n2 La Espaa competitiva\\r\\n3 La Espaa del bienestar'"
      ]
     },
     "execution_count": 24,
     "metadata": {},
     "output_type": "execute_result"
    }
   ],
   "source": [
    "#high_feeling.text.values[14]\n",
    "high_feeling.text.values[30]"
   ]
  },
  {
   "cell_type": "markdown",
   "metadata": {},
   "source": [
    "In the previous example, we can see a problem on our data, which have words that don't have the letters ñ and ',  this might affect the next predictions due in Spanish, in order to solve it we will go to the R code and get again the information"
   ]
  },
  {
   "cell_type": "markdown",
   "metadata": {},
   "source": [
    "## Number of Words"
   ]
  },
  {
   "cell_type": "code",
   "execution_count": 12,
   "metadata": {},
   "outputs": [
    {
     "data": {
      "text/html": [
       "<div>\n",
       "<style scoped>\n",
       "    .dataframe tbody tr th:only-of-type {\n",
       "        vertical-align: middle;\n",
       "    }\n",
       "\n",
       "    .dataframe tbody tr th {\n",
       "        vertical-align: top;\n",
       "    }\n",
       "\n",
       "    .dataframe thead th {\n",
       "        text-align: right;\n",
       "    }\n",
       "</style>\n",
       "<table border=\"1\" class=\"dataframe\">\n",
       "  <thead>\n",
       "    <tr style=\"text-align: right;\">\n",
       "      <th></th>\n",
       "      <th>text</th>\n",
       "      <th>word_count</th>\n",
       "    </tr>\n",
       "  </thead>\n",
       "  <tbody>\n",
       "    <tr>\n",
       "      <th>0</th>\n",
       "      <td>RT @FmartineL: Reparar a las vctimas de la gue...</td>\n",
       "      <td>27</td>\n",
       "    </tr>\n",
       "    <tr>\n",
       "      <th>1</th>\n",
       "      <td>RT @POCHY1971: Esperando a encontrar algo sobr...</td>\n",
       "      <td>17</td>\n",
       "    </tr>\n",
       "    <tr>\n",
       "      <th>2</th>\n",
       "      <td>RT @FmartineL: La nica garanta que tiene este ...</td>\n",
       "      <td>25</td>\n",
       "    </tr>\n",
       "    <tr>\n",
       "      <th>3</th>\n",
       "      <td>RT @gomezdcelis: Tienes el poder de cambiar la...</td>\n",
       "      <td>23</td>\n",
       "    </tr>\n",
       "    <tr>\n",
       "      <th>4</th>\n",
       "      <td>RT @gomezdcelis: Tienes el poder de cambiar la...</td>\n",
       "      <td>23</td>\n",
       "    </tr>\n",
       "  </tbody>\n",
       "</table>\n",
       "</div>"
      ],
      "text/plain": [
       "                                                text  word_count\n",
       "0  RT @FmartineL: Reparar a las vctimas de la gue...          27\n",
       "1  RT @POCHY1971: Esperando a encontrar algo sobr...          17\n",
       "2  RT @FmartineL: La nica garanta que tiene este ...          25\n",
       "3  RT @gomezdcelis: Tienes el poder de cambiar la...          23\n",
       "4  RT @gomezdcelis: Tienes el poder de cambiar la...          23"
      ]
     },
     "execution_count": 12,
     "metadata": {},
     "output_type": "execute_result"
    }
   ],
   "source": [
    "result2['word_count'] = result2['text'].apply(lambda x: len(str(x).split(\" \")))\n",
    "result2[[\"text\", \"word_count\"]].head(5)"
   ]
  },
  {
   "cell_type": "markdown",
   "metadata": {},
   "source": [
    "## Number of Uppercase words\n",
    "\n",
    "Anger or rage is quiter often expresed by writing UPPERCASE words"
   ]
  },
  {
   "cell_type": "code",
   "execution_count": 52,
   "metadata": {},
   "outputs": [],
   "source": [
    "result2['upper'] = result2['text'].apply(lambda x: len([x for x in x.split() if x.isupper()]))"
   ]
  },
  {
   "cell_type": "code",
   "execution_count": 54,
   "metadata": {},
   "outputs": [
    {
     "data": {
      "text/html": [
       "<div>\n",
       "<style scoped>\n",
       "    .dataframe tbody tr th:only-of-type {\n",
       "        vertical-align: middle;\n",
       "    }\n",
       "\n",
       "    .dataframe tbody tr th {\n",
       "        vertical-align: top;\n",
       "    }\n",
       "\n",
       "    .dataframe thead th {\n",
       "        text-align: right;\n",
       "    }\n",
       "</style>\n",
       "<table border=\"1\" class=\"dataframe\">\n",
       "  <thead>\n",
       "    <tr style=\"text-align: right;\">\n",
       "      <th></th>\n",
       "      <th>text</th>\n",
       "      <th>upper</th>\n",
       "    </tr>\n",
       "  </thead>\n",
       "  <tbody>\n",
       "    <tr>\n",
       "      <th>0</th>\n",
       "      <td>RT @FmartineL: Reparar a las vctimas de la gue...</td>\n",
       "      <td>1</td>\n",
       "    </tr>\n",
       "    <tr>\n",
       "      <th>1</th>\n",
       "      <td>RT @POCHY1971: Esperando a encontrar algo sobr...</td>\n",
       "      <td>2</td>\n",
       "    </tr>\n",
       "    <tr>\n",
       "      <th>2</th>\n",
       "      <td>RT @FmartineL: La nica garanta que tiene este ...</td>\n",
       "      <td>1</td>\n",
       "    </tr>\n",
       "    <tr>\n",
       "      <th>3</th>\n",
       "      <td>RT @gomezdcelis: Tienes el poder de cambiar la...</td>\n",
       "      <td>2</td>\n",
       "    </tr>\n",
       "    <tr>\n",
       "      <th>4</th>\n",
       "      <td>RT @gomezdcelis: Tienes el poder de cambiar la...</td>\n",
       "      <td>2</td>\n",
       "    </tr>\n",
       "  </tbody>\n",
       "</table>\n",
       "</div>"
      ],
      "text/plain": [
       "                                                text  upper\n",
       "0  RT @FmartineL: Reparar a las vctimas de la gue...      1\n",
       "1  RT @POCHY1971: Esperando a encontrar algo sobr...      2\n",
       "2  RT @FmartineL: La nica garanta que tiene este ...      1\n",
       "3  RT @gomezdcelis: Tienes el poder de cambiar la...      2\n",
       "4  RT @gomezdcelis: Tienes el poder de cambiar la...      2"
      ]
     },
     "execution_count": 54,
     "metadata": {},
     "output_type": "execute_result"
    }
   ],
   "source": [
    "result2[['text','upper']].head()"
   ]
  },
  {
   "cell_type": "markdown",
   "metadata": {},
   "source": [
    "## Pre-processing \n",
    "\n",
    "+ lower case "
   ]
  },
  {
   "cell_type": "code",
   "execution_count": 55,
   "metadata": {},
   "outputs": [],
   "source": [
    "result2['text'] = result2['text'].apply(lambda x: \"\".join(x.lower() for i in x.split()))"
   ]
  },
  {
   "cell_type": "code",
   "execution_count": 56,
   "metadata": {},
   "outputs": [
    {
     "data": {
      "text/plain": [
       "0    rt @fmartinel: reparar a las vctimas de la gue...\n",
       "1    rt @pochy1971: esperando a encontrar algo sobr...\n",
       "2    rt @fmartinel: la nica garanta que tiene este ...\n",
       "3    rt @gomezdcelis: tienes el poder de cambiar la...\n",
       "4    rt @gomezdcelis: tienes el poder de cambiar la...\n",
       "Name: text, dtype: object"
      ]
     },
     "execution_count": 56,
     "metadata": {},
     "output_type": "execute_result"
    }
   ],
   "source": [
    "result2['text'].head()"
   ]
  },
  {
   "cell_type": "markdown",
   "metadata": {},
   "source": [
    "+ Removing puntuation"
   ]
  },
  {
   "cell_type": "code",
   "execution_count": 57,
   "metadata": {},
   "outputs": [
    {
     "data": {
      "text/plain": [
       "0    rt fmartinel reparar a las vctimas de la guerr...\n",
       "1    rt pochy1971 esperando a encontrar algo sobre ...\n",
       "2    rt fmartinel la nica garanta que tiene este pa...\n",
       "3    rt gomezdcelis tienes el poder de cambiar las ...\n",
       "4    rt gomezdcelis tienes el poder de cambiar las ...\n",
       "Name: text, dtype: object"
      ]
     },
     "execution_count": 57,
     "metadata": {},
     "output_type": "execute_result"
    }
   ],
   "source": [
    "result2['text'] = result2['text'].str.replace('[^\\w\\s]', '')\n",
    "result2['text'].head()"
   ]
  },
  {
   "cell_type": "markdown",
   "metadata": {},
   "source": [
    "## Remove Stop Words\n",
    "\n",
    "Let's remove the stop words in Spanish."
   ]
  },
  {
   "cell_type": "code",
   "execution_count": 60,
   "metadata": {},
   "outputs": [],
   "source": [
    "from nltk.corpus import stopwords\n",
    "\n",
    "stop = stopwords.words('spanish')"
   ]
  },
  {
   "cell_type": "code",
   "execution_count": 64,
   "metadata": {},
   "outputs": [],
   "source": [
    "result2['text'] = result2['text'].apply(lambda x: \" \".join(x for x in x.split() if x not in stop))"
   ]
  },
  {
   "cell_type": "code",
   "execution_count": 65,
   "metadata": {},
   "outputs": [
    {
     "data": {
      "text/plain": [
       "0    rtfmartinelrepararvctimasguerrafranquismosacar...\n",
       "1    rtpochy1971esperandoencontrarsosprisiones110co...\n",
       "2    rtfmartinelnicagarantapasavanceprogresosensate...\n",
       "3    rtgomezdcelispodercambiarcosasaunquecreas28a11...\n",
       "4    rtgomezdcelispodercambiarcosasaunquecreas28a11...\n",
       "Name: text, dtype: object"
      ]
     },
     "execution_count": 65,
     "metadata": {},
     "output_type": "execute_result"
    }
   ],
   "source": [
    "result2['text'].head()"
   ]
  },
  {
   "cell_type": "markdown",
   "metadata": {},
   "source": [
    "## References\n",
    "\n",
    "+ https://www.analyticsvidhya.com/blog/2018/02/the-different-methods-deal-text-data-predictive-python/\n",
    "+ https://www.analyticsvidhya.com/blog/2018/07/hands-on-sentiment-analysis-dataset-python/\n",
    "+ https://monkeylearn.com/sentiment-analysis/\n",
    "+ https://rpubs.com/JaimeFC/415349"
   ]
  }
 ],
 "metadata": {
  "kernelspec": {
   "display_name": "Python 3",
   "language": "python",
   "name": "python3"
  },
  "language_info": {
   "codemirror_mode": {
    "name": "ipython",
    "version": 3
   },
   "file_extension": ".py",
   "mimetype": "text/x-python",
   "name": "python",
   "nbconvert_exporter": "python",
   "pygments_lexer": "ipython3",
   "version": "3.6.6"
  }
 },
 "nbformat": 4,
 "nbformat_minor": 2
}
